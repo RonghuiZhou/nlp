{
 "cells": [
  {
   "cell_type": "markdown",
   "metadata": {
    "collapsed": true
   },
   "source": [
    "# Natural Language Processing Nanodegree\n",
    "## Machine Translation Project\n",
    "In this notebook, sections that end with **'(IMPLEMENTATION)'** in the header indicate that the following blocks of code will require additional functionality which you must provide. Please be sure to read the instructions carefully!\n",
    "\n",
    "## Introduction\n",
    "In this notebook, you will build a deep neural network that functions as part of an end-to-end machine translation pipeline. Your completed pipeline will accept English text as input and return the French translation.\n",
    "\n",
    "- **Preprocess** - You'll convert text to sequence of integers.\n",
    "- **Models** Create models which accepts a sequence of integers as input and returns a probability distribution over possible translations. After learning about the basic types of neural networks that are often used for machine translation, you will engage in your own investigations, to design your own model!\n",
    "- **Prediction** Run the model on English text."
   ]
  },
  {
   "cell_type": "code",
   "execution_count": 1,
   "metadata": {},
   "outputs": [],
   "source": [
    "%load_ext autoreload\n",
    "%aimport helper, tests\n",
    "%autoreload 1"
   ]
  },
  {
   "cell_type": "code",
   "execution_count": 2,
   "metadata": {},
   "outputs": [
    {
     "name": "stderr",
     "output_type": "stream",
     "text": [
      "/home/thojo/anaconda3/lib/python3.6/site-packages/h5py/__init__.py:36: FutureWarning: Conversion of the second argument of issubdtype from `float` to `np.floating` is deprecated. In future, it will be treated as `np.float64 == np.dtype(float).type`.\n",
      "  from ._conv import register_converters as _register_converters\n",
      "Using TensorFlow backend.\n"
     ]
    }
   ],
   "source": [
    "import collections\n",
    "\n",
    "import helper\n",
    "import numpy as np\n",
    "import project_tests as tests\n",
    "\n",
    "from keras.preprocessing.text import Tokenizer\n",
    "from keras.preprocessing.sequence import pad_sequences\n",
    "from keras.models import Model\n",
    "from keras.layers import GRU, Input, Dense, TimeDistributed, Activation, RepeatVector, Bidirectional\n",
    "from keras.layers.embeddings import Embedding\n",
    "from keras.optimizers import Adam\n",
    "from keras.losses import sparse_categorical_crossentropy"
   ]
  },
  {
   "cell_type": "markdown",
   "metadata": {},
   "source": [
    "### Verify access to the GPU\n",
    "The following test applies only if you expect to be using a GPU, e.g., while running in a Udacity Workspace or using an AWS instance with GPU support. Run the next cell, and verify that the device_type is \"GPU\".\n",
    "- If the device is not GPU & you are running from a Udacity Workspace, then save your workspace with the icon at the top, then click \"enable\" at the bottom of the workspace.\n",
    "- If the device is not GPU & you are running from an AWS instance, then refer to the cloud computing instructions in the classroom to verify your setup steps."
   ]
  },
  {
   "cell_type": "code",
   "execution_count": 3,
   "metadata": {},
   "outputs": [
    {
     "name": "stdout",
     "output_type": "stream",
     "text": [
      "[name: \"/device:CPU:0\"\n",
      "device_type: \"CPU\"\n",
      "memory_limit: 268435456\n",
      "locality {\n",
      "}\n",
      "incarnation: 7179380916910134923\n",
      ", name: \"/device:GPU:0\"\n",
      "device_type: \"GPU\"\n",
      "memory_limit: 1275789312\n",
      "locality {\n",
      "  bus_id: 1\n",
      "  links {\n",
      "  }\n",
      "}\n",
      "incarnation: 12969340071826400143\n",
      "physical_device_desc: \"device: 0, name: Quadro K620, pci bus id: 0000:01:00.0, compute capability: 5.0\"\n",
      "]\n"
     ]
    }
   ],
   "source": [
    "from tensorflow.python.client import device_lib\n",
    "print(device_lib.list_local_devices())"
   ]
  },
  {
   "cell_type": "markdown",
   "metadata": {},
   "source": [
    "## Dataset\n",
    "We begin by investigating the dataset that will be used to train and evaluate your pipeline.  The most common datasets used for machine translation are from [WMT](http://www.statmt.org/).  However, that will take a long time to train a neural network on.  We'll be using a dataset we created for this project that contains a small vocabulary.  You'll be able to train your model in a reasonable time with this dataset.\n",
    "### Load Data\n",
    "The data is located in `data/small_vocab_en` and `data/small_vocab_fr`. The `small_vocab_en` file contains English sentences with their French translations in the `small_vocab_fr` file. Load the English and French data from these files from running the cell below."
   ]
  },
  {
   "cell_type": "code",
   "execution_count": 4,
   "metadata": {},
   "outputs": [
    {
     "name": "stdout",
     "output_type": "stream",
     "text": [
      "Dataset Loaded\n"
     ]
    }
   ],
   "source": [
    "# Load English data\n",
    "english_sentences = helper.load_data('data/small_vocab_en')\n",
    "# Load French data\n",
    "french_sentences = helper.load_data('data/small_vocab_fr')\n",
    "\n",
    "print('Dataset Loaded')"
   ]
  },
  {
   "cell_type": "markdown",
   "metadata": {},
   "source": [
    "### Files\n",
    "Each line in `small_vocab_en` contains an English sentence with the respective translation in each line of `small_vocab_fr`.  View the first two lines from each file."
   ]
  },
  {
   "cell_type": "code",
   "execution_count": 5,
   "metadata": {},
   "outputs": [
    {
     "name": "stdout",
     "output_type": "stream",
     "text": [
      "small_vocab_en Line 1:  new jersey is sometimes quiet during autumn , and it is snowy in april .\n",
      "small_vocab_fr Line 1:  new jersey est parfois calme pendant l' automne , et il est neigeux en avril .\n",
      "small_vocab_en Line 2:  the united states is usually chilly during july , and it is usually freezing in november .\n",
      "small_vocab_fr Line 2:  les états-unis est généralement froid en juillet , et il gèle habituellement en novembre .\n"
     ]
    }
   ],
   "source": [
    "for sample_i in range(2):\n",
    "    print('small_vocab_en Line {}:  {}'.format(sample_i + 1, english_sentences[sample_i]))\n",
    "    print('small_vocab_fr Line {}:  {}'.format(sample_i + 1, french_sentences[sample_i]))"
   ]
  },
  {
   "cell_type": "markdown",
   "metadata": {},
   "source": [
    "From looking at the sentences, you can see they have been preprocessed already.  The puncuations have been delimited using spaces. All the text have been converted to lowercase.  This should save you some time, but the text requires more preprocessing.\n",
    "### Vocabulary\n",
    "The complexity of the problem is determined by the complexity of the vocabulary.  A more complex vocabulary is a more complex problem.  Let's look at the complexity of the dataset we'll be working with."
   ]
  },
  {
   "cell_type": "code",
   "execution_count": 6,
   "metadata": {},
   "outputs": [
    {
     "name": "stdout",
     "output_type": "stream",
     "text": [
      "1823250 English words.\n",
      "227 unique English words.\n",
      "10 Most common words in the English dataset:\n",
      "\"is\" \",\" \".\" \"in\" \"it\" \"during\" \"the\" \"but\" \"and\" \"sometimes\"\n",
      "\n",
      "1961295 French words.\n",
      "355 unique French words.\n",
      "10 Most common words in the French dataset:\n",
      "\"est\" \".\" \",\" \"en\" \"il\" \"les\" \"mais\" \"et\" \"la\" \"parfois\"\n"
     ]
    }
   ],
   "source": [
    "english_words_counter = collections.Counter([word for sentence in english_sentences for word in sentence.split()])\n",
    "french_words_counter = collections.Counter([word for sentence in french_sentences for word in sentence.split()])\n",
    "\n",
    "print('{} English words.'.format(len([word for sentence in english_sentences for word in sentence.split()])))\n",
    "print('{} unique English words.'.format(len(english_words_counter)))\n",
    "print('10 Most common words in the English dataset:')\n",
    "print('\"' + '\" \"'.join(list(zip(*english_words_counter.most_common(10)))[0]) + '\"')\n",
    "print()\n",
    "print('{} French words.'.format(len([word for sentence in french_sentences for word in sentence.split()])))\n",
    "print('{} unique French words.'.format(len(french_words_counter)))\n",
    "print('10 Most common words in the French dataset:')\n",
    "print('\"' + '\" \"'.join(list(zip(*french_words_counter.most_common(10)))[0]) + '\"')"
   ]
  },
  {
   "cell_type": "markdown",
   "metadata": {},
   "source": [
    "For comparison, _Alice's Adventures in Wonderland_ contains 2,766 unique words of a total of 15,500 words.\n",
    "## Preprocess\n",
    "For this project, you won't use text data as input to your model. Instead, you'll convert the text into sequences of integers using the following preprocess methods:\n",
    "1. Tokenize the words into ids\n",
    "2. Add padding to make all the sequences the same length.\n",
    "\n",
    "Time to start preprocessing the data...\n",
    "### Tokenize (IMPLEMENTATION)\n",
    "For a neural network to predict on text data, it first has to be turned into data it can understand. Text data like \"dog\" is a sequence of ASCII character encodings.  Since a neural network is a series of multiplication and addition operations, the input data needs to be number(s).\n",
    "\n",
    "We can turn each character into a number or each word into a number.  These are called character and word ids, respectively.  Character ids are used for character level models that generate text predictions for each character.  A word level model uses word ids that generate text predictions for each word.  Word level models tend to learn better, since they are lower in complexity, so we'll use those.\n",
    "\n",
    "Turn each sentence into a sequence of words ids using Keras's [`Tokenizer`](https://keras.io/preprocessing/text/#tokenizer) function. Use this function to tokenize `english_sentences` and `french_sentences` in the cell below.\n",
    "\n",
    "Running the cell will run `tokenize` on sample data and show output for debugging."
   ]
  },
  {
   "cell_type": "code",
   "execution_count": 7,
   "metadata": {},
   "outputs": [
    {
     "name": "stdout",
     "output_type": "stream",
     "text": [
      "{'the': 1, 'quick': 2, 'a': 3, 'brown': 4, 'fox': 5, 'jumps': 6, 'over': 7, 'lazy': 8, 'dog': 9, 'by': 10, 'jove': 11, 'my': 12, 'study': 13, 'of': 14, 'lexicography': 15, 'won': 16, 'prize': 17, 'this': 18, 'is': 19, 'short': 20, 'sentence': 21}\n",
      "\n",
      "Sequence 1 in x\n",
      "  Input:  The quick brown fox jumps over the lazy dog .\n",
      "  Output: [1, 2, 4, 5, 6, 7, 1, 8, 9]\n",
      "Sequence 2 in x\n",
      "  Input:  By Jove , my quick study of lexicography won a prize .\n",
      "  Output: [10, 11, 12, 2, 13, 14, 15, 16, 3, 17]\n",
      "Sequence 3 in x\n",
      "  Input:  This is a short sentence .\n",
      "  Output: [18, 19, 3, 20, 21]\n"
     ]
    }
   ],
   "source": [
    "def tokenize(x):\n",
    "    \"\"\"\n",
    "    Tokenize x\n",
    "    :param x: List of sentences/strings to be tokenized\n",
    "    :return: Tuple of (tokenized x data, tokenizer used to tokenize x)\n",
    "    \"\"\"\n",
    "    # TODO: Implement\n",
    "    x_tk = Tokenizer(char_level=False)\n",
    "    x_tk.fit_on_texts(x)\n",
    "\n",
    "    return x_tk.texts_to_sequences(x), x_tk\n",
    "\n",
    "    return None, None\n",
    "tests.test_tokenize(tokenize)\n",
    "\n",
    "# Tokenize Example output\n",
    "text_sentences = [\n",
    "    'The quick brown fox jumps over the lazy dog .',\n",
    "    'By Jove , my quick study of lexicography won a prize .',\n",
    "    'This is a short sentence .']\n",
    "text_tokenized, text_tokenizer = tokenize(text_sentences)\n",
    "print(text_tokenizer.word_index)\n",
    "print()\n",
    "for sample_i, (sent, token_sent) in enumerate(zip(text_sentences, text_tokenized)):\n",
    "    print('Sequence {} in x'.format(sample_i + 1))\n",
    "    print('  Input:  {}'.format(sent))\n",
    "    print('  Output: {}'.format(token_sent))"
   ]
  },
  {
   "cell_type": "markdown",
   "metadata": {},
   "source": [
    "### Padding (IMPLEMENTATION)\n",
    "When batching the sequence of word ids together, each sequence needs to be the same length.  Since sentences are dynamic in length, we can add padding to the end of the sequences to make them the same length.\n",
    "\n",
    "Make sure all the English sequences have the same length and all the French sequences have the same length by adding padding to the **end** of each sequence using Keras's [`pad_sequences`](https://keras.io/preprocessing/sequence/#pad_sequences) function."
   ]
  },
  {
   "cell_type": "code",
   "execution_count": 8,
   "metadata": {},
   "outputs": [
    {
     "name": "stdout",
     "output_type": "stream",
     "text": [
      "Sequence 1 in x\n",
      "  Input:  [1 2 4 5 6 7 1 8 9]\n",
      "  Output: [1 2 4 5 6 7 1 8 9 0]\n",
      "Sequence 2 in x\n",
      "  Input:  [10 11 12  2 13 14 15 16  3 17]\n",
      "  Output: [10 11 12  2 13 14 15 16  3 17]\n",
      "Sequence 3 in x\n",
      "  Input:  [18 19  3 20 21]\n",
      "  Output: [18 19  3 20 21  0  0  0  0  0]\n"
     ]
    }
   ],
   "source": [
    "import numpy as np\n",
    "from keras.preprocessing.sequence import pad_sequences\n",
    "\n",
    "def pad(x, length=None):\n",
    "    \"\"\"\n",
    "    Pad x\n",
    "    :param x: List of sequences.\n",
    "    :param length: Length to pad the sequence to.  If None, use length of longest sequence in x.\n",
    "    :return: Padded numpy array of sequences\n",
    "    \"\"\"\n",
    "    # TODO: Implement\n",
    "    if length is None:\n",
    "        length = max([len(sentence) for sentence in x])\n",
    "    return pad_sequences(x, maxlen=length, padding='post')\n",
    "\n",
    "tests.test_pad(pad)\n",
    "\n",
    "# Pad Tokenized output\n",
    "test_pad = pad(text_tokenized)\n",
    "for sample_i, (token_sent, pad_sent) in enumerate(zip(text_tokenized, test_pad)):\n",
    "    print('Sequence {} in x'.format(sample_i + 1))\n",
    "    print('  Input:  {}'.format(np.array(token_sent)))\n",
    "    print('  Output: {}'.format(pad_sent))"
   ]
  },
  {
   "cell_type": "markdown",
   "metadata": {},
   "source": [
    "### Preprocess Pipeline\n",
    "Your focus for this project is to build neural network architecture, so we won't ask you to create a preprocess pipeline.  Instead, we've provided you with the implementation of the `preprocess` function."
   ]
  },
  {
   "cell_type": "code",
   "execution_count": 9,
   "metadata": {},
   "outputs": [
    {
     "name": "stdout",
     "output_type": "stream",
     "text": [
      "Data Preprocessed\n",
      "Max English sentence length: 15\n",
      "Max French sentence length: 21\n",
      "English vocabulary size: 199\n",
      "French vocabulary size: 344\n"
     ]
    }
   ],
   "source": [
    "def preprocess(x, y):\n",
    "    \"\"\"\n",
    "    Preprocess x and y\n",
    "    :param x: Feature List of sentences\n",
    "    :param y: Label List of sentences\n",
    "    :return: Tuple of (Preprocessed x, Preprocessed y, x tokenizer, y tokenizer)\n",
    "    \"\"\"\n",
    "    preprocess_x, x_tk = tokenize(x)\n",
    "    preprocess_y, y_tk = tokenize(y)\n",
    "\n",
    "    preprocess_x = pad(preprocess_x)\n",
    "    preprocess_y = pad(preprocess_y)\n",
    "\n",
    "    # Keras's sparse_categorical_crossentropy function requires the labels to be in 3 dimensions\n",
    "    preprocess_y = preprocess_y.reshape(*preprocess_y.shape, 1)\n",
    "\n",
    "    return preprocess_x, preprocess_y, x_tk, y_tk\n",
    "\n",
    "preproc_english_sentences, preproc_french_sentences, english_tokenizer, french_tokenizer =\\\n",
    "    preprocess(english_sentences, french_sentences)\n",
    "    \n",
    "max_english_sequence_length = preproc_english_sentences.shape[1]\n",
    "max_french_sequence_length = preproc_french_sentences.shape[1]\n",
    "english_vocab_size = len(english_tokenizer.word_index)\n",
    "french_vocab_size = len(french_tokenizer.word_index)\n",
    "\n",
    "print('Data Preprocessed')\n",
    "print(\"Max English sentence length:\", max_english_sequence_length)\n",
    "print(\"Max French sentence length:\", max_french_sequence_length)\n",
    "print(\"English vocabulary size:\", english_vocab_size)\n",
    "print(\"French vocabulary size:\", french_vocab_size)"
   ]
  },
  {
   "cell_type": "markdown",
   "metadata": {},
   "source": [
    "## Models\n",
    "In this section, you will experiment with various neural network architectures.\n",
    "You will begin by training four relatively simple architectures.\n",
    "- Model 1 is a simple RNN\n",
    "- Model 2 is a RNN with Embedding\n",
    "- Model 3 is a Bidirectional RNN\n",
    "- Model 4 is an optional Encoder-Decoder RNN\n",
    "\n",
    "After experimenting with the four simple architectures, you will construct a deeper architecture that is designed to outperform all four models.\n",
    "### Ids Back to Text\n",
    "The neural network will be translating the input to words ids, which isn't the final form we want.  We want the French translation.  The function `logits_to_text` will bridge the gab between the logits from the neural network to the French translation.  You'll be using this function to better understand the output of the neural network."
   ]
  },
  {
   "cell_type": "code",
   "execution_count": 10,
   "metadata": {},
   "outputs": [
    {
     "name": "stdout",
     "output_type": "stream",
     "text": [
      "`logits_to_text` function loaded.\n"
     ]
    }
   ],
   "source": [
    "def logits_to_text(logits, tokenizer):\n",
    "    \"\"\"\n",
    "    Turn logits from a neural network into text using the tokenizer\n",
    "    :param logits: Logits from a neural network\n",
    "    :param tokenizer: Keras Tokenizer fit on the labels\n",
    "    :return: String that represents the text of the logits\n",
    "    \"\"\"\n",
    "    index_to_words = {id: word for word, id in tokenizer.word_index.items()}\n",
    "    index_to_words[0] = '<PAD>'\n",
    "\n",
    "    return ' '.join([index_to_words[prediction] for prediction in np.argmax(logits, 1)])\n",
    "\n",
    "print('`logits_to_text` function loaded.')"
   ]
  },
  {
   "cell_type": "markdown",
   "metadata": {},
   "source": [
    "### Model 1: RNN (IMPLEMENTATION)\n",
    "![RNN](images/rnn.png)\n",
    "A basic RNN model is a good baseline for sequence data.  In this model, you'll build a RNN that translates English to French."
   ]
  },
  {
   "cell_type": "code",
   "execution_count": 11,
   "metadata": {},
   "outputs": [],
   "source": [
    "def simple_model(input_shape, output_sequence_length, english_vocab_size, french_vocab_size):\n",
    "    \"\"\"\n",
    "    Build and train a basic RNN on x and y\n",
    "    :param input_shape: Tuple of input shape\n",
    "    :param output_sequence_length: Length of output sequence\n",
    "    :param english_vocab_size: Number of unique English words in the dataset\n",
    "    :param french_vocab_size: Number of unique French words in the dataset\n",
    "    :return: Keras model built, but not trained\n",
    "    \"\"\"\n",
    "    # TODO: Build the layers\n",
    "    learning_rate = 1e-3\n",
    "\n",
    "    input_seq = Input(input_shape[1:])\n",
    "    rnn = GRU(128, return_sequences=True)(input_seq)\n",
    "    logits = TimeDistributed(Dense(french_vocab_size))(rnn)\n",
    "\n",
    "    model = Model(input_seq, Activation('softmax')(logits))\n",
    "    model.compile(loss=sparse_categorical_crossentropy,\n",
    "                  optimizer=Adam(learning_rate),\n",
    "                  metrics=['accuracy'])\n",
    "    return model\n",
    "tests.test_simple_model(simple_model)\n",
    "\n",
    "# Reshaping the input to work with a basic RNN\n",
    "tmp_x = pad(preproc_english_sentences, max_french_sequence_length)\n",
    "tmp_x = tmp_x.reshape((-1, preproc_french_sentences.shape[-2], 1))\n",
    "\n",
    "# Train the neural network\n",
    "simple_rnn_model = simple_model(\n",
    "    tmp_x.shape,\n",
    "    max_french_sequence_length,\n",
    "    english_vocab_size,\n",
    "    french_vocab_size)"
   ]
  },
  {
   "cell_type": "code",
   "execution_count": 12,
   "metadata": {},
   "outputs": [
    {
     "name": "stdout",
     "output_type": "stream",
     "text": [
      "Train on 110288 samples, validate on 27573 samples\n",
      "Epoch 1/10\n",
      "110288/110288 [==============================] - 51s 460us/step - loss: 1.7853 - acc: 0.5743 - val_loss: nan - val_acc: 0.6287\n",
      "Epoch 2/10\n",
      "110288/110288 [==============================] - 50s 451us/step - loss: 1.2166 - acc: 0.6499 - val_loss: nan - val_acc: 0.6633\n",
      "Epoch 3/10\n",
      "110288/110288 [==============================] - 50s 452us/step - loss: 1.0790 - acc: 0.6687 - val_loss: nan - val_acc: 0.6744\n",
      "Epoch 4/10\n",
      "110288/110288 [==============================] - 50s 452us/step - loss: 1.0021 - acc: 0.6811 - val_loss: nan - val_acc: 0.6879\n",
      "Epoch 5/10\n",
      "110288/110288 [==============================] - 50s 455us/step - loss: 0.9485 - acc: 0.6911 - val_loss: nan - val_acc: 0.6973\n",
      "Epoch 6/10\n",
      "110288/110288 [==============================] - 50s 453us/step - loss: 0.9071 - acc: 0.7006 - val_loss: nan - val_acc: 0.7053\n",
      "Epoch 7/10\n",
      "110288/110288 [==============================] - 50s 453us/step - loss: 0.8721 - acc: 0.7130 - val_loss: nan - val_acc: 0.7253\n",
      "Epoch 8/10\n",
      "110288/110288 [==============================] - 50s 455us/step - loss: 0.8321 - acc: 0.7315 - val_loss: nan - val_acc: 0.7237\n",
      "Epoch 9/10\n",
      "110288/110288 [==============================] - 50s 454us/step - loss: 0.7967 - acc: 0.7495 - val_loss: nan - val_acc: 0.7490\n",
      "Epoch 10/10\n",
      "110288/110288 [==============================] - 50s 456us/step - loss: 0.7677 - acc: 0.7619 - val_loss: nan - val_acc: 0.7618\n",
      "new jersey est parfois calme en mois de il est est est en en <PAD> <PAD> <PAD> <PAD> <PAD> <PAD> <PAD>\n"
     ]
    }
   ],
   "source": [
    "simple_rnn_model.fit(tmp_x, preproc_french_sentences, batch_size=128, epochs=10, validation_split=0.2)\n",
    "\n",
    "# Print prediction(s)\n",
    "print(logits_to_text(simple_rnn_model.predict(tmp_x[:1])[0], french_tokenizer))"
   ]
  },
  {
   "cell_type": "code",
   "execution_count": 13,
   "metadata": {},
   "outputs": [],
   "source": [
    "simple_rnn_model.save('saved_models/simple_rnn_model.h5')\n",
    "del simple_rnn_model"
   ]
  },
  {
   "cell_type": "markdown",
   "metadata": {},
   "source": [
    "### Model 2: Embedding (IMPLEMENTATION)\n",
    "![RNN](images/embedding.png)\n",
    "You've turned the words into ids, but there's a better representation of a word.  This is called word embeddings.  An embedding is a vector representation of the word that is close to similar words in n-dimensional space, where the n represents the size of the embedding vectors.\n",
    "\n",
    "In this model, you'll create a RNN model using embedding."
   ]
  },
  {
   "cell_type": "code",
   "execution_count": 14,
   "metadata": {},
   "outputs": [],
   "source": [
    "from keras.layers import Embedding, LSTM\n",
    "\n",
    "def embed_model(input_shape, output_sequence_length, english_vocab_size, french_vocab_size):\n",
    "    \"\"\"\n",
    "    Build and train a RNN model using word embedding on x and y\n",
    "    :param input_shape: Tuple of input shape\n",
    "    :param output_sequence_length: Length of output sequence\n",
    "    :param english_vocab_size: Number of unique English words in the dataset\n",
    "    :param french_vocab_size: Number of unique French words in the dataset\n",
    "    :return: Keras model built, but not trained\n",
    "    \"\"\"\n",
    "    # Implement model with embedding\n",
    "    embed_size = 200 \n",
    "    learning_rate = 1e-3\n",
    "    input_seq = Input(input_shape[1:])\n",
    "    embed = Embedding(english_vocab_size, embed_size, input_length=input_shape[-1])(input_seq)\n",
    "    rnn = LSTM(128, return_sequences=True)(embed) # accuracy = 87%\n",
    "    logits = TimeDistributed(Dense(french_vocab_size))(rnn)\n",
    "\n",
    "    model = Model(input_seq, Activation('softmax')(logits))\n",
    "    model.compile(loss=sparse_categorical_crossentropy,\n",
    "                  optimizer=Adam(learning_rate),\n",
    "                  metrics=['accuracy'])\n",
    "    return model\n",
    "\n",
    "tests.test_embed_model(embed_model)\n",
    "\n",
    "\n",
    "\n",
    "# TODO: Reshape the input. I'm just padding\n",
    "tmp_x = pad(preproc_english_sentences, max_french_sequence_length)\n",
    "# tmp_x = tmp_x.reshape((-1, preproc_french_sentences.shape[-2], 1))\n",
    "\n",
    "# Train the neural network\n",
    "rnn_with_embedding_model = embed_model(\n",
    "    tmp_x.shape,\n",
    "    max_french_sequence_length,\n",
    "    english_vocab_size,\n",
    "    french_vocab_size)"
   ]
  },
  {
   "cell_type": "code",
   "execution_count": 15,
   "metadata": {},
   "outputs": [
    {
     "name": "stdout",
     "output_type": "stream",
     "text": [
      "Train on 110288 samples, validate on 27573 samples\n",
      "Epoch 1/10\n",
      "110288/110288 [==============================] - 61s 556us/step - loss: 1.4955 - acc: 0.6638 - val_loss: nan - val_acc: 0.8216\n",
      "Epoch 2/10\n",
      "110288/110288 [==============================] - 61s 549us/step - loss: 0.4788 - acc: 0.8562 - val_loss: nan - val_acc: 0.8815\n",
      "Epoch 3/10\n",
      "110288/110288 [==============================] - 61s 550us/step - loss: 0.3376 - acc: 0.8943 - val_loss: nan - val_acc: 0.9043\n",
      "Epoch 4/10\n",
      "110288/110288 [==============================] - 61s 550us/step - loss: 0.2808 - acc: 0.9103 - val_loss: nan - val_acc: 0.9160\n",
      "Epoch 5/10\n",
      "110288/110288 [==============================] - 61s 549us/step - loss: 0.2486 - acc: 0.9191 - val_loss: nan - val_acc: 0.9194\n",
      "Epoch 6/10\n",
      "110288/110288 [==============================] - 61s 550us/step - loss: 0.2309 - acc: 0.9236 - val_loss: nan - val_acc: 0.9259\n",
      "Epoch 7/10\n",
      "110288/110288 [==============================] - 60s 542us/step - loss: 0.2174 - acc: 0.9272 - val_loss: nan - val_acc: 0.9270\n",
      "Epoch 8/10\n",
      "110288/110288 [==============================] - 59s 539us/step - loss: 0.2075 - acc: 0.9296 - val_loss: nan - val_acc: 0.9293\n",
      "Epoch 9/10\n",
      "110288/110288 [==============================] - 59s 537us/step - loss: 0.1995 - acc: 0.9315 - val_loss: nan - val_acc: 0.9305\n",
      "Epoch 10/10\n",
      "110288/110288 [==============================] - 59s 537us/step - loss: 0.1944 - acc: 0.9327 - val_loss: nan - val_acc: 0.9308\n",
      "new jersey est parfois calme en l' automne et il est neigeux en avril <PAD> <PAD> <PAD> <PAD> <PAD> <PAD> <PAD>\n"
     ]
    }
   ],
   "source": [
    "rnn_with_embedding_model.fit(tmp_x, preproc_french_sentences, batch_size=128, epochs=10, validation_split=0.2)\n",
    "\n",
    "# Print prediction(s)\n",
    "print(logits_to_text(rnn_with_embedding_model.predict(tmp_x[:1])[0], french_tokenizer))"
   ]
  },
  {
   "cell_type": "code",
   "execution_count": 16,
   "metadata": {},
   "outputs": [],
   "source": [
    "rnn_with_embedding_model.save('saved_models/rnn_with_embedding_model.h5')\n",
    "del rnn_with_embedding_model"
   ]
  },
  {
   "cell_type": "markdown",
   "metadata": {},
   "source": [
    "### Model 3: Bidirectional RNNs (IMPLEMENTATION)\n",
    "![RNN](images/bidirectional.png)\n",
    "One restriction of a RNN is that it can't see the future input, only the past.  This is where bidirectional recurrent neural networks come in.  They are able to see the future data."
   ]
  },
  {
   "cell_type": "code",
   "execution_count": 17,
   "metadata": {},
   "outputs": [],
   "source": [
    "from keras.layers import Bidirectional \n",
    "from  keras.models  import Sequential\n",
    "from keras.layers import LSTM\n",
    "\n",
    "def bd_model(input_shape, output_sequence_length, english_vocab_size, french_vocab_size):\n",
    "    \"\"\"\n",
    "    Build and train a bidirectional RNN model on x and y\n",
    "    :param input_shape: Tuple of input shape\n",
    "    :param output_sequence_length: Length of output sequence\n",
    "    :param english_vocab_size: Number of unique English words in the dataset\n",
    "    :param french_vocab_size: Number of unique French words in the dataset\n",
    "    :return: Keras model built, but not trained\n",
    "    \"\"\"\n",
    "\n",
    "    hidden_units = 128\n",
    "    \n",
    "    # GRU implementation (about 76% accuracy)\n",
    "    input_seq = Input(input_shape[1:])\n",
    "    bd = Bidirectional( GRU( hidden_units, return_sequences=True) )( input_seq )\n",
    "    bd = Bidirectional( GRU( hidden_units, return_sequences=True) )( bd ) #this second layer is just for experimenting\n",
    "    logits = TimeDistributed(Dense(french_vocab_size))(bd)\n",
    "    model = Model(input_seq, Activation('softmax')(logits))\n",
    "\n",
    "    \n",
    "    # LSTM implementation using Sequential (about 60% accuracy)\n",
    "#     model = Sequential()\n",
    "#     model.add(Bidirectional(LSTM(hidden_units, return_sequences = True, dropout = 0.2, recurrent_dropout = 0.2),\n",
    "#                             input_shape = input_shape[1:]))\n",
    "#     model.add(Bidirectional(LSTM(hidden_units, return_sequences = True, dropout = 0.2, recurrent_dropout = 0.2) ))\n",
    "#     model.add(TimeDistributed(Dense(french_vocab_size, activation='softmax')))\n",
    "\n",
    "    ################\n",
    "    learning_rate = 1e-3\n",
    "    model.compile(loss=sparse_categorical_crossentropy,\n",
    "                  optimizer=Adam(learning_rate),\n",
    "                  metrics=['accuracy'])\n",
    "    return model\n",
    "tests.test_bd_model(bd_model)\n",
    "\n",
    "\n",
    "# TODO: Train and Print prediction(s)\n",
    "tmp_x = pad(preproc_english_sentences, max_french_sequence_length)\n",
    "tmp_x = tmp_x.reshape((-1, preproc_french_sentences.shape[-2], 1))\n",
    "\n",
    "# Train the neural network\n",
    "bidirectional_model = bd_model(\n",
    "    tmp_x.shape,\n",
    "    max_french_sequence_length,\n",
    "    english_vocab_size,\n",
    "    french_vocab_size)"
   ]
  },
  {
   "cell_type": "code",
   "execution_count": 18,
   "metadata": {},
   "outputs": [
    {
     "name": "stdout",
     "output_type": "stream",
     "text": [
      "Train on 110288 samples, validate on 27573 samples\n",
      "Epoch 1/10\n",
      "110288/110288 [==============================] - 137s 1ms/step - loss: 1.3221 - acc: 0.6466 - val_loss: nan - val_acc: 0.7131\n",
      "Epoch 2/10\n",
      "110288/110288 [==============================] - 135s 1ms/step - loss: 0.8104 - acc: 0.7426 - val_loss: nan - val_acc: 0.7605\n",
      "Epoch 3/10\n",
      "110288/110288 [==============================] - 135s 1ms/step - loss: 0.6788 - acc: 0.7760 - val_loss: nan - val_acc: 0.7765\n",
      "Epoch 4/10\n",
      "110288/110288 [==============================] - 134s 1ms/step - loss: 0.5901 - acc: 0.8003 - val_loss: nan - val_acc: 0.8115\n",
      "Epoch 5/10\n",
      "110288/110288 [==============================] - 135s 1ms/step - loss: 0.5373 - acc: 0.8155 - val_loss: nan - val_acc: 0.8201\n",
      "Epoch 6/10\n",
      "110288/110288 [==============================] - 135s 1ms/step - loss: 0.5044 - acc: 0.8249 - val_loss: nan - val_acc: 0.8073\n",
      "Epoch 7/10\n",
      "110288/110288 [==============================] - 137s 1ms/step - loss: 0.4583 - acc: 0.8388 - val_loss: nan - val_acc: 0.8016\n",
      "Epoch 8/10\n",
      "110288/110288 [==============================] - 136s 1ms/step - loss: 0.4283 - acc: 0.8495 - val_loss: nan - val_acc: 0.8402\n",
      "Epoch 9/10\n",
      "110288/110288 [==============================] - 136s 1ms/step - loss: 0.3993 - acc: 0.8596 - val_loss: nan - val_acc: 0.8731\n",
      "Epoch 10/10\n",
      "110288/110288 [==============================] - 135s 1ms/step - loss: 0.3707 - acc: 0.8699 - val_loss: nan - val_acc: 0.8803\n",
      "new jersey est parfois calme pendant l' et il est il est avril <PAD> <PAD> <PAD> <PAD> <PAD> <PAD> <PAD> <PAD>\n"
     ]
    }
   ],
   "source": [
    "bidirectional_model.fit(tmp_x, preproc_french_sentences, batch_size=128, epochs=10, validation_split=0.2)\n",
    "\n",
    "# Print prediction(s)\n",
    "print(logits_to_text(bidirectional_model.predict(tmp_x[:1])[0], french_tokenizer))"
   ]
  },
  {
   "cell_type": "code",
   "execution_count": 19,
   "metadata": {},
   "outputs": [],
   "source": [
    "bidirectional_model.save('saved_models/bidirectional_model.h5')\n",
    "del bidirectional_model"
   ]
  },
  {
   "cell_type": "markdown",
   "metadata": {},
   "source": [
    "### Model 4: Encoder-Decoder (OPTIONAL)\n",
    "Time to look at encoder-decoder models.  This model is made up of an encoder and decoder. The encoder creates a matrix representation of the sentence.  The decoder takes this matrix as input and predicts the translation as output.\n",
    "\n",
    "Create an encoder-decoder model in the cell below."
   ]
  },
  {
   "cell_type": "code",
   "execution_count": 41,
   "metadata": {},
   "outputs": [
    {
     "name": "stdout",
     "output_type": "stream",
     "text": [
      "_________________________________________________________________\n",
      "Layer (type)                 Output Shape              Param #   \n",
      "=================================================================\n",
      "gru_20 (GRU)                 (None, 128)               49920     \n",
      "_________________________________________________________________\n",
      "repeat_vector_11 (RepeatVect (None, 21, 128)           0         \n",
      "_________________________________________________________________\n",
      "gru_21 (GRU)                 (None, 21, 128)           98688     \n",
      "_________________________________________________________________\n",
      "time_distributed_22 (TimeDis (None, 21, 344)           44376     \n",
      "_________________________________________________________________\n",
      "activation_18 (Activation)   (None, 21, 344)           0         \n",
      "=================================================================\n",
      "Total params: 192,984\n",
      "Trainable params: 192,984\n",
      "Non-trainable params: 0\n",
      "_________________________________________________________________\n",
      "None\n"
     ]
    }
   ],
   "source": [
    "from keras.models import Model\n",
    "from keras.layers import Input, LSTM, Dense\n",
    "\n",
    "def encdec_model(input_shape, output_sequence_length, english_vocab_size, french_vocab_size):\n",
    "    \"\"\"\n",
    "    Build and train an encoder-decoder model on x and y\n",
    "    :param input_shape: Tuple of input shape\n",
    "    :param output_sequence_length: Length of output sequence\n",
    "    :param english_vocab_size: Number of unique English words in the dataset\n",
    "    :param french_vocab_size: Number of unique French words in the dataset\n",
    "    :return: Keras model built, but not trained\n",
    "    \"\"\"\n",
    "    num_hidden = 128\n",
    "#     ###################################### USING LSTMs ####### accuracy about 70%\n",
    "#     model = Sequential()\n",
    "#     # Encoder\n",
    "#     model.add(LSTM(num_hidden, go_backwards=True, input_shape=input_shape[1:])) # ?\n",
    "#     model.add(RepeatVector(output_sequence_length))\n",
    "#     # Decoder\n",
    "#     model.add(LSTM(num_hidden, return_sequences=True))\n",
    "#     model.add(TimeDistributed(Dense(french_vocab_size)))\n",
    "#     model.add(Activation('softmax'))    \n",
    "\n",
    "    ##################################### USING GRUs ####### accuracy about 75%\n",
    "    model = Sequential()\n",
    "    # Encoder\n",
    "    model.add(GRU(num_hidden, go_backwards=True, input_shape=input_shape[1:]))\n",
    "    model.add(RepeatVector(output_sequence_length))\n",
    "    # Decoder\n",
    "    model.add(GRU(num_hidden, return_sequences=True))\n",
    "    model.add(TimeDistributed(Dense(french_vocab_size)))\n",
    "    model.add(Activation('softmax'))    \n",
    "\n",
    "    \n",
    "    ##########################\n",
    "  \n",
    "    # Compile model\n",
    "    learning_rate = 1e-3\n",
    "    model.compile(loss = 'sparse_categorical_crossentropy',\n",
    "                 optimizer = Adam(learning_rate),\n",
    "                 metrics = ['accuracy'])\n",
    "    return model\n",
    "tests.test_encdec_model(encdec_model)\n",
    "# OPTIONAL: Train and Print prediction(s)\n",
    "tmp_x = pad(preproc_english_sentences, max_french_sequence_length)\n",
    "tmp_x = tmp_x.reshape((-1, preproc_french_sentences.shape[-2], 1))\n",
    "# Train the neural network\n",
    "ed_model = encdec_model(\n",
    "    tmp_x.shape,\n",
    "    max_french_sequence_length,\n",
    "    english_vocab_size,\n",
    "    french_vocab_size)\n",
    "\n",
    "print(ed_model.summary())"
   ]
  },
  {
   "cell_type": "code",
   "execution_count": 42,
   "metadata": {},
   "outputs": [
    {
     "name": "stdout",
     "output_type": "stream",
     "text": [
      "Train on 110288 samples, validate on 27573 samples\n",
      "Epoch 1/10\n",
      "110288/110288 [==============================] - 87s 789us/step - loss: 2.0255 - acc: 0.5288 - val_loss: nan - val_acc: 0.5953\n",
      "Epoch 2/10\n",
      "110288/110288 [==============================] - 82s 739us/step - loss: 1.4069 - acc: 0.6172 - val_loss: nan - val_acc: 0.6350\n",
      "Epoch 3/10\n",
      "110288/110288 [==============================] - 81s 736us/step - loss: 1.2016 - acc: 0.6577 - val_loss: nan - val_acc: 0.6762\n",
      "Epoch 4/10\n",
      "110288/110288 [==============================] - 82s 741us/step - loss: 1.0787 - acc: 0.6800 - val_loss: nan - val_acc: 0.6854\n",
      "Epoch 5/10\n",
      "110288/110288 [==============================] - 83s 750us/step - loss: 1.0334 - acc: 0.6864 - val_loss: nan - val_acc: 0.6799\n",
      "Epoch 6/10\n",
      "110288/110288 [==============================] - 83s 751us/step - loss: 0.9785 - acc: 0.7007 - val_loss: nan - val_acc: 0.6981\n",
      "Epoch 7/10\n",
      "110288/110288 [==============================] - 82s 745us/step - loss: 0.9265 - acc: 0.7144 - val_loss: nan - val_acc: 0.7245\n",
      "Epoch 8/10\n",
      "110288/110288 [==============================] - 82s 744us/step - loss: 0.8626 - acc: 0.7306 - val_loss: nan - val_acc: 0.7378\n",
      "Epoch 9/10\n",
      "110288/110288 [==============================] - 82s 743us/step - loss: 0.8210 - acc: 0.7376 - val_loss: nan - val_acc: 0.7390\n",
      "Epoch 10/10\n",
      "110288/110288 [==============================] - 83s 757us/step - loss: 0.7816 - acc: 0.7455 - val_loss: nan - val_acc: 0.7471\n",
      "new jersey est parfois humide en mois de il il il en en en <PAD> <PAD> <PAD> <PAD> <PAD> <PAD> <PAD>\n"
     ]
    }
   ],
   "source": [
    "ed_model.fit(tmp_x, preproc_french_sentences, batch_size=128, epochs=10, validation_split=0.2)\n",
    "\n",
    "# Print prediction(s)\n",
    "print(logits_to_text( ed_model.predict(tmp_x[:1])[0], french_tokenizer))"
   ]
  },
  {
   "cell_type": "code",
   "execution_count": 43,
   "metadata": {},
   "outputs": [],
   "source": [
    "ed_model.save('saved_models/ed_model.h5')\n",
    "del ed_model"
   ]
  },
  {
   "cell_type": "markdown",
   "metadata": {},
   "source": [
    "### Model 5: Custom (IMPLEMENTATION)\n",
    "Use everything you learned from the previous models to create a model that incorporates embedding and a bidirectional rnn into one model."
   ]
  },
  {
   "cell_type": "code",
   "execution_count": 23,
   "metadata": {},
   "outputs": [
    {
     "name": "stdout",
     "output_type": "stream",
     "text": [
      "Final Model Loaded\n"
     ]
    }
   ],
   "source": [
    "from keras.layers import Dropout\n",
    "def model_final(input_shape, output_sequence_length, english_vocab_size, french_vocab_size):\n",
    "    \"\"\"\n",
    "    Build and train a model that incorporates embedding, encoder-decoder, and bidirectional RNN on x and y\n",
    "    :param input_shape: Tuple of input shape\n",
    "    :param output_sequence_length: Length of output sequence\n",
    "    :param english_vocab_size: Number of unique English words in the dataset\n",
    "    :param french_vocab_size: Number of unique French words in the dataset\n",
    "    :return: Keras model built, but not trained\n",
    "    \"\"\"\n",
    "    # TODO: Implement\n",
    "    \n",
    "    embed_size = 200    \n",
    "    learning_rate = 1e-3\n",
    "    num_hidden = 128\n",
    "    \n",
    "    model = Sequential()\n",
    "    # Encoder part\n",
    "    model.add( Embedding(english_vocab_size, embed_size, input_length=input_shape[-1] ) )    \n",
    "    model.add( Bidirectional( LSTM(num_hidden, go_backwards=True, input_shape=input_shape[1:],  dropout = 0.4, recurrent_dropout = 0.4)) )  #keep the go_backwards?\n",
    "    model.add( RepeatVector(output_sequence_length) )\n",
    "    # Decoder part\n",
    "    model.add( Bidirectional( LSTM(num_hidden, return_sequences=True, dropout = 0.4, recurrent_dropout = 0.4)) ) \n",
    "    model.add( TimeDistributed( Dense(512) ) )\n",
    "    model.add(Dropout(0.5))\n",
    "    model.add( TimeDistributed( Dense(french_vocab_size) ) )\n",
    "    model.add( Activation('softmax') )\n",
    "\n",
    "    model.compile(loss=sparse_categorical_crossentropy,\n",
    "                  optimizer=Adam(learning_rate),\n",
    "                  metrics=['accuracy'])\n",
    "    return model\n",
    "    \n",
    "    return None\n",
    "tests.test_model_final(model_final)\n",
    "print('Final Model Loaded')"
   ]
  },
  {
   "cell_type": "code",
   "execution_count": 24,
   "metadata": {},
   "outputs": [
    {
     "name": "stdout",
     "output_type": "stream",
     "text": [
      "_________________________________________________________________\n",
      "Layer (type)                 Output Shape              Param #   \n",
      "=================================================================\n",
      "embedding_4 (Embedding)      (None, 1, 200)            39800     \n",
      "_________________________________________________________________\n",
      "bidirectional_7 (Bidirection (None, 256)               336896    \n",
      "_________________________________________________________________\n",
      "repeat_vector_4 (RepeatVecto (None, 21, 256)           0         \n",
      "_________________________________________________________________\n",
      "bidirectional_8 (Bidirection (None, 21, 256)           394240    \n",
      "_________________________________________________________________\n",
      "time_distributed_11 (TimeDis (None, 21, 512)           131584    \n",
      "_________________________________________________________________\n",
      "dropout_2 (Dropout)          (None, 21, 512)           0         \n",
      "_________________________________________________________________\n",
      "time_distributed_12 (TimeDis (None, 21, 344)           176472    \n",
      "_________________________________________________________________\n",
      "activation_10 (Activation)   (None, 21, 344)           0         \n",
      "=================================================================\n",
      "Total params: 1,078,992\n",
      "Trainable params: 1,078,992\n",
      "Non-trainable params: 0\n",
      "_________________________________________________________________\n",
      "None\n"
     ]
    }
   ],
   "source": [
    "# TODO: Train the final model\n",
    "tmp_x = pad(preproc_english_sentences, max_french_sequence_length)\n",
    "tmp_x = tmp_x.reshape((-1, preproc_french_sentences.shape[-2], 1))\n",
    "\n",
    "\n",
    "final_model = model_final(\n",
    "    tmp_x.shape,\n",
    "    max_french_sequence_length,\n",
    "    english_vocab_size,\n",
    "    french_vocab_size)\n",
    "\n",
    "print(final_model.summary())"
   ]
  },
  {
   "cell_type": "markdown",
   "metadata": {},
   "source": [
    "## Prediction (IMPLEMENTATION)"
   ]
  },
  {
   "cell_type": "code",
   "execution_count": 25,
   "metadata": {},
   "outputs": [],
   "source": [
    "def final_predictions(x, y, x_tk, y_tk):\n",
    "    \"\"\"\n",
    "    Gets predictions using the final model\n",
    "    :param x: Preprocessed English data\n",
    "    :param y: Preprocessed French data\n",
    "    :param x_tk: English tokenizer\n",
    "    :param y_tk: French tokenizer\n",
    "    \"\"\"\n",
    "    # note: x and y are already pre-processed\n",
    "    # TODO: Train neural network using model_final\n",
    "    model = model_final(x.shape, \n",
    "                        y.shape[1], \n",
    "                        len(x_tk.word_index), \n",
    "                        len(y_tk.word_index))\n",
    "    \n",
    "    model.fit(x, y, batch_size=128, epochs=10, validation_split=0.2)\n",
    "    \n",
    "    ## DON'T EDIT ANYTHING BELOW THIS LINE\n",
    "    y_id_to_word = {value: key for key, value in y_tk.word_index.items()}\n",
    "    y_id_to_word[0] = '<PAD>'\n",
    "\n",
    "    sentence = 'he saw a old yellow truck'\n",
    "    sentence = [x_tk.word_index[word] for word in sentence.split()]\n",
    "    sentence = pad_sequences([sentence], maxlen=x.shape[-1], padding='post')\n",
    "    sentences = np.array([sentence[0], x[0]])\n",
    "    predictions = model.predict(sentences, len(sentences))\n",
    "\n",
    "    print('Sample 1:')\n",
    "    print(' '.join([y_id_to_word[np.argmax(x)] for x in predictions[0]]))\n",
    "    print('Il a vu un vieux camion jaune')\n",
    "    print('Sample 2:')\n",
    "    print(' '.join([y_id_to_word[np.argmax(x)] for x in predictions[1]]))\n",
    "    print(' '.join([y_id_to_word[np.max(x)] for x in y[0]]))\n",
    "    return model"
   ]
  },
  {
   "cell_type": "code",
   "execution_count": 26,
   "metadata": {},
   "outputs": [
    {
     "name": "stdout",
     "output_type": "stream",
     "text": [
      "Train on 110288 samples, validate on 27573 samples\n",
      "Epoch 1/10\n",
      "110288/110288 [==============================] - 192s 2ms/step - loss: 1.7173 - acc: 0.5724 - val_loss: nan - val_acc: 0.7043\n",
      "Epoch 2/10\n",
      "110288/110288 [==============================] - 180s 2ms/step - loss: 1.0120 - acc: 0.7063 - val_loss: nan - val_acc: 0.7897\n",
      "Epoch 3/10\n",
      "110288/110288 [==============================] - 180s 2ms/step - loss: 0.7296 - acc: 0.7769 - val_loss: nan - val_acc: 0.8621\n",
      "Epoch 4/10\n",
      "110288/110288 [==============================] - 180s 2ms/step - loss: 0.5370 - acc: 0.8330 - val_loss: nan - val_acc: 0.9133\n",
      "Epoch 5/10\n",
      "110288/110288 [==============================] - 180s 2ms/step - loss: 0.4082 - acc: 0.8741 - val_loss: nan - val_acc: 0.9344\n",
      "Epoch 6/10\n",
      "110288/110288 [==============================] - 180s 2ms/step - loss: 0.3376 - acc: 0.8968 - val_loss: nan - val_acc: 0.9424\n",
      "Epoch 7/10\n",
      "110288/110288 [==============================] - 180s 2ms/step - loss: 0.2945 - acc: 0.9105 - val_loss: nan - val_acc: 0.9500\n",
      "Epoch 8/10\n",
      "110288/110288 [==============================] - 180s 2ms/step - loss: 0.2675 - acc: 0.9185 - val_loss: nan - val_acc: 0.9548\n",
      "Epoch 9/10\n",
      "110288/110288 [==============================] - 181s 2ms/step - loss: 0.2441 - acc: 0.9258 - val_loss: nan - val_acc: 0.9583\n",
      "Epoch 10/10\n",
      "110288/110288 [==============================] - 181s 2ms/step - loss: 0.2283 - acc: 0.9306 - val_loss: nan - val_acc: 0.9621\n",
      "Sample 1:\n",
      "il a vu un vieux camion jaune <PAD> <PAD> <PAD> <PAD> <PAD> <PAD> <PAD> <PAD> <PAD> <PAD> <PAD> <PAD> <PAD> <PAD>\n",
      "Il a vu un vieux camion jaune\n",
      "Sample 2:\n",
      "new jersey est parfois calme pendant l' automne et il est neigeux en avril <PAD> <PAD> <PAD> <PAD> <PAD> <PAD> <PAD>\n",
      "new jersey est parfois calme pendant l' automne et il est neigeux en avril <PAD> <PAD> <PAD> <PAD> <PAD> <PAD> <PAD>\n"
     ]
    }
   ],
   "source": [
    "full_model=final_predictions(preproc_english_sentences, preproc_french_sentences, english_tokenizer, french_tokenizer)"
   ]
  },
  {
   "cell_type": "code",
   "execution_count": 27,
   "metadata": {},
   "outputs": [],
   "source": [
    "full_model.save('saved_models/full_model.h5')\n",
    "del full_model"
   ]
  },
  {
   "cell_type": "markdown",
   "metadata": {},
   "source": [
    "# project notes:\n",
    "\n",
    "-  batch_size = 1024 works fine (though slow in all the above).  However, when I did the test-train split below, the GPu on my machine does not have enough memory for that batch_size for the full_model.  Therefore, for an apples-to-apples comparison, I have reduced the batch_size to 128 for all models in this notebook.\n",
    "\n",
    "-  I have used `go_backwards=True` for the encoding RNNs in the Encoder-Decoder model as well as the final_model per suggestions in places such as __[this link](https://cntk.ai/pythondocs/CNTK_204_Sequence_To_Sequence.html)__ which advice to use `False` for the attention models and `True` otherwise. However, I found that the models here also work with the default `go_backwards=False` but just have lower accuracy by about 5%. "
   ]
  },
  {
   "cell_type": "markdown",
   "metadata": {},
   "source": [
    "## Submission\n",
    "When you're ready to submit, complete the following steps:\n",
    "1. Review the [rubric](https://review.udacity.com/#!/rubrics/1004/view) to ensure your submission meets all requirements to pass\n",
    "2. Generate an HTML version of this notebook\n",
    "\n",
    "  - Run the next cell to attempt automatic generation (this is the recommended method in Workspaces)\n",
    "  - Navigate to **FILE -> Download as -> HTML (.html)**\n",
    "  - Manually generate a copy using `nbconvert` from your shell terminal\n",
    "```\n",
    "$ pip install nbconvert\n",
    "$ python -m nbconvert machine_translation.ipynb\n",
    "```\n",
    "  \n",
    "3. Submit the project\n",
    "\n",
    "  - If you are in a Workspace, simply click the \"Submit Project\" button (bottom towards the right)\n",
    "  \n",
    "  - Otherwise, add the following files into a zip archive and submit them \n",
    "  - `helper.py`\n",
    "  - `machine_translation.ipynb`\n",
    "  - `machine_translation.html`\n",
    "    - You can export the notebook by navigating to **File -> Download as -> HTML (.html)**."
   ]
  },
  {
   "cell_type": "markdown",
   "metadata": {},
   "source": [
    "## Optional Enhancements\n",
    "\n",
    "This project focuses on learning various network architectures for machine translation, but we don't evaluate the models according to best practices by splitting the data into separate test & training sets -- so the model accuracy is overstated. Use the [`sklearn.model_selection.train_test_split()`](http://scikit-learn.org/stable/modules/generated/sklearn.model_selection.train_test_split.html) function to create separate training & test datasets, then retrain each of the models using only the training set and evaluate the prediction accuracy using the hold out test set. Does the \"best\" model change?"
   ]
  },
  {
   "cell_type": "code",
   "execution_count": 28,
   "metadata": {},
   "outputs": [
    {
     "name": "stdout",
     "output_type": "stream",
     "text": [
      "Data Preprocessed\n",
      "Max English sentence length: 15\n",
      "Max French sentence length: 21\n",
      "English vocabulary size: 199\n",
      "French vocabulary size: 344\n"
     ]
    }
   ],
   "source": [
    "from sklearn.model_selection import train_test_split\n",
    "\n",
    "X_train, X_test, y_train, y_test = train_test_split( english_sentences, french_sentences, test_size=0.1, random_state=42)\n",
    "\n",
    "tt_preproc_english_sentences, tt_preproc_french_sentences, tt_english_tokenizer, tt_french_tokenizer =\\\n",
    "    preprocess(X_train, y_train)\n",
    "    \n",
    "tt_max_english_sequence_length = tt_preproc_english_sentences.shape[1]\n",
    "tt_max_french_sequence_length = tt_preproc_french_sentences.shape[1]\n",
    "tt_english_vocab_size = len(tt_english_tokenizer.word_index)\n",
    "tt_french_vocab_size = len(tt_french_tokenizer.word_index)\n",
    "\n",
    "tt_x_pad = pad(tt_preproc_english_sentences, tt_max_french_sequence_length)\n",
    "tt_x = tt_x_pad.reshape((-1, tt_preproc_french_sentences.shape[-2], 1))\n",
    "\n",
    "test_preproc_english_sentences, test_preproc_french_sentences, _, _ = preprocess( X_test, y_test )\n",
    "test_x_pad = pad(test_preproc_english_sentences, tt_preproc_french_sentences.shape[1])\n",
    "test_x = test_x_pad.reshape((-1, tt_preproc_french_sentences.shape[1], 1))\n",
    "test_y = pad(test_preproc_french_sentences, tt_preproc_french_sentences.shape[1]) \n",
    "\n",
    "print('Data Preprocessed')\n",
    "print(\"Max English sentence length:\", tt_max_english_sequence_length)\n",
    "print(\"Max French sentence length:\", tt_max_french_sequence_length)\n",
    "print(\"English vocabulary size:\", tt_english_vocab_size)\n",
    "print(\"French vocabulary size:\", tt_french_vocab_size)"
   ]
  },
  {
   "cell_type": "code",
   "execution_count": 45,
   "metadata": {},
   "outputs": [
    {
     "name": "stdout",
     "output_type": "stream",
     "text": [
      "Train on 111666 samples, validate on 12408 samples\n",
      "Epoch 1/10\n",
      "111666/111666 [==============================] - 53s 477us/step - loss: 1.7669 - acc: 0.5773 - val_loss: nan - val_acc: 0.6452\n",
      "Epoch 2/10\n",
      "111666/111666 [==============================] - 49s 441us/step - loss: 1.2074 - acc: 0.6598 - val_loss: nan - val_acc: 0.6728\n",
      "Epoch 3/10\n",
      "111666/111666 [==============================] - 48s 426us/step - loss: 1.0708 - acc: 0.6814 - val_loss: nan - val_acc: 0.6823\n",
      "Epoch 4/10\n",
      "111666/111666 [==============================] - 48s 426us/step - loss: 0.9932 - acc: 0.6963 - val_loss: nan - val_acc: 0.7023\n",
      "Epoch 5/10\n",
      "111666/111666 [==============================] - 48s 427us/step - loss: 0.9364 - acc: 0.7121 - val_loss: nan - val_acc: 0.7197\n",
      "Epoch 6/10\n",
      "111666/111666 [==============================] - 49s 443us/step - loss: 0.8927 - acc: 0.7245 - val_loss: nan - val_acc: 0.7354\n",
      "Epoch 7/10\n",
      "111666/111666 [==============================] - 48s 433us/step - loss: 0.8615 - acc: 0.7336 - val_loss: nan - val_acc: 0.7336\n",
      "Epoch 8/10\n",
      "111666/111666 [==============================] - 51s 454us/step - loss: 0.8355 - acc: 0.7419 - val_loss: nan - val_acc: 0.7421\n",
      "Epoch 9/10\n",
      "111666/111666 [==============================] - 50s 445us/step - loss: 0.8134 - acc: 0.7482 - val_loss: nan - val_acc: 0.7426\n",
      "Epoch 10/10\n",
      "111666/111666 [==============================] - 48s 426us/step - loss: 0.7942 - acc: 0.7545 - val_loss: nan - val_acc: 0.7585\n",
      "les citron est mon fruit préféré mais la citron est son favori <PAD> <PAD> <PAD> <PAD> <PAD> <PAD> <PAD> <PAD> <PAD>\n"
     ]
    }
   ],
   "source": [
    "# Train the simple neural network on the training sample alone\n",
    "tt_simple_rnn_model = simple_model(    \n",
    "    tt_x.shape,\n",
    "    tt_max_french_sequence_length,\n",
    "    tt_english_vocab_size,\n",
    "    tt_french_vocab_size)\n",
    "tt_simple_rnn_model.fit(tt_x, tt_preproc_french_sentences, batch_size=128, epochs=10, validation_split=0.1) \n",
    "print(logits_to_text(tt_simple_rnn_model.predict(tt_x[:1])[0], tt_french_tokenizer))"
   ]
  },
  {
   "cell_type": "code",
   "execution_count": 30,
   "metadata": {},
   "outputs": [],
   "source": [
    "# #code sample to load and test a model\n",
    "# from keras.models import load_model\n",
    "# simple_rnn_model = load_model('saved_models/simple_rnn_model.h5')\n",
    "# print(logits_to_text(simple_rnn_model.predict(tmp_x[:10])[0], french_tokenizer))"
   ]
  },
  {
   "cell_type": "code",
   "execution_count": 46,
   "metadata": {},
   "outputs": [
    {
     "name": "stdout",
     "output_type": "stream",
     "text": [
      "13787/13787 [==============================] - 2s 159us/step\n",
      "simple model true score = 3.14\n",
      "simple model true acc = 0.57\n"
     ]
    }
   ],
   "source": [
    "score, acc = tt_simple_rnn_model.evaluate(test_x, test_y, batch_size=128)\n",
    "print( 'simple model true score = {:4.2f}'.format(score) )\n",
    "print( 'simple model true acc = {:4.2f}'.format(acc) )"
   ]
  },
  {
   "cell_type": "code",
   "execution_count": 47,
   "metadata": {},
   "outputs": [],
   "source": [
    "tt_simple_rrn_model.save('saved_models/tt_simple_rrn_model.h5')\n",
    "del tt_simple_rnn_model"
   ]
  },
  {
   "cell_type": "markdown",
   "metadata": {},
   "source": [
    "The accuracy for the simple RNN model dropped to 0.57 from 0.76 when proper test-train split was done.\n",
    "\n",
    "# (optional continued) Next we look at proper accuracy evaluated for a bidirectional RNN model"
   ]
  },
  {
   "cell_type": "code",
   "execution_count": 32,
   "metadata": {},
   "outputs": [
    {
     "name": "stdout",
     "output_type": "stream",
     "text": [
      "Train on 111666 samples, validate on 12408 samples\n",
      "Epoch 1/10\n",
      "111666/111666 [==============================] - 81s 727us/step - loss: 1.9292 - acc: 0.5447 - val_loss: nan - val_acc: 0.6046\n",
      "Epoch 2/10\n",
      "111666/111666 [==============================] - 80s 719us/step - loss: 1.3061 - acc: 0.6411 - val_loss: nan - val_acc: 0.6621\n",
      "Epoch 3/10\n",
      "111666/111666 [==============================] - 80s 720us/step - loss: 1.1491 - acc: 0.6722 - val_loss: nan - val_acc: 0.6782\n",
      "Epoch 4/10\n",
      "111666/111666 [==============================] - 79s 708us/step - loss: 1.0619 - acc: 0.6876 - val_loss: nan - val_acc: 0.6928\n",
      "Epoch 5/10\n",
      "111666/111666 [==============================] - 79s 706us/step - loss: 0.9815 - acc: 0.7035 - val_loss: nan - val_acc: 0.7153\n",
      "Epoch 6/10\n",
      "111666/111666 [==============================] - 79s 705us/step - loss: 0.8938 - acc: 0.7282 - val_loss: nan - val_acc: 0.7357\n",
      "Epoch 7/10\n",
      "111666/111666 [==============================] - 79s 706us/step - loss: 0.8256 - acc: 0.7418 - val_loss: nan - val_acc: 0.7398\n",
      "Epoch 8/10\n",
      "111666/111666 [==============================] - 79s 707us/step - loss: 0.7716 - acc: 0.7530 - val_loss: nan - val_acc: 0.7541\n",
      "Epoch 9/10\n",
      "111666/111666 [==============================] - 79s 706us/step - loss: 0.7322 - acc: 0.7619 - val_loss: nan - val_acc: 0.7620\n",
      "Epoch 10/10\n",
      "111666/111666 [==============================] - 79s 705us/step - loss: 0.6983 - acc: 0.7699 - val_loss: nan - val_acc: 0.7685\n",
      "la pomme est son fruit préféré mais la poire est son favori <PAD> <PAD> <PAD> <PAD> <PAD> <PAD> <PAD> <PAD> <PAD>\n"
     ]
    }
   ],
   "source": [
    "tt_ed_model = encdec_model(\n",
    "    tt_x.shape,\n",
    "    tt_max_french_sequence_length,\n",
    "    tt_english_vocab_size,\n",
    "    tt_french_vocab_size)\n",
    "tt_ed_model.fit(tt_x, tt_preproc_french_sentences, batch_size=128, epochs=10, validation_split=0.1) \n",
    "print(logits_to_text(tt_ed_model.predict(tt_x[:1])[0], tt_french_tokenizer))"
   ]
  },
  {
   "cell_type": "code",
   "execution_count": 33,
   "metadata": {},
   "outputs": [
    {
     "name": "stdout",
     "output_type": "stream",
     "text": [
      "13787/13787 [==============================] - 1s 102us/step\n",
      "Encoder-decoder model true score = 3.24\n",
      "Encoder-decoder model acc = 0.56\n"
     ]
    }
   ],
   "source": [
    "score, acc = tt_ed_model.evaluate(test_x, test_y, batch_size=1024)\n",
    "print( 'Encoder-decoder model true score = {:4.2f}'.format(score) )\n",
    "print( 'Encoder-decoder model acc = {:4.2f}'.format(acc) )"
   ]
  },
  {
   "cell_type": "code",
   "execution_count": null,
   "metadata": {},
   "outputs": [],
   "source": [
    "tt_ed_model.save('saved_models/tt_ed_model.h5')\n",
    "del tt_ed_model"
   ]
  },
  {
   "cell_type": "markdown",
   "metadata": {},
   "source": [
    "The accuracy for the Encoder-decoder model dropped to 0.56 from 0.75 when proper test-train split was done.\n",
    "\n",
    "# (optional continued) Next we look at proper accuracy evaluated for the final model"
   ]
  },
  {
   "cell_type": "code",
   "execution_count": 48,
   "metadata": {},
   "outputs": [
    {
     "name": "stdout",
     "output_type": "stream",
     "text": [
      "Train on 111666 samples, validate on 12408 samples\n",
      "Epoch 1/10\n",
      "111666/111666 [==============================] - 205s 2ms/step - loss: 1.7198 - acc: 0.5724 - val_loss: nan - val_acc: 0.6990\n",
      "Epoch 2/10\n",
      "111666/111666 [==============================] - 199s 2ms/step - loss: 1.0380 - acc: 0.7013 - val_loss: nan - val_acc: 0.7782\n",
      "Epoch 3/10\n",
      "111666/111666 [==============================] - 200s 2ms/step - loss: 0.7789 - acc: 0.7646 - val_loss: nan - val_acc: 0.8405\n",
      "Epoch 4/10\n",
      "111666/111666 [==============================] - 206s 2ms/step - loss: 0.5930 - acc: 0.8160 - val_loss: nan - val_acc: 0.8932\n",
      "Epoch 5/10\n",
      "111666/111666 [==============================] - 201s 2ms/step - loss: 0.4646 - acc: 0.8565 - val_loss: nan - val_acc: 0.9230\n",
      "Epoch 6/10\n",
      "111666/111666 [==============================] - 197s 2ms/step - loss: 0.3803 - acc: 0.8838 - val_loss: nan - val_acc: 0.9362\n",
      "Epoch 7/10\n",
      "111666/111666 [==============================] - 197s 2ms/step - loss: 0.3267 - acc: 0.9002 - val_loss: nan - val_acc: 0.9439\n",
      "Epoch 8/10\n",
      "111666/111666 [==============================] - 197s 2ms/step - loss: 0.2916 - acc: 0.9113 - val_loss: nan - val_acc: 0.9505\n",
      "Epoch 9/10\n",
      "111666/111666 [==============================] - 197s 2ms/step - loss: 0.2659 - acc: 0.9192 - val_loss: nan - val_acc: 0.9512\n",
      "Epoch 10/10\n",
      "111666/111666 [==============================] - 198s 2ms/step - loss: 0.2467 - acc: 0.9254 - val_loss: nan - val_acc: 0.9586\n"
     ]
    },
    {
     "data": {
      "text/plain": [
       "<keras.callbacks.History at 0x7fe13f743978>"
      ]
     },
     "execution_count": 48,
     "metadata": {},
     "output_type": "execute_result"
    }
   ],
   "source": [
    "tt_final_model = model_final(\n",
    "    tt_x_pad.shape,\n",
    "    tt_max_french_sequence_length,\n",
    "    tt_english_vocab_size,\n",
    "    tt_french_vocab_size)\n",
    "tt_final_model.fit(tt_x_pad, tt_preproc_french_sentences, batch_size=128, epochs=10, validation_split=0.1) "
   ]
  },
  {
   "cell_type": "code",
   "execution_count": 49,
   "metadata": {},
   "outputs": [
    {
     "name": "stdout",
     "output_type": "stream",
     "text": [
      "la pomme est son fruit préféré mais le citron est votre favori <PAD> <PAD> <PAD> <PAD> <PAD> <PAD> <PAD> <PAD> <PAD>\n"
     ]
    }
   ],
   "source": [
    "print(logits_to_text(tt_final_model.predict(tt_x_pad[:1])[0], tt_french_tokenizer))"
   ]
  },
  {
   "cell_type": "code",
   "execution_count": 52,
   "metadata": {},
   "outputs": [
    {
     "name": "stdout",
     "output_type": "stream",
     "text": [
      "13787/13787 [==============================] - 7s 502us/step\n",
      "Final model true score = 4.98\n",
      "Final model acc = 0.53\n"
     ]
    }
   ],
   "source": [
    "score, acc = tt_final_model.evaluate(test_x_pad, test_y, batch_size=128)\n",
    "print( 'Final model true score = {:4.2f}'.format(score) )\n",
    "print( 'Final model acc = {:4.2f}'.format(acc) )"
   ]
  },
  {
   "cell_type": "code",
   "execution_count": 53,
   "metadata": {},
   "outputs": [],
   "source": [
    "tt_final_model.save('saved_models/tt_final_model.h5')\n",
    "del tt_final_model"
   ]
  },
  {
   "cell_type": "markdown",
   "metadata": {},
   "source": [
    "The accuracy for the final model dropped to 0.53 from 0.96 when proper test-train split was done."
   ]
  },
  {
   "cell_type": "markdown",
   "metadata": {},
   "source": [
    "### Generate the html\n",
    "\n",
    "**Save your notebook before running the next cell to generate the HTML output.** Then submit your project."
   ]
  },
  {
   "cell_type": "code",
   "execution_count": 38,
   "metadata": {},
   "outputs": [],
   "source": [
    "# Save before you run this cell!\n",
    "# !!jupyter nbconvert *.ipynb"
   ]
  }
 ],
 "metadata": {
  "kernelspec": {
   "display_name": "Python 3",
   "language": "python",
   "name": "python3"
  },
  "language_info": {
   "codemirror_mode": {
    "name": "ipython",
    "version": 3
   },
   "file_extension": ".py",
   "mimetype": "text/x-python",
   "name": "python",
   "nbconvert_exporter": "python",
   "pygments_lexer": "ipython3",
   "version": "3.6.5"
  }
 },
 "nbformat": 4,
 "nbformat_minor": 1
}
