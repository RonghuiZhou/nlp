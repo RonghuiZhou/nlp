{
 "cells": [
  {
   "cell_type": "markdown",
   "metadata": {
    "collapsed": true
   },
   "source": [
    "# Machine Translation With Attention"
   ]
  },
  {
   "cell_type": "code",
   "execution_count": 1,
   "metadata": {},
   "outputs": [],
   "source": [
    "%load_ext autoreload\n",
    "%aimport helper, tests\n",
    "%autoreload 1"
   ]
  },
  {
   "cell_type": "code",
   "execution_count": 2,
   "metadata": {},
   "outputs": [
    {
     "name": "stderr",
     "output_type": "stream",
     "text": [
      "/home/thojo/anaconda3/lib/python3.6/site-packages/h5py/__init__.py:36: FutureWarning: Conversion of the second argument of issubdtype from `float` to `np.floating` is deprecated. In future, it will be treated as `np.float64 == np.dtype(float).type`.\n",
      "  from ._conv import register_converters as _register_converters\n",
      "Using TensorFlow backend.\n"
     ]
    }
   ],
   "source": [
    "import collections\n",
    "\n",
    "import helper\n",
    "import numpy as np\n",
    "import project_tests as tests\n",
    "\n",
    "from keras.preprocessing.text import Tokenizer\n",
    "from keras.preprocessing.sequence import pad_sequences\n",
    "from keras.models import Model\n",
    "from keras.layers import GRU, Input, Dense, TimeDistributed, Activation, RepeatVector, Bidirectional\n",
    "from keras.layers.embeddings import Embedding\n",
    "from keras.optimizers import Adam\n",
    "from keras.losses import sparse_categorical_crossentropy"
   ]
  },
  {
   "cell_type": "markdown",
   "metadata": {},
   "source": [
    "## Verify GPU"
   ]
  },
  {
   "cell_type": "code",
   "execution_count": 3,
   "metadata": {},
   "outputs": [
    {
     "name": "stdout",
     "output_type": "stream",
     "text": [
      "[name: \"/device:CPU:0\"\n",
      "device_type: \"CPU\"\n",
      "memory_limit: 268435456\n",
      "locality {\n",
      "}\n",
      "incarnation: 8204871948905942251\n",
      ", name: \"/device:GPU:0\"\n",
      "device_type: \"GPU\"\n",
      "memory_limit: 10909243802\n",
      "locality {\n",
      "  bus_id: 1\n",
      "  links {\n",
      "    link {\n",
      "      device_id: 1\n",
      "      type: \"StreamExecutor\"\n",
      "      strength: 1\n",
      "    }\n",
      "  }\n",
      "}\n",
      "incarnation: 5879737549639989648\n",
      "physical_device_desc: \"device: 0, name: GeForce GTX 1080 Ti, pci bus id: 0000:03:00.0, compute capability: 6.1\"\n",
      ", name: \"/device:GPU:1\"\n",
      "device_type: \"GPU\"\n",
      "memory_limit: 8595629671\n",
      "locality {\n",
      "  bus_id: 1\n",
      "  links {\n",
      "    link {\n",
      "      type: \"StreamExecutor\"\n",
      "      strength: 1\n",
      "    }\n",
      "  }\n",
      "}\n",
      "incarnation: 1841046962071392741\n",
      "physical_device_desc: \"device: 1, name: GeForce GTX 1080 Ti, pci bus id: 0000:04:00.0, compute capability: 6.1\"\n",
      "]\n"
     ]
    }
   ],
   "source": [
    "from tensorflow.python.client import device_lib\n",
    "print(device_lib.list_local_devices())"
   ]
  },
  {
   "cell_type": "markdown",
   "metadata": {},
   "source": [
    "### Load Data\n",
    "The data is located in `data/small_vocab_en` and `data/small_vocab_fr`. The `small_vocab_en` file contains English sentences with their French translations in the `small_vocab_fr` file.  I'm reusing Udacity's dataset here, which has been preprocessed already.  The next step is to use a standard dataset such as [WMT](http://www.statmt.org/)."
   ]
  },
  {
   "cell_type": "code",
   "execution_count": 4,
   "metadata": {},
   "outputs": [
    {
     "name": "stdout",
     "output_type": "stream",
     "text": [
      "Dataset Loaded\n"
     ]
    }
   ],
   "source": [
    "# Load English data\n",
    "english_sentences = helper.load_data('data/small_vocab_en')\n",
    "# Load French data\n",
    "french_sentences = helper.load_data('data/small_vocab_fr')\n",
    "print('Dataset Loaded')"
   ]
  },
  {
   "cell_type": "markdown",
   "metadata": {},
   "source": [
    "### Files\n",
    "Each line in `small_vocab_en` contains an English sentence with the respective translation in each line of `small_vocab_fr`.  View the first two lines from each file."
   ]
  },
  {
   "cell_type": "code",
   "execution_count": 5,
   "metadata": {},
   "outputs": [
    {
     "name": "stdout",
     "output_type": "stream",
     "text": [
      "small_vocab_en Line 1:  new jersey is sometimes quiet during autumn , and it is snowy in april .\n",
      "small_vocab_fr Line 1:  new jersey est parfois calme pendant l' automne , et il est neigeux en avril .\n",
      "small_vocab_en Line 2:  the united states is usually chilly during july , and it is usually freezing in november .\n",
      "small_vocab_fr Line 2:  les états-unis est généralement froid en juillet , et il gèle habituellement en novembre .\n"
     ]
    }
   ],
   "source": [
    "for sample_i in range(2):\n",
    "    print('small_vocab_en Line {}:  {}'.format(sample_i + 1, english_sentences[sample_i]))\n",
    "    print('small_vocab_fr Line {}:  {}'.format(sample_i + 1, french_sentences[sample_i]))"
   ]
  },
  {
   "cell_type": "markdown",
   "metadata": {},
   "source": [
    "### Vocabulary\n",
    "The complexity of the problem is determined by the complexity of the vocabulary.  A more complex vocabulary is a more complex problem.  This dataset has been specifically chosen to have a small vocabulary. For comparison, _Alice's Adventures in Wonderland_ contains 2,766 unique words of a total of 15,500 words."
   ]
  },
  {
   "cell_type": "code",
   "execution_count": 6,
   "metadata": {},
   "outputs": [
    {
     "name": "stdout",
     "output_type": "stream",
     "text": [
      "1823250 English words.\n",
      "227 unique English words.\n",
      "10 Most common words in the English dataset:\n",
      "\"is\" \",\" \".\" \"in\" \"it\" \"during\" \"the\" \"but\" \"and\" \"sometimes\"\n",
      "\n",
      "1961295 French words.\n",
      "355 unique French words.\n",
      "10 Most common words in the French dataset:\n",
      "\"est\" \".\" \",\" \"en\" \"il\" \"les\" \"mais\" \"et\" \"la\" \"parfois\"\n"
     ]
    }
   ],
   "source": [
    "english_words_counter = collections.Counter([word for sentence in english_sentences for word in sentence.split()])\n",
    "french_words_counter = collections.Counter([word for sentence in french_sentences for word in sentence.split()])\n",
    "\n",
    "print('{} English words.'.format(len([word for sentence in english_sentences for word in sentence.split()])))\n",
    "print('{} unique English words.'.format(len(english_words_counter)))\n",
    "print('10 Most common words in the English dataset:')\n",
    "print('\"' + '\" \"'.join(list(zip(*english_words_counter.most_common(10)))[0]) + '\"')\n",
    "print()\n",
    "print('{} French words.'.format(len([word for sentence in french_sentences for word in sentence.split()])))\n",
    "print('{} unique French words.'.format(len(french_words_counter)))\n",
    "print('10 Most common words in the French dataset:')\n",
    "print('\"' + '\" \"'.join(list(zip(*french_words_counter.most_common(10)))[0]) + '\"')"
   ]
  },
  {
   "cell_type": "markdown",
   "metadata": {},
   "source": [
    "## Preprocess\n",
    "Convert the text into sequences of integers using:\n",
    "1. Tokenize the words into ids\n",
    "2. Add padding to make all the sequences the same length.\n",
    "\n",
    "### Tokenize (IMPLEMENTATION)\n",
    "Each character or word can be turned into character and word ids (integers), respectively.  Character ids are used for character level models that generate text predictions for each character.  A word level model uses word ids that generate text predictions for each word.  Word level models tend to learn better, since they are lower in complexity.\n",
    "\n",
    "Each sentence can be turned into a sequence of words ids using Keras's [`Tokenizer`](https://keras.io/preprocessing/text/#tokenizer) function. "
   ]
  },
  {
   "cell_type": "code",
   "execution_count": 7,
   "metadata": {},
   "outputs": [
    {
     "name": "stdout",
     "output_type": "stream",
     "text": [
      "{'the': 1, 'quick': 2, 'a': 3, 'brown': 4, 'fox': 5, 'jumps': 6, 'over': 7, 'lazy': 8, 'dog': 9, 'by': 10, 'jove': 11, 'my': 12, 'study': 13, 'of': 14, 'lexicography': 15, 'won': 16, 'prize': 17, 'this': 18, 'is': 19, 'short': 20, 'sentence': 21}\n",
      "\n",
      "Sequence 1 in x\n",
      "  Input:  The quick brown fox jumps over the lazy dog .\n",
      "  Output: [1, 2, 4, 5, 6, 7, 1, 8, 9]\n",
      "Sequence 2 in x\n",
      "  Input:  By Jove , my quick study of lexicography won a prize .\n",
      "  Output: [10, 11, 12, 2, 13, 14, 15, 16, 3, 17]\n",
      "Sequence 3 in x\n",
      "  Input:  This is a short sentence .\n",
      "  Output: [18, 19, 3, 20, 21]\n"
     ]
    }
   ],
   "source": [
    "def tokenize(x):\n",
    "    \"\"\"\n",
    "    Tokenize x\n",
    "    :param x: List of sentences/strings to be tokenized\n",
    "    :return: Tuple of (tokenized x data, tokenizer used to tokenize x)\n",
    "    \"\"\"\n",
    "\n",
    "    x_tk = Tokenizer(char_level=False)\n",
    "    x_tk.fit_on_texts(x)\n",
    "\n",
    "    return x_tk.texts_to_sequences(x), x_tk\n",
    "\n",
    "    return None, None\n",
    "tests.test_tokenize(tokenize)\n",
    "\n",
    "# Tokenize Example output\n",
    "text_sentences = [\n",
    "    'The quick brown fox jumps over the lazy dog .',\n",
    "    'By Jove , my quick study of lexicography won a prize .',\n",
    "    'This is a short sentence .']\n",
    "text_tokenized, text_tokenizer = tokenize(text_sentences)\n",
    "print(text_tokenizer.word_index)\n",
    "print()\n",
    "for sample_i, (sent, token_sent) in enumerate(zip(text_sentences, text_tokenized)):\n",
    "    print('Sequence {} in x'.format(sample_i + 1))\n",
    "    print('  Input:  {}'.format(sent))\n",
    "    print('  Output: {}'.format(token_sent))"
   ]
  },
  {
   "cell_type": "markdown",
   "metadata": {},
   "source": [
    "### Padding \n",
    "When batching the sequence of word ids together, each sequence needs to be the same length.  Hence, padding.\n",
    "\n",
    "All source language sentences should be of the same length and all target language sentences too.  No need for source and target sentences to be of the same length, though. "
   ]
  },
  {
   "cell_type": "code",
   "execution_count": 8,
   "metadata": {},
   "outputs": [
    {
     "name": "stdout",
     "output_type": "stream",
     "text": [
      "Sequence 1 in x\n",
      "  Input:  [1 2 4 5 6 7 1 8 9]\n",
      "  Output: [1 2 4 5 6 7 1 8 9 0]\n",
      "Sequence 2 in x\n",
      "  Input:  [10 11 12  2 13 14 15 16  3 17]\n",
      "  Output: [10 11 12  2 13 14 15 16  3 17]\n",
      "Sequence 3 in x\n",
      "  Input:  [18 19  3 20 21]\n",
      "  Output: [18 19  3 20 21  0  0  0  0  0]\n"
     ]
    }
   ],
   "source": [
    "import numpy as np\n",
    "from keras.preprocessing.sequence import pad_sequences\n",
    "\n",
    "def pad(x, length=None):\n",
    "    \"\"\"\n",
    "    Pad x\n",
    "    :param x: List of sequences.\n",
    "    :param length: Length to pad the sequence to.  If None, use length of longest sequence in x.\n",
    "    :return: Padded numpy array of sequences\n",
    "    \"\"\"\n",
    "    if length is None:\n",
    "        length = max([len(sentence) for sentence in x])\n",
    "    return pad_sequences(x, maxlen=length, padding='post')\n",
    "\n",
    "tests.test_pad(pad)\n",
    "\n",
    "# Pad Tokenized output\n",
    "test_pad = pad(text_tokenized)\n",
    "for sample_i, (token_sent, pad_sent) in enumerate(zip(text_tokenized, test_pad)):\n",
    "    print('Sequence {} in x'.format(sample_i + 1))\n",
    "    print('  Input:  {}'.format(np.array(token_sent)))\n",
    "    print('  Output: {}'.format(pad_sent))"
   ]
  },
  {
   "cell_type": "markdown",
   "metadata": {},
   "source": [
    "### Preprocess Pipeline\n",
    "All the preprocessing steps put together."
   ]
  },
  {
   "cell_type": "code",
   "execution_count": 9,
   "metadata": {},
   "outputs": [
    {
     "name": "stdout",
     "output_type": "stream",
     "text": [
      "Data Preprocessed\n",
      "Max English sentence length: 15\n",
      "Max French sentence length: 21\n",
      "English vocabulary size: 199\n",
      "French vocabulary size: 344\n"
     ]
    }
   ],
   "source": [
    "def preprocess(x, y):\n",
    "    \"\"\"\n",
    "    Preprocess x and y\n",
    "    :param x: Feature List of sentences\n",
    "    :param y: Label List of sentences\n",
    "    :return: Tuple of (Preprocessed x, Preprocessed y, x tokenizer, y tokenizer)\n",
    "    \"\"\"\n",
    "    preprocess_x, x_tk = tokenize(x)\n",
    "    preprocess_y, y_tk = tokenize(y)\n",
    "\n",
    "    preprocess_x = pad(preprocess_x)\n",
    "    preprocess_y = pad(preprocess_y)\n",
    "\n",
    "    # Keras's sparse_categorical_crossentropy function requires the labels to be in 3 dimensions\n",
    "    preprocess_y = preprocess_y.reshape(*preprocess_y.shape, 1)\n",
    "\n",
    "    return preprocess_x, preprocess_y, x_tk, y_tk\n",
    "\n",
    "preproc_english_sentences, preproc_french_sentences, english_tokenizer, french_tokenizer =\\\n",
    "    preprocess(english_sentences, french_sentences)\n",
    "    \n",
    "max_english_sequence_length = preproc_english_sentences.shape[1]\n",
    "max_french_sequence_length = preproc_french_sentences.shape[1]\n",
    "english_vocab_size = len(english_tokenizer.word_index)\n",
    "french_vocab_size = len(french_tokenizer.word_index)\n",
    "\n",
    "print('Data Preprocessed')\n",
    "print(\"Max English sentence length:\", max_english_sequence_length)\n",
    "print(\"Max French sentence length:\", max_french_sequence_length)\n",
    "print(\"English vocabulary size:\", english_vocab_size)\n",
    "print(\"French vocabulary size:\", french_vocab_size)"
   ]
  },
  {
   "cell_type": "markdown",
   "metadata": {},
   "source": [
    "### Ids Back to Text\n",
    "The neural network will be translating the input to words ids, which isn't the final form we want.  We want the French translation.  The function `logits_to_text` will bridge the gab between the logits from the neural network to the French translation.  "
   ]
  },
  {
   "cell_type": "code",
   "execution_count": 10,
   "metadata": {},
   "outputs": [
    {
     "name": "stdout",
     "output_type": "stream",
     "text": [
      "`logits_to_text` function loaded.\n"
     ]
    }
   ],
   "source": [
    "def logits_to_text(logits, tokenizer):\n",
    "    \"\"\"\n",
    "    Turn logits from a neural network into text using the tokenizer\n",
    "    :param logits: Logits from a neural network\n",
    "    :param tokenizer: Keras Tokenizer fit on the labels\n",
    "    :return: String that represents the text of the logits\n",
    "    \"\"\"\n",
    "    index_to_words = {id: word for word, id in tokenizer.word_index.items()}\n",
    "    index_to_words[0] = '<PAD>'\n",
    "\n",
    "    return ' '.join([index_to_words[prediction] for prediction in np.argmax(logits, 1)])\n",
    "\n",
    "print('`logits_to_text` function loaded.')"
   ]
  },
  {
   "cell_type": "code",
   "execution_count": 11,
   "metadata": {},
   "outputs": [],
   "source": [
    "# def simple_model(input_shape, output_sequence_length, english_vocab_size, french_vocab_size):\n",
    "#     \"\"\"\n",
    "#     Build and train a basic RNN on x and y\n",
    "#     :param input_shape: Tuple of input shape\n",
    "#     :param output_sequence_length: Length of output sequence\n",
    "#     :param english_vocab_size: Number of unique English words in the dataset\n",
    "#     :param french_vocab_size: Number of unique French words in the dataset\n",
    "#     :return: Keras model built, but not trained\n",
    "#     \"\"\"\n",
    "#     # TODO: Build the layers\n",
    "#     learning_rate = 1e-3\n",
    "\n",
    "#     input_seq = Input(input_shape[1:])\n",
    "#     rnn = GRU(128, return_sequences=True)(input_seq)\n",
    "#     logits = TimeDistributed(Dense(french_vocab_size))(rnn)\n",
    "\n",
    "#     model = Model(input_seq, Activation('softmax')(logits))\n",
    "#     model.compile(loss=sparse_categorical_crossentropy,\n",
    "#                   optimizer=Adam(learning_rate),\n",
    "#                   metrics=['accuracy'])\n",
    "#     return model\n",
    "# tests.test_simple_model(simple_model)\n",
    "\n",
    "# # Reshaping the input to work with a basic RNN\n",
    "# tmp_x = pad(preproc_english_sentences, max_french_sequence_length)\n",
    "# tmp_x = tmp_x.reshape((-1, preproc_french_sentences.shape[-2], 1))\n",
    "\n",
    "# # Train the neural network\n",
    "# simple_rnn_model = simple_model(\n",
    "#     tmp_x.shape,\n",
    "#     max_french_sequence_length,\n",
    "#     english_vocab_size,\n",
    "#     french_vocab_size)"
   ]
  },
  {
   "cell_type": "code",
   "execution_count": 12,
   "metadata": {},
   "outputs": [],
   "source": [
    "# simple_rnn_model.fit(tmp_x, preproc_french_sentences, batch_size=128, epochs=10, validation_split=0.2)\n",
    "\n",
    "# # Print prediction(s)\n",
    "# print(logits_to_text(simple_rnn_model.predict(tmp_x[:1])[0], french_tokenizer))"
   ]
  },
  {
   "cell_type": "code",
   "execution_count": 13,
   "metadata": {},
   "outputs": [],
   "source": [
    "# simple_rnn_model.save('saved_models/simple_rnn_model.h5')\n",
    "# del simple_rnn_model"
   ]
  },
  {
   "cell_type": "markdown",
   "metadata": {},
   "source": [
    "### Model 2: Embedding (IMPLEMENTATION)\n",
    "![RNN](images/embedding.png)\n",
    "You've turned the words into ids, but there's a better representation of a word.  This is called word embeddings.  An embedding is a vector representation of the word that is close to similar words in n-dimensional space, where the n represents the size of the embedding vectors.\n",
    "\n",
    "In this model, you'll create a RNN model using embedding."
   ]
  },
  {
   "cell_type": "code",
   "execution_count": 14,
   "metadata": {},
   "outputs": [],
   "source": [
    "# from keras.layers import Embedding, LSTM\n",
    "\n",
    "# def embed_model(input_shape, output_sequence_length, english_vocab_size, french_vocab_size):\n",
    "#     \"\"\"\n",
    "#     Build and train a RNN model using word embedding on x and y\n",
    "#     :param input_shape: Tuple of input shape\n",
    "#     :param output_sequence_length: Length of output sequence\n",
    "#     :param english_vocab_size: Number of unique English words in the dataset\n",
    "#     :param french_vocab_size: Number of unique French words in the dataset\n",
    "#     :return: Keras model built, but not trained\n",
    "#     \"\"\"\n",
    "#     # Implement model with embedding\n",
    "#     embed_size = 200 \n",
    "#     learning_rate = 1e-3\n",
    "#     input_seq = Input(input_shape[1:])\n",
    "#     embed = Embedding(english_vocab_size, embed_size, input_length=input_shape[-1])(input_seq)\n",
    "#     rnn = LSTM(128, return_sequences=True)(embed) # accuracy = 87%\n",
    "#     logits = TimeDistributed(Dense(french_vocab_size))(rnn)\n",
    "\n",
    "#     model = Model(input_seq, Activation('softmax')(logits))\n",
    "#     model.compile(loss=sparse_categorical_crossentropy,\n",
    "#                   optimizer=Adam(learning_rate),\n",
    "#                   metrics=['accuracy'])\n",
    "#     return model\n",
    "\n",
    "# tests.test_embed_model(embed_model)\n",
    "\n",
    "\n",
    "\n",
    "# # TODO: Reshape the input. I'm just padding\n",
    "# tmp_x = pad(preproc_english_sentences, max_french_sequence_length)\n",
    "# # tmp_x = tmp_x.reshape((-1, preproc_french_sentences.shape[-2], 1))\n",
    "\n",
    "# # Train the neural network\n",
    "# rnn_with_embedding_model = embed_model(\n",
    "#     tmp_x.shape,\n",
    "#     max_french_sequence_length,\n",
    "#     english_vocab_size,\n",
    "#     french_vocab_size)"
   ]
  },
  {
   "cell_type": "code",
   "execution_count": 15,
   "metadata": {},
   "outputs": [],
   "source": [
    "# rnn_with_embedding_model.fit(tmp_x, preproc_french_sentences, batch_size=128, epochs=10, validation_split=0.2)\n",
    "\n",
    "# # Print prediction(s)\n",
    "# print(logits_to_text(rnn_with_embedding_model.predict(tmp_x[:1])[0], french_tokenizer))"
   ]
  },
  {
   "cell_type": "code",
   "execution_count": 16,
   "metadata": {},
   "outputs": [],
   "source": [
    "# rnn_with_embedding_model.save('saved_models/rnn_with_embedding_model.h5')\n",
    "# del rnn_with_embedding_model"
   ]
  },
  {
   "cell_type": "markdown",
   "metadata": {},
   "source": [
    "### Model 3: Bidirectional RNNs (IMPLEMENTATION)\n",
    "![RNN](images/bidirectional.png)\n",
    "One restriction of a RNN is that it can't see the future input, only the past.  This is where bidirectional recurrent neural networks come in.  They are able to see the future data."
   ]
  },
  {
   "cell_type": "code",
   "execution_count": 17,
   "metadata": {},
   "outputs": [],
   "source": [
    "# from keras.layers import Bidirectional \n",
    "# from  keras.models  import Sequential\n",
    "# from keras.layers import LSTM\n",
    "\n",
    "# def bd_model(input_shape, output_sequence_length, english_vocab_size, french_vocab_size):\n",
    "#     \"\"\"\n",
    "#     Build and train a bidirectional RNN model on x and y\n",
    "#     :param input_shape: Tuple of input shape\n",
    "#     :param output_sequence_length: Length of output sequence\n",
    "#     :param english_vocab_size: Number of unique English words in the dataset\n",
    "#     :param french_vocab_size: Number of unique French words in the dataset\n",
    "#     :return: Keras model built, but not trained\n",
    "#     \"\"\"\n",
    "\n",
    "#     hidden_units = 128\n",
    "    \n",
    "#     # GRU implementation (about 76% accuracy)\n",
    "#     input_seq = Input(input_shape[1:])\n",
    "#     bd = Bidirectional( GRU( hidden_units, return_sequences=True) )( input_seq )\n",
    "#     bd = Bidirectional( GRU( hidden_units, return_sequences=True) )( bd ) #this second layer is just for experimenting\n",
    "#     logits = TimeDistributed( Dense(french_vocab_size) )(bd)\n",
    "#     model = Model(input_seq, Activation('softmax')(logits))\n",
    "\n",
    "    \n",
    "#     # LSTM implementation using Sequential (about 60% accuracy)\n",
    "# #     model = Sequential()\n",
    "# #     model.add(Bidirectional(LSTM(hidden_units, return_sequences = True, dropout = 0.2, recurrent_dropout = 0.2),\n",
    "# #                             input_shape = input_shape[1:]))\n",
    "# #     model.add(Bidirectional(LSTM(hidden_units, return_sequences = True, dropout = 0.2, recurrent_dropout = 0.2) ))\n",
    "# #     model.add(TimeDistributed(Dense(french_vocab_size, activation='softmax')))\n",
    "\n",
    "#     ################\n",
    "#     learning_rate = 1e-3\n",
    "#     model.compile(loss=sparse_categorical_crossentropy,\n",
    "#                   optimizer=Adam(learning_rate),\n",
    "#                   metrics=['accuracy'])\n",
    "#     return model\n",
    "# tests.test_bd_model(bd_model)\n",
    "\n",
    "\n",
    "# # TODO: Train and Print prediction(s)\n",
    "# tmp_x = pad(preproc_english_sentences, max_french_sequence_length)\n",
    "# tmp_x = tmp_x.reshape((-1, preproc_french_sentences.shape[-2], 1))\n",
    "\n",
    "# # Train the neural network\n",
    "# bidirectional_model = bd_model(\n",
    "#     tmp_x.shape,\n",
    "#     max_french_sequence_length,\n",
    "#     english_vocab_size,\n",
    "#     french_vocab_size)"
   ]
  },
  {
   "cell_type": "code",
   "execution_count": 18,
   "metadata": {},
   "outputs": [],
   "source": [
    "# bidirectional_model.fit(tmp_x, preproc_french_sentences, batch_size=128, epochs=10, validation_split=0.2)\n",
    "\n",
    "# # Print prediction(s)\n",
    "# print(logits_to_text(bidirectional_model.predict(tmp_x[:1])[0], french_tokenizer))"
   ]
  },
  {
   "cell_type": "code",
   "execution_count": 19,
   "metadata": {},
   "outputs": [],
   "source": [
    "# bidirectional_model.save('saved_models/bidirectional_model.h5')\n",
    "# del bidirectional_model"
   ]
  },
  {
   "cell_type": "markdown",
   "metadata": {},
   "source": [
    "### Model 4: Encoder-Decoder (OPTIONAL)\n",
    "Time to look at encoder-decoder models.  This model is made up of an encoder and decoder. The encoder creates a matrix representation of the sentence.  The decoder takes this matrix as input and predicts the translation as output.\n",
    "\n",
    "Create an encoder-decoder model in the cell below."
   ]
  },
  {
   "cell_type": "code",
   "execution_count": 20,
   "metadata": {},
   "outputs": [],
   "source": [
    "# from keras.models import Model\n",
    "# from keras.layers import Input, LSTM, Dense\n",
    "\n",
    "# def encdec_model(input_shape, output_sequence_length, english_vocab_size, french_vocab_size):\n",
    "#     \"\"\"\n",
    "#     Build and train an encoder-decoder model on x and y\n",
    "#     :param input_shape: Tuple of input shape\n",
    "#     :param output_sequence_length: Length of output sequence\n",
    "#     :param english_vocab_size: Number of unique English words in the dataset\n",
    "#     :param french_vocab_size: Number of unique French words in the dataset\n",
    "#     :return: Keras model built, but not trained\n",
    "#     \"\"\"\n",
    "#     num_hidden = 128\n",
    "# #     ###################################### USING LSTMs ####### accuracy about 70%\n",
    "# #     model = Sequential()\n",
    "# #     # Encoder\n",
    "# #     model.add(LSTM(num_hidden, go_backwards=True, input_shape=input_shape[1:])) \n",
    "# #     model.add(RepeatVector(output_sequence_length))\n",
    "# #     # Decoder\n",
    "# #     model.add(LSTM(num_hidden, return_sequences=True))\n",
    "# #     model.add(TimeDistributed(Dense(french_vocab_size)))\n",
    "# #     model.add(Activation('softmax'))    \n",
    "\n",
    "#     ##################################### USING GRUs ####### accuracy about 75%\n",
    "#     model = Sequential()\n",
    "#     # Encoder\n",
    "#     model.add(GRU(num_hidden, go_backwards=True, input_shape=input_shape[1:]))\n",
    "#     model.add(RepeatVector(output_sequence_length))\n",
    "#     # Decoder\n",
    "#     model.add(GRU(num_hidden, return_sequences=True))\n",
    "#     model.add(TimeDistributed(Dense(french_vocab_size)))\n",
    "#     model.add(Activation('softmax'))    \n",
    "\n",
    "    \n",
    "#     ##########################\n",
    "  \n",
    "#     # Compile model\n",
    "#     learning_rate = 1e-3\n",
    "#     model.compile(loss = 'sparse_categorical_crossentropy',\n",
    "#                  optimizer = Adam(learning_rate),\n",
    "#                  metrics = ['accuracy'])\n",
    "#     return model\n",
    "# tests.test_encdec_model(encdec_model)\n",
    "# # OPTIONAL: Train and Print prediction(s)\n",
    "# tmp_x = pad(preproc_english_sentences, max_french_sequence_length)\n",
    "# tmp_x = tmp_x.reshape((-1, preproc_french_sentences.shape[-2], 1))\n",
    "# # Train the neural network\n",
    "# ed_model = encdec_model(\n",
    "#     tmp_x.shape,\n",
    "#     max_french_sequence_length,\n",
    "#     english_vocab_size,\n",
    "#     french_vocab_size)\n",
    "\n",
    "# print(ed_model.summary())"
   ]
  },
  {
   "cell_type": "code",
   "execution_count": 21,
   "metadata": {},
   "outputs": [],
   "source": [
    "# ed_model.fit(tmp_x, preproc_french_sentences, batch_size=128, epochs=10, validation_split=0.2)\n",
    "\n",
    "# # Print prediction(s)\n",
    "# print(logits_to_text( ed_model.predict(tmp_x[:1])[0], french_tokenizer))"
   ]
  },
  {
   "cell_type": "code",
   "execution_count": 22,
   "metadata": {},
   "outputs": [],
   "source": [
    "# ed_model.save('saved_models/ed_model.h5')\n",
    "# del ed_model"
   ]
  },
  {
   "cell_type": "markdown",
   "metadata": {},
   "source": [
    "### Define model architecture\n",
    "\n",
    "Create a translation model (t_model) that incorporates embedding and a bidirectional rnn into one model."
   ]
  },
  {
   "cell_type": "code",
   "execution_count": 23,
   "metadata": {},
   "outputs": [
    {
     "name": "stdout",
     "output_type": "stream",
     "text": [
      "Final Model Loaded\n"
     ]
    },
    {
     "name": "stderr",
     "output_type": "stream",
     "text": [
      "/home/thojo/.local/lib/python3.6/site-packages/keras/engine/sequential.py:109: UserWarning: `Sequential.model` is deprecated. `Sequential` is a subclass of `Model`, you can just use your `Sequential` instance directly.\n",
      "  warnings.warn('`Sequential.model` is deprecated. '\n"
     ]
    }
   ],
   "source": [
    "from keras.layers import Dropout\n",
    "from keras.models  import Sequential\n",
    "def t_model(input_shape, output_sequence_length, english_vocab_size, french_vocab_size):\n",
    "    \"\"\"\n",
    "    Build and train a model that incorporates embedding, encoder-decoder, and bidirectional RNN on x and y\n",
    "    :param input_shape: Tuple of input shape\n",
    "    :param output_sequence_length: Length of output sequence\n",
    "    :param english_vocab_size: Number of unique English words in the dataset\n",
    "    :param french_vocab_size: Number of unique French words in the dataset\n",
    "    :return: Keras model built, but not trained\n",
    "    \"\"\"\n",
    "    embed_size = 200    \n",
    "    learning_rate = 1e-3\n",
    "    num_hidden = 256\n",
    "    \n",
    "    model = Sequential()\n",
    "    # Encoder part\n",
    "    model.add( Embedding(english_vocab_size, embed_size, input_length=input_shape[-1] ) )    \n",
    "#     model.add( Bidirectional( LSTM(num_hidden, go_backwards=True, input_shape=input_shape[1:],  dropout = 0.5, recurrent_dropout = 0.5)) )  \n",
    "    model.add( Bidirectional( GRU(num_hidden, go_backwards=True, dropout = 0.4, recurrent_dropout = 0.4 ) ) )\n",
    "    model.add( RepeatVector(output_sequence_length) )\n",
    "\n",
    "    # Decoder part\n",
    "#     model.add( Bidirectional( LSTM(num_hidden, return_sequences=True, dropout = 0.5, recurrent_dropout = 0.5)) ) \n",
    "    model.add( Bidirectional( GRU(num_hidden, return_sequences=True, dropout = 0.4, recurrent_dropout = 0.4 ) ) )\n",
    "    model.add( TimeDistributed( Dense(512) ) )\n",
    "    model.add( Dropout(0.5))\n",
    "    model.add( TimeDistributed( Dense(french_vocab_size) ) )\n",
    "    model.add( Activation('softmax') )\n",
    "\n",
    "    model.compile(loss=sparse_categorical_crossentropy,\n",
    "                  optimizer=Adam(learning_rate),\n",
    "                  metrics=['accuracy'])\n",
    "    return model\n",
    "\n",
    "tests.test_model_final(t_model)\n",
    "print('Final Model Loaded')"
   ]
  },
  {
   "cell_type": "code",
   "execution_count": 24,
   "metadata": {},
   "outputs": [
    {
     "name": "stdout",
     "output_type": "stream",
     "text": [
      "_________________________________________________________________\n",
      "Layer (type)                 Output Shape              Param #   \n",
      "=================================================================\n",
      "embedding_2 (Embedding)      (None, 1, 200)            39800     \n",
      "_________________________________________________________________\n",
      "bidirectional_3 (Bidirection (None, 512)               701952    \n",
      "_________________________________________________________________\n",
      "repeat_vector_2 (RepeatVecto (None, 21, 512)           0         \n",
      "_________________________________________________________________\n",
      "bidirectional_4 (Bidirection (None, 21, 512)           1181184   \n",
      "_________________________________________________________________\n",
      "time_distributed_3 (TimeDist (None, 21, 512)           262656    \n",
      "_________________________________________________________________\n",
      "dropout_2 (Dropout)          (None, 21, 512)           0         \n",
      "_________________________________________________________________\n",
      "time_distributed_4 (TimeDist (None, 21, 344)           176472    \n",
      "_________________________________________________________________\n",
      "activation_2 (Activation)    (None, 21, 344)           0         \n",
      "=================================================================\n",
      "Total params: 2,362,064\n",
      "Trainable params: 2,362,064\n",
      "Non-trainable params: 0\n",
      "_________________________________________________________________\n",
      "None\n"
     ]
    }
   ],
   "source": [
    "# Train the final model\n",
    "tmp_x = pad( preproc_english_sentences, max_french_sequence_length )\n",
    "tmp_x = tmp_x.reshape( (-1, preproc_french_sentences.shape[-2], 1) )\n",
    "\n",
    "my_model = t_model(\n",
    "    tmp_x.shape,\n",
    "    max_french_sequence_length,\n",
    "    english_vocab_size,\n",
    "    french_vocab_size)\n",
    "\n",
    "print( my_model.summary() )"
   ]
  },
  {
   "cell_type": "markdown",
   "metadata": {},
   "source": [
    "## Prediction (IMPLEMENTATION)"
   ]
  },
  {
   "cell_type": "code",
   "execution_count": 27,
   "metadata": {},
   "outputs": [],
   "source": [
    "def final_predictions( x, y, x_tk, y_tk ):\n",
    "    \"\"\"\n",
    "    Gets predictions using the final model\n",
    "    :param x: Preprocessed English data\n",
    "    :param y: Preprocessed French data\n",
    "    :param x_tk: English tokenizer\n",
    "    :param y_tk: French tokenizer\n",
    "    \"\"\"\n",
    "    # note: x and y are already pre-processed\n",
    "    # Train neural network using model_final\n",
    "    model = t_model(x.shape, \n",
    "                    y.shape[1], \n",
    "                    len(x_tk.word_index), \n",
    "                    len(y_tk.word_index) )\n",
    "    \n",
    "    model.fit( x, y, batch_size=2048, epochs=10, validation_split=0.2 )\n",
    "    \n",
    "    y_id_to_word = { value: key for key, value in y_tk.word_index.items() }\n",
    "    y_id_to_word[0] = '<PAD>'\n",
    "\n",
    "    sentence = 'he saw a old yellow truck'\n",
    "    sentence = [ x_tk.word_index[word] for word in sentence.split() ]\n",
    "    sentence = pad_sequences( [sentence], maxlen=x.shape[-1], padding='post' )\n",
    "    sentences = np.array( [sentence[0], x[0]] )\n",
    "    predictions = model.predict( sentences, len(sentences ) )\n",
    "\n",
    "    print('Sample 1:')\n",
    "    print(' '.join( [y_id_to_word[np.argmax(x)] for x in predictions[0]] ) )\n",
    "    print('Il a vu un vieux camion jaune')\n",
    "    print('Sample 2:')\n",
    "    print(' '.join( [y_id_to_word[np.argmax(x)] for x in predictions[1]] ) )\n",
    "    print(' '.join( [y_id_to_word[np.max(x)] for x in y[0]] ) )\n",
    "    return model"
   ]
  },
  {
   "cell_type": "code",
   "execution_count": 41,
   "metadata": {},
   "outputs": [
    {
     "name": "stdout",
     "output_type": "stream",
     "text": [
      "Train on 110288 samples, validate on 27573 samples\n",
      "Epoch 1/10\n",
      "110288/110288 [==============================] - 15s 136us/step - loss: 3.1629 - acc: 0.4300 - val_loss: nan - val_acc: 0.4826\n",
      "Epoch 2/10\n",
      "110288/110288 [==============================] - 11s 102us/step - loss: 2.1792 - acc: 0.4799 - val_loss: nan - val_acc: 0.5059\n",
      "Epoch 3/10\n",
      "110288/110288 [==============================] - 11s 103us/step - loss: 1.9023 - acc: 0.5226 - val_loss: nan - val_acc: 0.5949\n",
      "Epoch 4/10\n",
      "110288/110288 [==============================] - 11s 102us/step - loss: 1.6121 - acc: 0.5796 - val_loss: nan - val_acc: 0.6376\n",
      "Epoch 5/10\n",
      "110288/110288 [==============================] - 11s 102us/step - loss: 1.4246 - acc: 0.6162 - val_loss: nan - val_acc: 0.6703\n",
      "Epoch 6/10\n",
      "110288/110288 [==============================] - 11s 103us/step - loss: 1.2822 - acc: 0.6435 - val_loss: nan - val_acc: 0.7045\n",
      "Epoch 7/10\n",
      "110288/110288 [==============================] - 11s 103us/step - loss: 1.1613 - acc: 0.6720 - val_loss: nan - val_acc: 0.7308\n",
      "Epoch 8/10\n",
      "110288/110288 [==============================] - 11s 103us/step - loss: 1.0538 - acc: 0.6979 - val_loss: nan - val_acc: 0.7515\n",
      "Epoch 9/10\n",
      "110288/110288 [==============================] - 11s 103us/step - loss: 0.9637 - acc: 0.7186 - val_loss: nan - val_acc: 0.7718\n",
      "Epoch 10/10\n",
      "110288/110288 [==============================] - 11s 103us/step - loss: 0.8853 - acc: 0.7377 - val_loss: nan - val_acc: 0.7915\n",
      "Sample 1:\n",
      "il a vu un camion camion blanc <PAD> <PAD> <PAD> <PAD> <PAD> <PAD> <PAD> <PAD> <PAD> <PAD> <PAD> <PAD> <PAD> <PAD>\n",
      "Il a vu un vieux camion jaune\n",
      "Sample 2:\n",
      "new jersey est parfois chaud pendant l'automne et il est est en en en <PAD> <PAD> <PAD> <PAD> <PAD> <PAD> <PAD>\n",
      "new jersey est parfois calme pendant l' automne et il est neigeux en avril <PAD> <PAD> <PAD> <PAD> <PAD> <PAD> <PAD>\n"
     ]
    }
   ],
   "source": [
    "full_model=final_predictions(preproc_english_sentences, preproc_french_sentences, english_tokenizer, french_tokenizer)"
   ]
  },
  {
   "cell_type": "code",
   "execution_count": 42,
   "metadata": {},
   "outputs": [],
   "source": [
    "full_model.save( 'saved_models/full_model.h5' )"
   ]
  },
  {
   "cell_type": "markdown",
   "metadata": {},
   "source": [
    "# Notes:\n",
    "\n",
    "-  I have used `go_backwards=True` for the encoding RNNs in the Encoder-Decoder model as well as the final_model per suggestions in places such as __[this link](https://cntk.ai/pythondocs/CNTK_204_Sequence_To_Sequence.html)__ which advice to use `False` for the attention models and `True` otherwise. However, I found that the models here also work with the default `go_backwards=False` but just have lower accuracy by about 5%. \n",
    "-  References for encoder-decoder __[1](https://blog.keras.io/building-autoencoders-in-keras.html)__, __[2](https://github.com/keras-team/keras/issues/5203)__, __[3](https://www.jianshu.com/p/c294e4cb4070)__"
   ]
  },
  {
   "cell_type": "markdown",
   "metadata": {},
   "source": [
    "## Proper test train split\n",
    "\n",
    "This project focuses on learning various network architectures for machine translation, but we don't evaluate the models according to best practices by splitting the data into separate test & training sets -- so the model accuracy is overstated. Use the [`sklearn.model_selection.train_test_split()`](http://scikit-learn.org/stable/modules/generated/sklearn.model_selection.train_test_split.html) function to create separate training & test datasets, then retrain each of the models using only the training set and evaluate the prediction accuracy using the hold out test set. Does the \"best\" model change?"
   ]
  },
  {
   "cell_type": "code",
   "execution_count": 33,
   "metadata": {},
   "outputs": [
    {
     "name": "stdout",
     "output_type": "stream",
     "text": [
      "Data Preprocessed\n",
      "Max English sentence length: 15\n",
      "Max French sentence length: 21\n",
      "English vocabulary size: 199\n",
      "French vocabulary size: 344\n"
     ]
    }
   ],
   "source": [
    "from sklearn.model_selection import train_test_split\n",
    "\n",
    "X_train, X_test, y_train, y_test = train_test_split( english_sentences, french_sentences, test_size=0.1, random_state=42)\n",
    "\n",
    "tt_preproc_english_sentences, tt_preproc_french_sentences, tt_english_tokenizer, tt_french_tokenizer =\\\n",
    "    preprocess( X_train, y_train )\n",
    "    \n",
    "tt_max_english_sequence_length = tt_preproc_english_sentences.shape[1]\n",
    "tt_max_french_sequence_length = tt_preproc_french_sentences.shape[1]\n",
    "tt_english_vocab_size = len(tt_english_tokenizer.word_index)\n",
    "tt_french_vocab_size = len(tt_french_tokenizer.word_index)\n",
    "\n",
    "tt_x_pad = pad( tt_preproc_english_sentences, tt_max_french_sequence_length )\n",
    "tt_x = tt_x_pad.reshape( ( -1, tt_preproc_french_sentences.shape[-2], 1 ) )\n",
    "\n",
    "test_preproc_english_sentences, test_preproc_french_sentences, _, _ = preprocess( X_test, y_test )\n",
    "test_x_pad = pad( test_preproc_english_sentences, tt_preproc_french_sentences.shape[1] )\n",
    "test_x = test_x_pad.reshape( (-1, tt_preproc_french_sentences.shape[1], 1 ) )\n",
    "test_y = pad( test_preproc_french_sentences, tt_preproc_french_sentences.shape[1] ) \n",
    "\n",
    "print( 'Data Preprocessed')\n",
    "print( \"Max English sentence length:\", tt_max_english_sequence_length )\n",
    "print( \"Max French sentence length:\", tt_max_french_sequence_length )\n",
    "print( \"English vocabulary size:\", tt_english_vocab_size )\n",
    "print( \"French vocabulary size:\", tt_french_vocab_size )"
   ]
  },
  {
   "cell_type": "code",
   "execution_count": null,
   "metadata": {},
   "outputs": [],
   "source": [
    "# # Train the simple neural network on the training sample alone\n",
    "# tt_simple_rnn_model = simple_model(    \n",
    "#     tt_x.shape,\n",
    "#     tt_max_french_sequence_length,\n",
    "#     tt_english_vocab_size,\n",
    "#     tt_french_vocab_size)\n",
    "# tt_simple_rnn_model.fit( tt_x, tt_preproc_french_sentences, batch_size=128, epochs=10, validation_split=0.1 ) \n",
    "# print( logits_to_text( tt_simple_rnn_model.predict(tt_x[:1])[0], tt_french_tokenizer ) )"
   ]
  },
  {
   "cell_type": "code",
   "execution_count": null,
   "metadata": {},
   "outputs": [],
   "source": [
    "# #code sample to load and test a model\n",
    "# from keras.models import load_model\n",
    "# simple_rnn_model = load_model('saved_models/simple_rnn_model.h5')\n",
    "# print(logits_to_text(simple_rnn_model.predict(tmp_x[:10])[0], french_tokenizer))"
   ]
  },
  {
   "cell_type": "code",
   "execution_count": null,
   "metadata": {},
   "outputs": [],
   "source": [
    "# score, acc = tt_simple_rnn_model.evaluate( test_x, test_y, batch_size=128 )\n",
    "# print( 'simple model true score = {:4.2f}'.format(score) )\n",
    "# print( 'simple model true acc = {:4.2f}'.format(acc) )"
   ]
  },
  {
   "cell_type": "code",
   "execution_count": null,
   "metadata": {},
   "outputs": [],
   "source": [
    "# tt_simple_rnn_model.save('saved_models/tt_simple_rrn_model.h5')\n",
    "# del tt_simple_rnn_model"
   ]
  },
  {
   "cell_type": "markdown",
   "metadata": {},
   "source": [
    "The accuracy for the simple RNN model dropped to 0.57 from 0.76 when proper test-train split was done.\n",
    "\n",
    "# (optional continued) Next we look at proper accuracy evaluated for a bidirectional RNN model"
   ]
  },
  {
   "cell_type": "code",
   "execution_count": null,
   "metadata": {},
   "outputs": [],
   "source": [
    "# tt_ed_model = encdec_model(\n",
    "#     tt_x.shape,\n",
    "#     tt_max_french_sequence_length,\n",
    "#     tt_english_vocab_size,\n",
    "#     tt_french_vocab_size)\n",
    "# tt_ed_model.fit( tt_x, tt_preproc_french_sentences, batch_size=128, epochs=10, validation_split=0.1 ) \n",
    "# print( logits_to_text( tt_ed_model.predict( tt_x[:1] )[0], tt_french_tokenizer ) )"
   ]
  },
  {
   "cell_type": "code",
   "execution_count": null,
   "metadata": {},
   "outputs": [],
   "source": [
    "# score, acc = tt_ed_model.evaluate(test_x, test_y, batch_size=128)\n",
    "# print( 'Encoder-decoder model true score = {:4.2f}'.format(score) )\n",
    "# print( 'Encoder-decoder model acc = {:4.2f}'.format(acc) )"
   ]
  },
  {
   "cell_type": "code",
   "execution_count": null,
   "metadata": {},
   "outputs": [],
   "source": [
    "# tt_ed_model.save( 'saved_models/tt_ed_model.h5' )\n",
    "# del tt_ed_model"
   ]
  },
  {
   "cell_type": "markdown",
   "metadata": {},
   "source": [
    "# Accuracy on the test set\n",
    "Implement test-train split"
   ]
  },
  {
   "cell_type": "code",
   "execution_count": 44,
   "metadata": {},
   "outputs": [
    {
     "name": "stdout",
     "output_type": "stream",
     "text": [
      "Train on 111666 samples, validate on 12408 samples\n",
      "Epoch 1/20\n",
      "111666/111666 [==============================] - 15s 136us/step - loss: 3.7275 - acc: 0.3961 - val_loss: nan - val_acc: 0.4400\n",
      "Epoch 2/20\n",
      "111666/111666 [==============================] - 11s 100us/step - loss: 2.5907 - acc: 0.4623 - val_loss: nan - val_acc: 0.4662\n",
      "Epoch 3/20\n",
      "111666/111666 [==============================] - 11s 100us/step - loss: 2.2249 - acc: 0.4749 - val_loss: nan - val_acc: 0.4784\n",
      "Epoch 4/20\n",
      "111666/111666 [==============================] - 11s 100us/step - loss: 2.0915 - acc: 0.4887 - val_loss: nan - val_acc: 0.5237\n",
      "Epoch 5/20\n",
      "111666/111666 [==============================] - 11s 100us/step - loss: 1.9239 - acc: 0.5212 - val_loss: nan - val_acc: 0.5798\n",
      "Epoch 6/20\n",
      "111666/111666 [==============================] - 11s 100us/step - loss: 1.7265 - acc: 0.5577 - val_loss: nan - val_acc: 0.6076\n",
      "Epoch 7/20\n",
      "111666/111666 [==============================] - 11s 100us/step - loss: 1.5922 - acc: 0.5847 - val_loss: nan - val_acc: 0.6374\n",
      "Epoch 8/20\n",
      "111666/111666 [==============================] - 11s 101us/step - loss: 1.4906 - acc: 0.6067 - val_loss: nan - val_acc: 0.6489\n",
      "Epoch 9/20\n",
      "111666/111666 [==============================] - 11s 101us/step - loss: 1.4119 - acc: 0.6215 - val_loss: nan - val_acc: 0.6590\n",
      "Epoch 10/20\n",
      "111666/111666 [==============================] - 11s 101us/step - loss: 1.3410 - acc: 0.6354 - val_loss: nan - val_acc: 0.6846\n",
      "Epoch 11/20\n",
      "111666/111666 [==============================] - 11s 101us/step - loss: 1.2725 - acc: 0.6524 - val_loss: nan - val_acc: 0.7032\n",
      "Epoch 12/20\n",
      "111666/111666 [==============================] - 11s 101us/step - loss: 1.2097 - acc: 0.6679 - val_loss: nan - val_acc: 0.7156\n",
      "Epoch 13/20\n",
      "111666/111666 [==============================] - 11s 101us/step - loss: 1.1509 - acc: 0.6813 - val_loss: nan - val_acc: 0.7267\n",
      "Epoch 14/20\n",
      "111666/111666 [==============================] - 11s 101us/step - loss: 1.0981 - acc: 0.6930 - val_loss: nan - val_acc: 0.7361\n",
      "Epoch 15/20\n",
      "111666/111666 [==============================] - 11s 101us/step - loss: 1.0482 - acc: 0.7046 - val_loss: nan - val_acc: 0.7507\n",
      "Epoch 16/20\n",
      "111666/111666 [==============================] - 11s 101us/step - loss: 1.0006 - acc: 0.7155 - val_loss: nan - val_acc: 0.7609\n",
      "Epoch 17/20\n",
      "111666/111666 [==============================] - 11s 101us/step - loss: 0.9619 - acc: 0.7250 - val_loss: nan - val_acc: 0.7687\n",
      "Epoch 18/20\n",
      "111666/111666 [==============================] - 11s 101us/step - loss: 0.9213 - acc: 0.7344 - val_loss: nan - val_acc: 0.7769\n",
      "Epoch 19/20\n",
      "111666/111666 [==============================] - 11s 101us/step - loss: 0.8839 - acc: 0.7436 - val_loss: nan - val_acc: 0.7858\n",
      "Epoch 20/20\n",
      "111666/111666 [==============================] - 11s 101us/step - loss: 0.8486 - acc: 0.7521 - val_loss: nan - val_acc: 0.7960\n"
     ]
    },
    {
     "data": {
      "text/plain": [
       "<keras.callbacks.History at 0x7f6391e40c88>"
      ]
     },
     "execution_count": 44,
     "metadata": {},
     "output_type": "execute_result"
    }
   ],
   "source": [
    "tt_model = t_model(\n",
    "    tt_x_pad.shape,\n",
    "    tt_max_french_sequence_length,\n",
    "    tt_english_vocab_size,\n",
    "    tt_french_vocab_size)\n",
    "tt_model.fit( tt_x_pad, tt_preproc_french_sentences, batch_size=4096, epochs=20, validation_split=0.1 ) "
   ]
  },
  {
   "cell_type": "code",
   "execution_count": 45,
   "metadata": {},
   "outputs": [
    {
     "name": "stdout",
     "output_type": "stream",
     "text": [
      "la mangue est son fruit préféré mais le raisin est son favori <PAD> <PAD> <PAD> <PAD> <PAD> <PAD> <PAD> <PAD> <PAD>\n"
     ]
    }
   ],
   "source": [
    "print( logits_to_text( tt_model.predict( tt_x_pad[:1] )[0], tt_french_tokenizer) )"
   ]
  },
  {
   "cell_type": "code",
   "execution_count": 46,
   "metadata": {},
   "outputs": [
    {
     "name": "stdout",
     "output_type": "stream",
     "text": [
      "13787/13787 [==============================] - 5s 344us/step\n",
      "Final model true score = 3.55\n",
      "Final model acc = 0.53\n"
     ]
    }
   ],
   "source": [
    "score, acc = tt_model.evaluate( test_x_pad, test_y, batch_size=128 )\n",
    "print( 'Final model true score = {:4.2f}'.format(score) )\n",
    "print( 'Final model acc = {:4.2f}'.format(acc) )"
   ]
  },
  {
   "cell_type": "code",
   "execution_count": 47,
   "metadata": {},
   "outputs": [],
   "source": [
    "tt_model.save( 'saved_models/tt_model.h5' )"
   ]
  },
  {
   "cell_type": "markdown",
   "metadata": {},
   "source": [
    "The accuracy for the final model dropped to 0.53 from 0.96 when proper test-train split was done."
   ]
  }
 ],
 "metadata": {
  "kernelspec": {
   "display_name": "Python 3",
   "language": "python",
   "name": "python3"
  },
  "language_info": {
   "codemirror_mode": {
    "name": "ipython",
    "version": 3
   },
   "file_extension": ".py",
   "mimetype": "text/x-python",
   "name": "python",
   "nbconvert_exporter": "python",
   "pygments_lexer": "ipython3",
   "version": "3.6.5"
  }
 },
 "nbformat": 4,
 "nbformat_minor": 1
}
