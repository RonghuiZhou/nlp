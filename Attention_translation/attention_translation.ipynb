{
 "cells": [
  {
   "cell_type": "markdown",
   "metadata": {
    "collapsed": true
   },
   "source": [
    "# Machine Translation With Attention"
   ]
  },
  {
   "cell_type": "code",
   "execution_count": 1,
   "metadata": {},
   "outputs": [],
   "source": [
    "%load_ext autoreload\n",
    "%aimport helper, tests\n",
    "%autoreload 1"
   ]
  },
  {
   "cell_type": "code",
   "execution_count": 2,
   "metadata": {},
   "outputs": [
    {
     "name": "stderr",
     "output_type": "stream",
     "text": [
      "/home/thojo/anaconda3/lib/python3.6/site-packages/h5py/__init__.py:36: FutureWarning: Conversion of the second argument of issubdtype from `float` to `np.floating` is deprecated. In future, it will be treated as `np.float64 == np.dtype(float).type`.\n",
      "  from ._conv import register_converters as _register_converters\n",
      "Using TensorFlow backend.\n"
     ]
    }
   ],
   "source": [
    "import collections\n",
    "\n",
    "import helper\n",
    "import numpy as np\n",
    "import project_tests as tests\n",
    "from attention_decoder import AttentionDecoder\n",
    "\n",
    "from keras.preprocessing.text import Tokenizer\n",
    "from keras.preprocessing.sequence import pad_sequences\n",
    "from keras.models import Model\n",
    "from keras.layers import GRU, Input, Dense, TimeDistributed, Activation, RepeatVector, Bidirectional\n",
    "from keras.layers.embeddings import Embedding\n",
    "from keras.optimizers import Adam\n",
    "from keras.losses import sparse_categorical_crossentropy"
   ]
  },
  {
   "cell_type": "markdown",
   "metadata": {},
   "source": [
    "## Verify GPU"
   ]
  },
  {
   "cell_type": "code",
   "execution_count": 3,
   "metadata": {},
   "outputs": [
    {
     "name": "stdout",
     "output_type": "stream",
     "text": [
      "[name: \"/device:CPU:0\"\n",
      "device_type: \"CPU\"\n",
      "memory_limit: 268435456\n",
      "locality {\n",
      "}\n",
      "incarnation: 6265193439509100797\n",
      ", name: \"/device:GPU:0\"\n",
      "device_type: \"GPU\"\n",
      "memory_limit: 10909243802\n",
      "locality {\n",
      "  bus_id: 1\n",
      "  links {\n",
      "    link {\n",
      "      device_id: 1\n",
      "      type: \"StreamExecutor\"\n",
      "      strength: 1\n",
      "    }\n",
      "  }\n",
      "}\n",
      "incarnation: 8895724049681493900\n",
      "physical_device_desc: \"device: 0, name: GeForce GTX 1080 Ti, pci bus id: 0000:03:00.0, compute capability: 6.1\"\n",
      ", name: \"/device:GPU:1\"\n",
      "device_type: \"GPU\"\n",
      "memory_limit: 8709937562\n",
      "locality {\n",
      "  bus_id: 1\n",
      "  links {\n",
      "    link {\n",
      "      type: \"StreamExecutor\"\n",
      "      strength: 1\n",
      "    }\n",
      "  }\n",
      "}\n",
      "incarnation: 10911508839903085276\n",
      "physical_device_desc: \"device: 1, name: GeForce GTX 1080 Ti, pci bus id: 0000:04:00.0, compute capability: 6.1\"\n",
      "]\n"
     ]
    }
   ],
   "source": [
    "from tensorflow.python.client import device_lib\n",
    "print(device_lib.list_local_devices())"
   ]
  },
  {
   "cell_type": "markdown",
   "metadata": {},
   "source": [
    "### Load Data\n",
    "The data is located in `data/small_vocab_en` and `data/small_vocab_fr`. The `small_vocab_en` file contains English sentences with their French translations in the `small_vocab_fr` file.  I'm reusing Udacity's dataset here, which has been preprocessed already.  The next step is to use a standard dataset such as [WMT](http://www.statmt.org/)."
   ]
  },
  {
   "cell_type": "code",
   "execution_count": 4,
   "metadata": {},
   "outputs": [
    {
     "name": "stdout",
     "output_type": "stream",
     "text": [
      "Dataset Loaded\n"
     ]
    }
   ],
   "source": [
    "# Load English data\n",
    "english_sentences = helper.load_data('data/small_vocab_en')\n",
    "# Load French data\n",
    "french_sentences = helper.load_data('data/small_vocab_fr')\n",
    "print('Dataset Loaded')"
   ]
  },
  {
   "cell_type": "markdown",
   "metadata": {},
   "source": [
    "### Files\n",
    "Each line in `small_vocab_en` contains an English sentence with the respective translation in each line of `small_vocab_fr`.  View the first two lines from each file."
   ]
  },
  {
   "cell_type": "code",
   "execution_count": 5,
   "metadata": {},
   "outputs": [
    {
     "name": "stdout",
     "output_type": "stream",
     "text": [
      "small_vocab_en Line 1:  new jersey is sometimes quiet during autumn , and it is snowy in april .\n",
      "small_vocab_fr Line 1:  new jersey est parfois calme pendant l' automne , et il est neigeux en avril .\n",
      "small_vocab_en Line 2:  the united states is usually chilly during july , and it is usually freezing in november .\n",
      "small_vocab_fr Line 2:  les états-unis est généralement froid en juillet , et il gèle habituellement en novembre .\n"
     ]
    }
   ],
   "source": [
    "for sample_i in range(2):\n",
    "    print('small_vocab_en Line {}:  {}'.format(sample_i + 1, english_sentences[sample_i]))\n",
    "    print('small_vocab_fr Line {}:  {}'.format(sample_i + 1, french_sentences[sample_i]))"
   ]
  },
  {
   "cell_type": "markdown",
   "metadata": {},
   "source": [
    "### Vocabulary\n",
    "The complexity of the problem is determined by the complexity of the vocabulary.  A more complex vocabulary is a more complex problem.  This dataset has been specifically chosen to have a small vocabulary. For comparison, _Alice's Adventures in Wonderland_ contains 2,766 unique words of a total of 15,500 words."
   ]
  },
  {
   "cell_type": "code",
   "execution_count": 6,
   "metadata": {},
   "outputs": [
    {
     "name": "stdout",
     "output_type": "stream",
     "text": [
      "1823250 English words.\n",
      "227 unique English words.\n",
      "10 Most common words in the English dataset:\n",
      "\"is\" \",\" \".\" \"in\" \"it\" \"during\" \"the\" \"but\" \"and\" \"sometimes\"\n",
      "\n",
      "1961295 French words.\n",
      "355 unique French words.\n",
      "10 Most common words in the French dataset:\n",
      "\"est\" \".\" \",\" \"en\" \"il\" \"les\" \"mais\" \"et\" \"la\" \"parfois\"\n"
     ]
    }
   ],
   "source": [
    "english_words_counter = collections.Counter([word for sentence in english_sentences for word in sentence.split()])\n",
    "french_words_counter = collections.Counter([word for sentence in french_sentences for word in sentence.split()])\n",
    "\n",
    "print('{} English words.'.format(len([word for sentence in english_sentences for word in sentence.split()])))\n",
    "print('{} unique English words.'.format(len(english_words_counter)))\n",
    "print('10 Most common words in the English dataset:')\n",
    "print('\"' + '\" \"'.join(list(zip(*english_words_counter.most_common(10)))[0]) + '\"')\n",
    "print()\n",
    "print('{} French words.'.format(len([word for sentence in french_sentences for word in sentence.split()])))\n",
    "print('{} unique French words.'.format(len(french_words_counter)))\n",
    "print('10 Most common words in the French dataset:')\n",
    "print('\"' + '\" \"'.join(list(zip(*french_words_counter.most_common(10)))[0]) + '\"')"
   ]
  },
  {
   "cell_type": "markdown",
   "metadata": {},
   "source": [
    "## Preprocess\n",
    "Convert the text into sequences of integers using:\n",
    "1. Tokenize the words into ids\n",
    "2. Add padding to make all the sequences the same length.\n",
    "\n",
    "### Tokenize (IMPLEMENTATION)\n",
    "Each character or word can be turned into character and word ids (integers), respectively.  Character ids are used for character level models that generate text predictions for each character.  A word level model uses word ids that generate text predictions for each word.  Word level models tend to learn better, since they are lower in complexity.\n",
    "\n",
    "Each sentence can be turned into a sequence of words ids using Keras's [`Tokenizer`](https://keras.io/preprocessing/text/#tokenizer) function. "
   ]
  },
  {
   "cell_type": "code",
   "execution_count": 7,
   "metadata": {},
   "outputs": [
    {
     "name": "stdout",
     "output_type": "stream",
     "text": [
      "{'the': 1, 'quick': 2, 'a': 3, 'brown': 4, 'fox': 5, 'jumps': 6, 'over': 7, 'lazy': 8, 'dog': 9, 'by': 10, 'jove': 11, 'my': 12, 'study': 13, 'of': 14, 'lexicography': 15, 'won': 16, 'prize': 17, 'this': 18, 'is': 19, 'short': 20, 'sentence': 21}\n",
      "\n",
      "Sequence 1 in x\n",
      "  Input:  The quick brown fox jumps over the lazy dog .\n",
      "  Output: [1, 2, 4, 5, 6, 7, 1, 8, 9]\n",
      "Sequence 2 in x\n",
      "  Input:  By Jove , my quick study of lexicography won a prize .\n",
      "  Output: [10, 11, 12, 2, 13, 14, 15, 16, 3, 17]\n",
      "Sequence 3 in x\n",
      "  Input:  This is a short sentence .\n",
      "  Output: [18, 19, 3, 20, 21]\n"
     ]
    }
   ],
   "source": [
    "def tokenize(x):\n",
    "    \"\"\"\n",
    "    Tokenize x\n",
    "    :param x: List of sentences/strings to be tokenized\n",
    "    :return: Tuple of (tokenized x data, tokenizer used to tokenize x)\n",
    "    \"\"\"\n",
    "\n",
    "    x_tk = Tokenizer(char_level=False)\n",
    "    x_tk.fit_on_texts(x)\n",
    "\n",
    "    return x_tk.texts_to_sequences(x), x_tk\n",
    "\n",
    "tests.test_tokenize(tokenize)\n",
    "\n",
    "# Tokenize Example output\n",
    "text_sentences = [\n",
    "    'The quick brown fox jumps over the lazy dog .',\n",
    "    'By Jove , my quick study of lexicography won a prize .',\n",
    "    'This is a short sentence .']\n",
    "text_tokenized, text_tokenizer = tokenize(text_sentences)\n",
    "print(text_tokenizer.word_index)\n",
    "print()\n",
    "for sample_i, (sent, token_sent) in enumerate(zip(text_sentences, text_tokenized)):\n",
    "    print('Sequence {} in x'.format(sample_i + 1))\n",
    "    print('  Input:  {}'.format(sent))\n",
    "    print('  Output: {}'.format(token_sent))"
   ]
  },
  {
   "cell_type": "markdown",
   "metadata": {},
   "source": [
    "### Padding \n",
    "When batching the sequence of word ids together, each sequence needs to be the same length.  Hence, padding.\n",
    "\n",
    "All source language sentences should be of the same length and all target language sentences too.  No need for source and target sentences to be of the same length, though. "
   ]
  },
  {
   "cell_type": "code",
   "execution_count": 9,
   "metadata": {},
   "outputs": [
    {
     "name": "stdout",
     "output_type": "stream",
     "text": [
      "Sequence 1 in x\n",
      "  Input:  [1 2 4 5 6 7 1 8 9]\n",
      "  Output: [1 2 4 5 6 7 1 8 9 0]\n",
      "Sequence 2 in x\n",
      "  Input:  [10 11 12  2 13 14 15 16  3 17]\n",
      "  Output: [10 11 12  2 13 14 15 16  3 17]\n",
      "Sequence 3 in x\n",
      "  Input:  [18 19  3 20 21]\n",
      "  Output: [18 19  3 20 21  0  0  0  0  0]\n"
     ]
    }
   ],
   "source": [
    "import numpy as np\n",
    "from keras.preprocessing.sequence import pad_sequences\n",
    "\n",
    "def pad(x, length=None):\n",
    "    \"\"\"\n",
    "    Pad x\n",
    "    :param x: List of sequences.\n",
    "    :param length: Length to pad the sequence to.  If None, use length of longest sequence in x.\n",
    "    :return: Padded numpy array of sequences\n",
    "    \"\"\"\n",
    "    if length is None:\n",
    "        length = max([len(sentence) for sentence in x])\n",
    "    return pad_sequences(x, maxlen=length, padding='post')\n",
    "\n",
    "tests.test_pad(pad)\n",
    "\n",
    "# Pad Tokenized output\n",
    "test_pad = pad(text_tokenized)\n",
    "for sample_i, (token_sent, pad_sent) in enumerate(zip(text_tokenized, test_pad)):\n",
    "    print('Sequence {} in x'.format(sample_i + 1))\n",
    "    print('  Input:  {}'.format(np.array(token_sent)))\n",
    "    print('  Output: {}'.format(pad_sent))"
   ]
  },
  {
   "cell_type": "code",
   "execution_count": 10,
   "metadata": {},
   "outputs": [
    {
     "data": {
      "text/plain": [
       "'new jersey is sometimes quiet during autumn , and it is snowy in april .'"
      ]
     },
     "execution_count": 10,
     "metadata": {},
     "output_type": "execute_result"
    }
   ],
   "source": [
    "english_sentences[0]"
   ]
  },
  {
   "cell_type": "markdown",
   "metadata": {},
   "source": [
    "### Preprocess Pipeline\n",
    "All the preprocessing steps put together."
   ]
  },
  {
   "cell_type": "code",
   "execution_count": 11,
   "metadata": {},
   "outputs": [
    {
     "name": "stdout",
     "output_type": "stream",
     "text": [
      "Data Preprocessed\n",
      "Max English sentence length: 15\n",
      "Max French sentence length: 21\n",
      "English vocabulary size: 199\n",
      "French vocabulary size: 344\n"
     ]
    }
   ],
   "source": [
    "def preprocess(x, y):\n",
    "    \"\"\"\n",
    "    Preprocess x and y\n",
    "    :param x: Feature List of sentences\n",
    "    :param y: Label List of sentences\n",
    "    :return: Tuple of (Preprocessed x, Preprocessed y, x tokenizer, y tokenizer)\n",
    "    \"\"\"\n",
    "    preprocess_x, x_tk = tokenize(x)\n",
    "    preprocess_y, y_tk = tokenize(y)\n",
    "\n",
    "    preprocess_x = pad(preprocess_x)\n",
    "    preprocess_y = pad(preprocess_y)\n",
    "\n",
    "    # Keras's sparse_categorical_crossentropy function requires the labels to be in 3 dimensions\n",
    "    preprocess_y = preprocess_y.reshape(*preprocess_y.shape, 1)\n",
    "\n",
    "    return preprocess_x, preprocess_y, x_tk, y_tk\n",
    "\n",
    "preproc_english_sentences, preproc_french_sentences, english_tokenizer, french_tokenizer =\\\n",
    "    preprocess(english_sentences, french_sentences)\n",
    "    \n",
    "max_english_sequence_length = preproc_english_sentences.shape[1]\n",
    "max_french_sequence_length = preproc_french_sentences.shape[1]\n",
    "english_vocab_size = len(english_tokenizer.word_index)\n",
    "french_vocab_size = len(french_tokenizer.word_index)\n",
    "\n",
    "print('Data Preprocessed')\n",
    "print(\"Max English sentence length:\", max_english_sequence_length)\n",
    "print(\"Max French sentence length:\", max_french_sequence_length)\n",
    "print(\"English vocabulary size:\", english_vocab_size)\n",
    "print(\"French vocabulary size:\", french_vocab_size)"
   ]
  },
  {
   "cell_type": "markdown",
   "metadata": {},
   "source": [
    "### Ids Back to Text\n",
    "The neural network will be translating the input to words ids.  The function `logits_to_text` will bridge the gap between the logits from the neural network to the French translation.  "
   ]
  },
  {
   "cell_type": "code",
   "execution_count": 12,
   "metadata": {},
   "outputs": [
    {
     "name": "stdout",
     "output_type": "stream",
     "text": [
      "`logits_to_text` function loaded.\n"
     ]
    }
   ],
   "source": [
    "def logits_to_text(logits, tokenizer):\n",
    "    \"\"\"\n",
    "    Turn logits from a neural network into text using the tokenizer\n",
    "    :param logits: Logits from a neural network\n",
    "    :param tokenizer: Keras Tokenizer fit on the labels\n",
    "    :return: String that represents the text of the logits\n",
    "    \"\"\"\n",
    "    index_to_words = {id: word for word, id in tokenizer.word_index.items()}\n",
    "    index_to_words[0] = '<PAD>'\n",
    "\n",
    "    return ' '.join([index_to_words[prediction] for prediction in np.argmax(logits, 1)])\n",
    "\n",
    "print('`logits_to_text` function loaded.')"
   ]
  },
  {
   "cell_type": "code",
   "execution_count": 13,
   "metadata": {},
   "outputs": [],
   "source": [
    "def decoder(sentence, tokenizer):\n",
    "    '''decode a sentence, given the tokenizer'''\n",
    "    index_to_words = {id: word for word, id in tokenizer.word_index.items()}\n",
    "    index_to_words[0] = '<PAD>'    \n",
    "    return ' '.join([index_to_words[int(wordint)] for wordint in sentence])"
   ]
  },
  {
   "cell_type": "markdown",
   "metadata": {},
   "source": [
    "### Define model architecture\n",
    "\n",
    "Create a translation model (t_model) that incorporates embedding and a bidirectional rnn into one model."
   ]
  },
  {
   "cell_type": "code",
   "execution_count": 14,
   "metadata": {},
   "outputs": [
    {
     "name": "stdout",
     "output_type": "stream",
     "text": [
      "Final Model Loaded\n"
     ]
    },
    {
     "name": "stderr",
     "output_type": "stream",
     "text": [
      "/home/thojo/.local/lib/python3.6/site-packages/keras/engine/sequential.py:109: UserWarning: `Sequential.model` is deprecated. `Sequential` is a subclass of `Model`, you can just use your `Sequential` instance directly.\n",
      "  warnings.warn('`Sequential.model` is deprecated. '\n"
     ]
    }
   ],
   "source": [
    "from keras.layers import Dropout\n",
    "from keras.models  import Sequential\n",
    "def t_model(input_shape, output_sequence_length, english_vocab_size, french_vocab_size):\n",
    "    \"\"\"\n",
    "    Build and train a model that incorporates embedding, encoder-decoder, and bidirectional RNN on x and y\n",
    "    :param input_shape: Tuple of input shape\n",
    "    :param output_sequence_length: Length of output sequence\n",
    "    :param english_vocab_size: Number of unique English words in the dataset\n",
    "    :param french_vocab_size: Number of unique French words in the dataset\n",
    "    :return: Keras model built, but not trained\n",
    "    \"\"\"\n",
    "    embed_size = 200    \n",
    "    learning_rate = 1e-3\n",
    "    num_hidden = 256\n",
    "    \n",
    "    model = Sequential()\n",
    "    # Encoder part\n",
    "    model.add( Embedding(english_vocab_size, embed_size, input_length=input_shape[-1] ) )    \n",
    "#     model.add( Bidirectional( LSTM(num_hidden, go_backwards=True, input_shape=input_shape[1:],  dropout = 0.5, recurrent_dropout = 0.5)) )  \n",
    "    model.add( Bidirectional( GRU(num_hidden, go_backwards=True, dropout = 0.4, recurrent_dropout = 0.4 ) ) )\n",
    "    model.add( RepeatVector(output_sequence_length) )\n",
    "\n",
    "    # Decoder part\n",
    "#     model.add( Bidirectional( LSTM(num_hidden, return_sequences=True, dropout = 0.5, recurrent_dropout = 0.5)) ) \n",
    "    model.add( Bidirectional( GRU(num_hidden, return_sequences=True, dropout = 0.4, recurrent_dropout = 0.4 ) ) )\n",
    "    model.add( TimeDistributed( Dense(512) ) )\n",
    "    model.add( Dropout(0.5))\n",
    "    model.add( TimeDistributed( Dense(french_vocab_size) ) )\n",
    "    model.add( Activation('softmax') )\n",
    "\n",
    "    model.compile(loss=sparse_categorical_crossentropy,\n",
    "                  optimizer=Adam(learning_rate),\n",
    "                  metrics=['accuracy'])\n",
    "    return model\n",
    "\n",
    "tests.test_model_final(t_model)\n",
    "print('Final Model Loaded')"
   ]
  },
  {
   "cell_type": "code",
   "execution_count": 16,
   "metadata": {},
   "outputs": [
    {
     "name": "stdout",
     "output_type": "stream",
     "text": [
      "_________________________________________________________________\n",
      "Layer (type)                 Output Shape              Param #   \n",
      "=================================================================\n",
      "embedding_2 (Embedding)      (None, 1, 200)            39800     \n",
      "_________________________________________________________________\n",
      "bidirectional_3 (Bidirection (None, 512)               701952    \n",
      "_________________________________________________________________\n",
      "repeat_vector_2 (RepeatVecto (None, 21, 512)           0         \n",
      "_________________________________________________________________\n",
      "bidirectional_4 (Bidirection (None, 21, 512)           1181184   \n",
      "_________________________________________________________________\n",
      "time_distributed_3 (TimeDist (None, 21, 512)           262656    \n",
      "_________________________________________________________________\n",
      "dropout_2 (Dropout)          (None, 21, 512)           0         \n",
      "_________________________________________________________________\n",
      "time_distributed_4 (TimeDist (None, 21, 344)           176472    \n",
      "_________________________________________________________________\n",
      "activation_2 (Activation)    (None, 21, 344)           0         \n",
      "=================================================================\n",
      "Total params: 2,362,064\n",
      "Trainable params: 2,362,064\n",
      "Non-trainable params: 0\n",
      "_________________________________________________________________\n",
      "None\n"
     ]
    }
   ],
   "source": [
    "# Train the final model\n",
    "tmp_x = pad( preproc_english_sentences, max_french_sequence_length )\n",
    "tmp_x = tmp_x.reshape( (-1, preproc_french_sentences.shape[-2], 1) )\n",
    "\n",
    "my_model = t_model(\n",
    "    tmp_x.shape,\n",
    "    max_french_sequence_length,\n",
    "    english_vocab_size,\n",
    "    french_vocab_size)\n",
    "\n",
    "print( my_model.summary() )"
   ]
  },
  {
   "cell_type": "code",
   "execution_count": 17,
   "metadata": {},
   "outputs": [
    {
     "name": "stdout",
     "output_type": "stream",
     "text": [
      "inputs shape: (?, 21, 512)\n",
      "Final Model Loaded\n"
     ]
    },
    {
     "name": "stderr",
     "output_type": "stream",
     "text": [
      "/home/thojo/.local/lib/python3.6/site-packages/keras/engine/sequential.py:109: UserWarning: `Sequential.model` is deprecated. `Sequential` is a subclass of `Model`, you can just use your `Sequential` instance directly.\n",
      "  warnings.warn('`Sequential.model` is deprecated. '\n"
     ]
    }
   ],
   "source": [
    "from keras.layers import Dropout\n",
    "from keras.models  import Sequential\n",
    "def att_model(input_shape, output_sequence_length, english_vocab_size, french_vocab_size):\n",
    "    \"\"\"\n",
    "    Build and train a model that incorporates embedding, encoder-decoder, and bidirectional RNN on x and y\n",
    "    :param input_shape: Tuple of input shape\n",
    "    :param output_sequence_length: Length of output sequence\n",
    "    :param english_vocab_size: Number of unique English words in the dataset\n",
    "    :param french_vocab_size: Number of unique French words in the dataset\n",
    "    :return: Keras model built, but not trained\n",
    "    \"\"\"\n",
    "    embed_size = 200    \n",
    "    learning_rate = 1e-3\n",
    "    num_hidden = 256\n",
    "    \n",
    "    model = Sequential()\n",
    "    # Encoder part\n",
    "    model.add( Embedding(english_vocab_size, embed_size, input_length=input_shape[-1] ) )    \n",
    "#     model.add( Bidirectional( LSTM(num_hidden, go_backwards=True, input_shape=input_shape[1:],  dropout = 0.5, recurrent_dropout = 0.5)) )  \n",
    "    model.add( Bidirectional( GRU(num_hidden, go_backwards=False, dropout = 0.4, recurrent_dropout = 0.4 ) ) )\n",
    "    model.add( RepeatVector(output_sequence_length) )\n",
    "\n",
    "    # Decoder part\n",
    "#     model.add( Bidirectional( LSTM(num_hidden, return_sequences=True, dropout = 0.5, recurrent_dropout = 0.5)) ) \n",
    "#     model.add( Bidirectional( GRU(num_hidden, return_sequences=True, dropout = 0.4, recurrent_dropout = 0.4 ) ) )\n",
    "#     model.add( TimeDistributed( Dense(512) ) )\n",
    "#     model.add( Dropout(0.5))\n",
    "#     model.add( TimeDistributed( Dense(french_vocab_size) ) )\n",
    "#     model.add( Activation('softmax') )\n",
    "    model.add( AttentionDecoder(num_hidden, french_vocab_size))\n",
    "    model.compile(loss=sparse_categorical_crossentropy,\n",
    "                  optimizer=Adam(learning_rate),\n",
    "                  metrics=['accuracy'])\n",
    "    return model\n",
    "\n",
    "tests.test_model_final(att_model)\n",
    "print('Final Model Loaded')"
   ]
  },
  {
   "cell_type": "markdown",
   "metadata": {},
   "source": [
    "## Prediction (IMPLEMENTATION)"
   ]
  },
  {
   "cell_type": "code",
   "execution_count": 18,
   "metadata": {},
   "outputs": [],
   "source": [
    "def final_predictions( x, y, x_tk, y_tk ):\n",
    "    \"\"\"\n",
    "    Gets predictions using the final model\n",
    "    :param x: Preprocessed English data\n",
    "    :param y: Preprocessed French data\n",
    "    :param x_tk: English tokenizer\n",
    "    :param y_tk: French tokenizer\n",
    "    \"\"\"\n",
    "    # note: x and y are already pre-processed\n",
    "    # Train neural network using model_final\n",
    "    model = t_model(x.shape, \n",
    "                    y.shape[1], \n",
    "                    len(x_tk.word_index), \n",
    "                    len(y_tk.word_index) )\n",
    "    \n",
    "    model.fit( x, y, batch_size=2048, epochs=10, validation_split=0.2 )\n",
    "    \n",
    "    y_id_to_word = { value: key for key, value in y_tk.word_index.items() }\n",
    "    y_id_to_word[0] = '<PAD>'\n",
    "\n",
    "    sentence = 'he saw a old yellow truck'\n",
    "    sentence = [ x_tk.word_index[word] for word in sentence.split() ]\n",
    "    sentence = pad_sequences( [sentence], maxlen=x.shape[-1], padding='post' )\n",
    "    sentences = np.array( [sentence[0], x[0]] )\n",
    "    predictions = model.predict( sentences, len(sentences ) )\n",
    "\n",
    "    print('Sample 1:')\n",
    "    print(' '.join( [y_id_to_word[np.argmax(x)] for x in predictions[0]] ) )\n",
    "    print('Il a vu un vieux camion jaune')\n",
    "    print(' '.join( [y_id_to_word[np.max(x)] for x in y[0]] ) )\n",
    "\n",
    "    print('Sample 2:')\n",
    "    print(' '.join( [y_id_to_word[np.argmax(x)] for x in predictions[1]] ) )\n",
    "    print(' '.join( [y_id_to_word[np.max(x)] for x in y[1]] ) )\n",
    "    return model"
   ]
  },
  {
   "cell_type": "code",
   "execution_count": 19,
   "metadata": {},
   "outputs": [
    {
     "name": "stdout",
     "output_type": "stream",
     "text": [
      "Train on 110288 samples, validate on 27573 samples\n",
      "Epoch 1/10\n",
      "110288/110288 [==============================] - 15s 133us/step - loss: 3.2457 - acc: 0.4253 - val_loss: nan - val_acc: 0.4701\n",
      "Epoch 2/10\n",
      "110288/110288 [==============================] - 11s 102us/step - loss: 2.1984 - acc: 0.4786 - val_loss: nan - val_acc: 0.5052\n",
      "Epoch 3/10\n",
      "110288/110288 [==============================] - 11s 102us/step - loss: 1.9067 - acc: 0.5235 - val_loss: nan - val_acc: 0.5949\n",
      "Epoch 4/10\n",
      "110288/110288 [==============================] - 11s 102us/step - loss: 1.6198 - acc: 0.5788 - val_loss: nan - val_acc: 0.6410\n",
      "Epoch 5/10\n",
      "110288/110288 [==============================] - 11s 102us/step - loss: 1.4376 - acc: 0.6146 - val_loss: nan - val_acc: 0.6605\n",
      "Epoch 6/10\n",
      "110288/110288 [==============================] - 11s 102us/step - loss: 1.3041 - acc: 0.6388 - val_loss: nan - val_acc: 0.6902\n",
      "Epoch 7/10\n",
      "110288/110288 [==============================] - 11s 102us/step - loss: 1.1902 - acc: 0.6642 - val_loss: nan - val_acc: 0.7188\n",
      "Epoch 8/10\n",
      "110288/110288 [==============================] - 11s 103us/step - loss: 1.0877 - acc: 0.6896 - val_loss: nan - val_acc: 0.7437\n",
      "Epoch 9/10\n",
      "110288/110288 [==============================] - 11s 103us/step - loss: 0.9983 - acc: 0.7117 - val_loss: nan - val_acc: 0.7601\n",
      "Epoch 10/10\n",
      "110288/110288 [==============================] - 11s 103us/step - loss: 0.9219 - acc: 0.7296 - val_loss: nan - val_acc: 0.7815\n",
      "Sample 1:\n",
      "il a vu un camion camion camion <PAD> <PAD> <PAD> <PAD> <PAD> <PAD> <PAD> <PAD> <PAD> <PAD> <PAD> <PAD> <PAD> <PAD>\n",
      "Il a vu un vieux camion jaune\n",
      "new jersey est parfois calme pendant l' automne et il est neigeux en avril <PAD> <PAD> <PAD> <PAD> <PAD> <PAD> <PAD>\n",
      "Sample 2:\n",
      "new jersey est parfois chaud pendant cours et il est est en en <PAD> <PAD> <PAD> <PAD> <PAD> <PAD> <PAD> <PAD>\n",
      "les états unis est généralement froid en juillet et il gèle habituellement en novembre <PAD> <PAD> <PAD> <PAD> <PAD> <PAD> <PAD>\n"
     ]
    }
   ],
   "source": [
    "full_model=final_predictions(preproc_english_sentences, preproc_french_sentences, english_tokenizer, french_tokenizer)"
   ]
  },
  {
   "cell_type": "code",
   "execution_count": 20,
   "metadata": {},
   "outputs": [],
   "source": [
    "full_model.save( 'saved_models/full_model.h5' )"
   ]
  },
  {
   "cell_type": "markdown",
   "metadata": {},
   "source": [
    "# Notes:\n",
    "\n",
    "-  I have used `go_backwards=True` for the encoding RNNs in the Encoder-Decoder model as well as the final_model per suggestions in places such as __[this link](https://cntk.ai/pythondocs/CNTK_204_Sequence_To_Sequence.html)__ which advice to use `False` for the attention models and `True` otherwise. However, I found that the models here also work with the default `go_backwards=False` but just have lower accuracy by about 5%. \n",
    "-  References for encoder-decoder __[1](https://blog.keras.io/building-autoencoders-in-keras.html)__, __[2](https://github.com/keras-team/keras/issues/5203)__, __[3](https://www.jianshu.com/p/c294e4cb4070)__"
   ]
  },
  {
   "cell_type": "markdown",
   "metadata": {},
   "source": [
    "## Proper test train split\n",
    "\n",
    "This project focuses on learning various network architectures for machine translation, but we don't evaluate the models according to best practices by splitting the data into separate test & training sets -- so the model accuracy is overstated. Use the [`sklearn.model_selection.train_test_split()`](http://scikit-learn.org/stable/modules/generated/sklearn.model_selection.train_test_split.html) function to create separate training & test datasets, then retrain each of the models using only the training set and evaluate the prediction accuracy using the hold out test set. Does the \"best\" model change?"
   ]
  },
  {
   "cell_type": "code",
   "execution_count": 21,
   "metadata": {},
   "outputs": [
    {
     "name": "stdout",
     "output_type": "stream",
     "text": [
      "Data Preprocessed\n",
      "Max English sentence length: 15\n",
      "Max French sentence length: 21\n",
      "English vocabulary size: 199\n",
      "French vocabulary size: 344\n"
     ]
    }
   ],
   "source": [
    "from sklearn.model_selection import train_test_split\n",
    "\n",
    "X_train, X_test, y_train, y_test = train_test_split( english_sentences, french_sentences, test_size=0.1, random_state=42)\n",
    "\n",
    "tt_preproc_english_sentences, tt_preproc_french_sentences, tt_english_tokenizer, tt_french_tokenizer =\\\n",
    "    preprocess( X_train, y_train )\n",
    "    \n",
    "tt_max_english_sequence_length = tt_preproc_english_sentences.shape[1]\n",
    "tt_max_french_sequence_length = tt_preproc_french_sentences.shape[1]\n",
    "tt_english_vocab_size = len(tt_english_tokenizer.word_index)\n",
    "tt_french_vocab_size = len(tt_french_tokenizer.word_index)\n",
    "\n",
    "tt_x_pad = pad( tt_preproc_english_sentences, tt_max_french_sequence_length )\n",
    "tt_x = tt_x_pad.reshape( ( -1, tt_preproc_french_sentences.shape[-2], 1 ) )\n",
    "\n",
    "test_preproc_english_sentences, test_preproc_french_sentences, _, _ = preprocess( X_test, y_test )\n",
    "test_x_pad = pad( test_preproc_english_sentences, tt_preproc_french_sentences.shape[1] )\n",
    "test_x = test_x_pad.reshape( (-1, tt_preproc_french_sentences.shape[1], 1 ) )\n",
    "test_y = pad( test_preproc_french_sentences, tt_preproc_french_sentences.shape[1] )\n",
    "\n",
    "print( 'Data Preprocessed')\n",
    "print( \"Max English sentence length:\", tt_max_english_sequence_length )\n",
    "print( \"Max French sentence length:\", tt_max_french_sequence_length )\n",
    "print( \"English vocabulary size:\", tt_english_vocab_size )\n",
    "print( \"French vocabulary size:\", tt_french_vocab_size )"
   ]
  },
  {
   "cell_type": "markdown",
   "metadata": {},
   "source": [
    "# Accuracy on the test set\n",
    "Implement test-train split"
   ]
  },
  {
   "cell_type": "code",
   "execution_count": 22,
   "metadata": {},
   "outputs": [
    {
     "name": "stdout",
     "output_type": "stream",
     "text": [
      "Train on 111666 samples, validate on 12408 samples\n",
      "Epoch 1/10\n",
      "111666/111666 [==============================] - 15s 130us/step - loss: 3.7319 - acc: 0.3980 - val_loss: nan - val_acc: 0.4405\n",
      "Epoch 2/10\n",
      "111666/111666 [==============================] - 11s 100us/step - loss: 2.6584 - acc: 0.4615 - val_loss: nan - val_acc: 0.4764\n",
      "Epoch 3/10\n",
      "111666/111666 [==============================] - 11s 100us/step - loss: 2.2839 - acc: 0.4738 - val_loss: nan - val_acc: 0.4800\n",
      "Epoch 4/10\n",
      "111666/111666 [==============================] - 11s 100us/step - loss: 2.1073 - acc: 0.4891 - val_loss: nan - val_acc: 0.5206\n",
      "Epoch 5/10\n",
      "111666/111666 [==============================] - 11s 100us/step - loss: 1.9353 - acc: 0.5200 - val_loss: nan - val_acc: 0.5660\n",
      "Epoch 6/10\n",
      "111666/111666 [==============================] - 11s 100us/step - loss: 1.7464 - acc: 0.5555 - val_loss: nan - val_acc: 0.6058\n",
      "Epoch 7/10\n",
      "111666/111666 [==============================] - 11s 100us/step - loss: 1.6096 - acc: 0.5813 - val_loss: nan - val_acc: 0.6310\n",
      "Epoch 8/10\n",
      "111666/111666 [==============================] - 11s 100us/step - loss: 1.5057 - acc: 0.6027 - val_loss: nan - val_acc: 0.6383\n",
      "Epoch 9/10\n",
      "111666/111666 [==============================] - 11s 100us/step - loss: 1.4218 - acc: 0.6193 - val_loss: nan - val_acc: 0.6686\n",
      "Epoch 10/10\n",
      "111666/111666 [==============================] - 11s 100us/step - loss: 1.3453 - acc: 0.6344 - val_loss: nan - val_acc: 0.6836\n"
     ]
    },
    {
     "data": {
      "text/plain": [
       "<keras.callbacks.History at 0x7f78841e4828>"
      ]
     },
     "execution_count": 22,
     "metadata": {},
     "output_type": "execute_result"
    }
   ],
   "source": [
    "tt_model = t_model(\n",
    "    tt_x_pad.shape,\n",
    "    tt_max_french_sequence_length,\n",
    "    tt_english_vocab_size,\n",
    "    tt_french_vocab_size)\n",
    "tt_model.fit( tt_x_pad, tt_preproc_french_sentences, batch_size=4096, epochs=10, validation_split=0.1 ) "
   ]
  },
  {
   "cell_type": "code",
   "execution_count": 23,
   "metadata": {},
   "outputs": [
    {
     "name": "stdout",
     "output_type": "stream",
     "text": [
      "Prediction\n",
      "la le est est fruit moins aimé la la mais est est moins aimé <PAD> <PAD> <PAD> <PAD> <PAD> <PAD> <PAD>\n",
      "Reference translation\n",
      "le pamplemousse est son moins aimé des fruits , mais la chaux est leur moins aimé .\n",
      "Original English sentence\n",
      "the grapefruit is her least liked fruit , but the lime is their least liked .\n"
     ]
    }
   ],
   "source": [
    "sentnum = 2\n",
    "print('Prediction') \n",
    "print( logits_to_text( tt_model.predict( tt_x_pad[sentnum:sentnum+1] )[0], tt_french_tokenizer) )\n",
    "print('Reference translation')\n",
    "print( y_train[sentnum] )\n",
    "print('Original English sentence')\n",
    "print( X_train[sentnum] )"
   ]
  },
  {
   "cell_type": "code",
   "execution_count": 24,
   "metadata": {},
   "outputs": [
    {
     "name": "stdout",
     "output_type": "stream",
     "text": [
      "124074/124074 [==============================] - 5s 39us/step\n",
      "Final model acc on training data = 0.68\n",
      "13787/13787 [==============================] - 1s 40us/step\n",
      "Final model acc on test data = 0.54\n"
     ]
    }
   ],
   "source": [
    "score, acc = tt_model.evaluate( tt_x_pad, tt_preproc_french_sentences, batch_size=2048 ) # train set\n",
    "# print( 'Final model true score = {:4.2f}'.format(score) )\n",
    "print( 'Final model acc on training data = {:4.2f}'.format(acc) )\n",
    "score, acc = tt_model.evaluate( test_x_pad, test_y, batch_size=2048 ) # test set \n",
    "print( 'Final model acc on test data = {:4.2f}'.format(acc) )"
   ]
  },
  {
   "cell_type": "code",
   "execution_count": 25,
   "metadata": {},
   "outputs": [],
   "source": [
    "tt_model.save( 'saved_models/tt_model.h5' )"
   ]
  },
  {
   "cell_type": "markdown",
   "metadata": {},
   "source": [
    "# For model with attention"
   ]
  },
  {
   "cell_type": "code",
   "execution_count": 26,
   "metadata": {},
   "outputs": [
    {
     "name": "stdout",
     "output_type": "stream",
     "text": [
      "inputs shape: (?, 21, 512)\n",
      "_________________________________________________________________\n",
      "Layer (type)                 Output Shape              Param #   \n",
      "=================================================================\n",
      "embedding_6 (Embedding)      (None, 21, 200)           39800     \n",
      "_________________________________________________________________\n",
      "bidirectional_10 (Bidirectio (None, 512)               701952    \n",
      "_________________________________________________________________\n",
      "repeat_vector_6 (RepeatVecto (None, 21, 512)           0         \n",
      "_________________________________________________________________\n",
      "AttentionDecoder (AttentionD (None, 21, 344)           1565848   \n",
      "=================================================================\n",
      "Total params: 2,307,600\n",
      "Trainable params: 2,307,600\n",
      "Non-trainable params: 0\n",
      "_________________________________________________________________\n",
      "None\n"
     ]
    }
   ],
   "source": [
    "atten = att_model(\n",
    "    tt_x_pad.shape,\n",
    "    tt_max_french_sequence_length,\n",
    "    tt_english_vocab_size,\n",
    "    tt_french_vocab_size)\n",
    "print( atten.summary() )"
   ]
  },
  {
   "cell_type": "code",
   "execution_count": 27,
   "metadata": {},
   "outputs": [
    {
     "name": "stdout",
     "output_type": "stream",
     "text": [
      "Train on 111666 samples, validate on 12408 samples\n",
      "Epoch 1/10\n",
      "111666/111666 [==============================] - 19s 167us/step - loss: 3.6312 - acc: 0.4130 - val_loss: nan - val_acc: 0.4498\n",
      "Epoch 2/10\n",
      "111666/111666 [==============================] - 15s 139us/step - loss: 2.3596 - acc: 0.4858 - val_loss: nan - val_acc: 0.5232\n",
      "Epoch 3/10\n",
      "111666/111666 [==============================] - 15s 138us/step - loss: 1.8509 - acc: 0.5478 - val_loss: nan - val_acc: 0.5812\n",
      "Epoch 4/10\n",
      "111666/111666 [==============================] - 15s 138us/step - loss: 1.6005 - acc: 0.5965 - val_loss: nan - val_acc: 0.6204\n",
      "Epoch 5/10\n",
      "111666/111666 [==============================] - 15s 139us/step - loss: 1.4328 - acc: 0.6264 - val_loss: nan - val_acc: 0.6402\n",
      "Epoch 6/10\n",
      "111666/111666 [==============================] - 15s 139us/step - loss: 1.3271 - acc: 0.6465 - val_loss: nan - val_acc: 0.6601\n",
      "Epoch 7/10\n",
      "111666/111666 [==============================] - 15s 139us/step - loss: 1.2414 - acc: 0.6655 - val_loss: nan - val_acc: 0.6858\n",
      "Epoch 8/10\n",
      "111666/111666 [==============================] - 15s 139us/step - loss: 1.1589 - acc: 0.6862 - val_loss: nan - val_acc: 0.7041\n",
      "Epoch 9/10\n",
      "111666/111666 [==============================] - 15s 138us/step - loss: 1.0776 - acc: 0.7042 - val_loss: nan - val_acc: 0.7197\n",
      "Epoch 10/10\n",
      "111666/111666 [==============================] - 15s 139us/step - loss: 1.0151 - acc: 0.7179 - val_loss: nan - val_acc: 0.7299\n"
     ]
    },
    {
     "data": {
      "text/plain": [
       "<keras.callbacks.History at 0x7f783a130d68>"
      ]
     },
     "execution_count": 27,
     "metadata": {},
     "output_type": "execute_result"
    }
   ],
   "source": [
    "atten.fit( tt_x_pad, tt_preproc_french_sentences, batch_size=4096, epochs=10, validation_split=0.1 ) "
   ]
  },
  {
   "cell_type": "code",
   "execution_count": 28,
   "metadata": {},
   "outputs": [
    {
     "name": "stdout",
     "output_type": "stream",
     "text": [
      "Prediction: \n",
      "la pamplemousse est son fruit aimé aimé fruits mais la est est moins moins aimé <PAD> <PAD> <PAD> <PAD> <PAD> <PAD>\n",
      "Reference translation: \n",
      "le pamplemousse est son moins aimé des fruits , mais la chaux est leur moins aimé .\n",
      "Original English sentence: \n",
      "the grapefruit is her least liked fruit , but the lime is their least liked .\n"
     ]
    }
   ],
   "source": [
    "sentnum = 2\n",
    "print('Prediction: ') \n",
    "print( logits_to_text( atten.predict( tt_x_pad[sentnum:sentnum+1] )[0], tt_french_tokenizer) )\n",
    "print('Reference translation: ')\n",
    "print( y_train[sentnum] )\n",
    "print('Original English sentence: ')\n",
    "print( X_train[sentnum] )"
   ]
  },
  {
   "cell_type": "code",
   "execution_count": 29,
   "metadata": {},
   "outputs": [
    {
     "name": "stdout",
     "output_type": "stream",
     "text": [
      "124074/124074 [==============================] - 6s 52us/step\n",
      "Attention model acc on training data = 0.73\n",
      "13787/13787 [==============================] - 1s 52us/step\n",
      "Attention model acc on test data = 0.55\n"
     ]
    }
   ],
   "source": [
    "# score, acc = atten.evaluate( test_x_pad, test_y, batch_size=128 )\n",
    "# print( 'Final model true score = {:4.2f}'.format(score) )\n",
    "# print( 'Final model acc = {:4.2f}'.format(acc) )\n",
    "score, acc = atten.evaluate( tt_x_pad, tt_preproc_french_sentences, batch_size=2048 ) # train set\n",
    "# print( 'Final model true score = {:4.2f}'.format(score) )\n",
    "print( 'Attention model acc on training data = {:4.2f}'.format(acc) )\n",
    "score, acc = atten.evaluate( test_x_pad, test_y, batch_size=2048 ) # test set \n",
    "print( 'Attention model acc on test data = {:4.2f}'.format(acc) )"
   ]
  },
  {
   "cell_type": "code",
   "execution_count": 30,
   "metadata": {},
   "outputs": [],
   "source": [
    "atten.save( 'saved_models/atten.h5' )"
   ]
  }
 ],
 "metadata": {
  "kernelspec": {
   "display_name": "Python 3",
   "language": "python",
   "name": "python3"
  },
  "language_info": {
   "codemirror_mode": {
    "name": "ipython",
    "version": 3
   },
   "file_extension": ".py",
   "mimetype": "text/x-python",
   "name": "python",
   "nbconvert_exporter": "python",
   "pygments_lexer": "ipython3",
   "version": "3.6.5"
  }
 },
 "nbformat": 4,
 "nbformat_minor": 1
}
