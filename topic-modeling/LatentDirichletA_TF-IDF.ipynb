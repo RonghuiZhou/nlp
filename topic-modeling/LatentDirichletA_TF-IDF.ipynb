{
 "cells": [
  {
   "cell_type": "markdown",
   "metadata": {},
   "source": [
    "## Latent Dirichlet Allocation application for topic modeling ##\n",
    "\n",
    "LDA is used to classify text in a document to a particular topic. It builds a topic per document model and words per topic model, modeled as Dirichlet distributions. \n",
    "\n",
    "* Each document is modeled as a multinomial distribution of topics and each topic is modeled as a multinomial distribution of words.\n",
    "* LDA assumes that the every chunk of text we feed into it will contain words that are somehow related. Therefore choosing the right corpus of data is crucial. \n",
    "* It also assumes documents are produced from a mixture of topics. Those topics then generate words based on their probability distribution. \n",
    "\n",
    "This is an **unsupervised learning** task"
   ]
  },
  {
   "cell_type": "markdown",
   "metadata": {},
   "source": [
    "The dataset is a list of over one million news headlines published over a period of 15 years. "
   ]
  },
  {
   "cell_type": "code",
   "execution_count": 1,
   "metadata": {},
   "outputs": [],
   "source": [
    "\n",
    "import pandas as pd\n",
    "data = pd.read_csv('abcnews-date-text.csv', error_bad_lines=False);\n",
    "# We only need the Headlines text column from the data\n",
    "data_text = data[:300000][['headline_text']];\n",
    "data_text['index'] = data_text.index\n",
    "\n",
    "documents = data_text"
   ]
  },
  {
   "cell_type": "markdown",
   "metadata": {},
   "source": [
    "Looking into the dataset:"
   ]
  },
  {
   "cell_type": "code",
   "execution_count": 2,
   "metadata": {},
   "outputs": [
    {
     "name": "stdout",
     "output_type": "stream",
     "text": [
      "300000\n"
     ]
    }
   ],
   "source": [
    "print(len(documents))"
   ]
  },
  {
   "cell_type": "code",
   "execution_count": 3,
   "metadata": {},
   "outputs": [
    {
     "data": {
      "text/html": [
       "<div>\n",
       "<style>\n",
       "    .dataframe thead tr:only-child th {\n",
       "        text-align: right;\n",
       "    }\n",
       "\n",
       "    .dataframe thead th {\n",
       "        text-align: left;\n",
       "    }\n",
       "\n",
       "    .dataframe tbody tr th {\n",
       "        vertical-align: top;\n",
       "    }\n",
       "</style>\n",
       "<table border=\"1\" class=\"dataframe\">\n",
       "  <thead>\n",
       "    <tr style=\"text-align: right;\">\n",
       "      <th></th>\n",
       "      <th>headline_text</th>\n",
       "      <th>index</th>\n",
       "    </tr>\n",
       "  </thead>\n",
       "  <tbody>\n",
       "    <tr>\n",
       "      <th>0</th>\n",
       "      <td>aba decides against community broadcasting lic...</td>\n",
       "      <td>0</td>\n",
       "    </tr>\n",
       "    <tr>\n",
       "      <th>1</th>\n",
       "      <td>act fire witnesses must be aware of defamation</td>\n",
       "      <td>1</td>\n",
       "    </tr>\n",
       "    <tr>\n",
       "      <th>2</th>\n",
       "      <td>a g calls for infrastructure protection summit</td>\n",
       "      <td>2</td>\n",
       "    </tr>\n",
       "    <tr>\n",
       "      <th>3</th>\n",
       "      <td>air nz staff in aust strike for pay rise</td>\n",
       "      <td>3</td>\n",
       "    </tr>\n",
       "    <tr>\n",
       "      <th>4</th>\n",
       "      <td>air nz strike to affect australian travellers</td>\n",
       "      <td>4</td>\n",
       "    </tr>\n",
       "  </tbody>\n",
       "</table>\n",
       "</div>"
      ],
      "text/plain": [
       "                                       headline_text  index\n",
       "0  aba decides against community broadcasting lic...      0\n",
       "1     act fire witnesses must be aware of defamation      1\n",
       "2     a g calls for infrastructure protection summit      2\n",
       "3           air nz staff in aust strike for pay rise      3\n",
       "4      air nz strike to affect australian travellers      4"
      ]
     },
     "execution_count": 3,
     "metadata": {},
     "output_type": "execute_result"
    }
   ],
   "source": [
    "documents[:5]"
   ]
  },
  {
   "cell_type": "markdown",
   "metadata": {},
   "source": [
    "## Data Preprocessing ##\n",
    "\n",
    "\n",
    "* **Tokenization**: Split the text into sentences and the sentences into words. Lowercase the words and remove punctuation.\n",
    "* Words that have fewer than 3 characters are removed.\n",
    "* All **stopwords** are removed.\n",
    "* Words are **lemmatized** - words in third person are changed to first person and verbs in past and future tenses are changed into present.\n",
    "* Words are **stemmed** - words are reduced to their root form.\n"
   ]
  },
  {
   "cell_type": "code",
   "execution_count": 4,
   "metadata": {},
   "outputs": [],
   "source": [
    "'''\n",
    "Loading Gensim and nltk libraries\n",
    "'''\n",
    "# pip install gensim\n",
    "import gensim\n",
    "from gensim.utils import simple_preprocess\n",
    "from gensim.parsing.preprocessing import STOPWORDS\n",
    "from nltk.stem import WordNetLemmatizer, SnowballStemmer\n",
    "from nltk.stem.porter import *\n",
    "import numpy as np\n",
    "np.random.seed(400)"
   ]
  },
  {
   "cell_type": "code",
   "execution_count": 5,
   "metadata": {},
   "outputs": [
    {
     "name": "stdout",
     "output_type": "stream",
     "text": [
      "[nltk_data] Downloading package wordnet to /root/nltk_data...\n",
      "[nltk_data]   Package wordnet is already up-to-date!\n"
     ]
    },
    {
     "data": {
      "text/plain": [
       "True"
      ]
     },
     "execution_count": 5,
     "metadata": {},
     "output_type": "execute_result"
    }
   ],
   "source": [
    "import nltk\n",
    "nltk.download('wordnet')"
   ]
  },
  {
   "cell_type": "markdown",
   "metadata": {},
   "source": [
    "### Lemmatizer Example\n",
    "Before preprocessing our dataset, let's first look at an lemmatizing example. What would be the output if we lemmatized the word 'went':"
   ]
  },
  {
   "cell_type": "code",
   "execution_count": 6,
   "metadata": {},
   "outputs": [
    {
     "name": "stdout",
     "output_type": "stream",
     "text": [
      "go\n"
     ]
    }
   ],
   "source": [
    "print(WordNetLemmatizer().lemmatize('went', pos = 'v')) # past tense to present tense"
   ]
  },
  {
   "cell_type": "markdown",
   "metadata": {},
   "source": [
    "### Stemming"
   ]
  },
  {
   "cell_type": "code",
   "execution_count": 7,
   "metadata": {},
   "outputs": [
    {
     "data": {
      "text/html": [
       "<div>\n",
       "<style>\n",
       "    .dataframe thead tr:only-child th {\n",
       "        text-align: right;\n",
       "    }\n",
       "\n",
       "    .dataframe thead th {\n",
       "        text-align: left;\n",
       "    }\n",
       "\n",
       "    .dataframe tbody tr th {\n",
       "        vertical-align: top;\n",
       "    }\n",
       "</style>\n",
       "<table border=\"1\" class=\"dataframe\">\n",
       "  <thead>\n",
       "    <tr style=\"text-align: right;\">\n",
       "      <th></th>\n",
       "      <th>original word</th>\n",
       "      <th>stemmed</th>\n",
       "    </tr>\n",
       "  </thead>\n",
       "  <tbody>\n",
       "    <tr>\n",
       "      <th>0</th>\n",
       "      <td>caresses</td>\n",
       "      <td>caress</td>\n",
       "    </tr>\n",
       "    <tr>\n",
       "      <th>1</th>\n",
       "      <td>flies</td>\n",
       "      <td>fli</td>\n",
       "    </tr>\n",
       "    <tr>\n",
       "      <th>2</th>\n",
       "      <td>dies</td>\n",
       "      <td>die</td>\n",
       "    </tr>\n",
       "    <tr>\n",
       "      <th>3</th>\n",
       "      <td>mules</td>\n",
       "      <td>mule</td>\n",
       "    </tr>\n",
       "    <tr>\n",
       "      <th>4</th>\n",
       "      <td>denied</td>\n",
       "      <td>deni</td>\n",
       "    </tr>\n",
       "    <tr>\n",
       "      <th>5</th>\n",
       "      <td>died</td>\n",
       "      <td>die</td>\n",
       "    </tr>\n",
       "    <tr>\n",
       "      <th>6</th>\n",
       "      <td>agreed</td>\n",
       "      <td>agre</td>\n",
       "    </tr>\n",
       "    <tr>\n",
       "      <th>7</th>\n",
       "      <td>owned</td>\n",
       "      <td>own</td>\n",
       "    </tr>\n",
       "    <tr>\n",
       "      <th>8</th>\n",
       "      <td>humbled</td>\n",
       "      <td>humbl</td>\n",
       "    </tr>\n",
       "    <tr>\n",
       "      <th>9</th>\n",
       "      <td>sized</td>\n",
       "      <td>size</td>\n",
       "    </tr>\n",
       "    <tr>\n",
       "      <th>10</th>\n",
       "      <td>meeting</td>\n",
       "      <td>meet</td>\n",
       "    </tr>\n",
       "    <tr>\n",
       "      <th>11</th>\n",
       "      <td>stating</td>\n",
       "      <td>state</td>\n",
       "    </tr>\n",
       "    <tr>\n",
       "      <th>12</th>\n",
       "      <td>siezing</td>\n",
       "      <td>siez</td>\n",
       "    </tr>\n",
       "    <tr>\n",
       "      <th>13</th>\n",
       "      <td>itemization</td>\n",
       "      <td>item</td>\n",
       "    </tr>\n",
       "    <tr>\n",
       "      <th>14</th>\n",
       "      <td>sensational</td>\n",
       "      <td>sensat</td>\n",
       "    </tr>\n",
       "    <tr>\n",
       "      <th>15</th>\n",
       "      <td>traditional</td>\n",
       "      <td>tradit</td>\n",
       "    </tr>\n",
       "    <tr>\n",
       "      <th>16</th>\n",
       "      <td>reference</td>\n",
       "      <td>refer</td>\n",
       "    </tr>\n",
       "    <tr>\n",
       "      <th>17</th>\n",
       "      <td>colonizer</td>\n",
       "      <td>colon</td>\n",
       "    </tr>\n",
       "    <tr>\n",
       "      <th>18</th>\n",
       "      <td>plotted</td>\n",
       "      <td>plot</td>\n",
       "    </tr>\n",
       "  </tbody>\n",
       "</table>\n",
       "</div>"
      ],
      "text/plain": [
       "   original word stemmed\n",
       "0       caresses  caress\n",
       "1          flies     fli\n",
       "2           dies     die\n",
       "3          mules    mule\n",
       "4         denied    deni\n",
       "5           died     die\n",
       "6         agreed    agre\n",
       "7          owned     own\n",
       "8        humbled   humbl\n",
       "9          sized    size\n",
       "10       meeting    meet\n",
       "11       stating   state\n",
       "12       siezing    siez\n",
       "13   itemization    item\n",
       "14   sensational  sensat\n",
       "15   traditional  tradit\n",
       "16     reference   refer\n",
       "17     colonizer   colon\n",
       "18       plotted    plot"
      ]
     },
     "execution_count": 7,
     "metadata": {},
     "output_type": "execute_result"
    }
   ],
   "source": [
    "stemmer = SnowballStemmer(\"english\")\n",
    "original_words = ['caresses', 'flies', 'dies', 'mules', 'denied','died', 'agreed', 'owned', \n",
    "           'humbled', 'sized','meeting', 'stating', 'siezing', 'itemization','sensational', \n",
    "           'traditional', 'reference', 'colonizer','plotted']\n",
    "singles = [stemmer.stem(plural) for plural in original_words]\n",
    "\n",
    "pd.DataFrame(data={'original word':original_words, 'stemmed':singles })"
   ]
  },
  {
   "cell_type": "code",
   "execution_count": 8,
   "metadata": {},
   "outputs": [],
   "source": [
    "'''\n",
    "Function to perform the pre processing steps on the entire dataset\n",
    "'''\n",
    "def lemmatize_stemming(text):\n",
    "    return stemmer.stem(WordNetLemmatizer().lemmatize(text, pos='v'))\n",
    "\n",
    "# Tokenize and lemmatize\n",
    "def preprocess(text):\n",
    "    result=[]\n",
    "    for token in gensim.utils.simple_preprocess(text) :\n",
    "        if token not in gensim.parsing.preprocessing.STOPWORDS and len(token) > 3:\n",
    "            # Apply lemmatize_stemming() on the token, then add to the results list\n",
    "            result.append( lemmatize_stemming( token ) )\n",
    "    return result"
   ]
  },
  {
   "cell_type": "code",
   "execution_count": 9,
   "metadata": {},
   "outputs": [
    {
     "name": "stdout",
     "output_type": "stream",
     "text": [
      "Original document: \n",
      "['rain', 'helps', 'dampen', 'bushfires']\n",
      "\n",
      "\n",
      "Tokenized and lemmatized document: \n",
      "['rain', 'help', 'dampen', 'bushfir']\n"
     ]
    }
   ],
   "source": [
    "'''\n",
    "Preview a document after preprocessing\n",
    "'''\n",
    "document_num = 4310\n",
    "doc_sample = documents[documents['index'] == document_num].values[0][0]\n",
    "\n",
    "print(\"Original document: \")\n",
    "words = []\n",
    "for word in doc_sample.split(' '):\n",
    "    words.append(word)\n",
    "print(words)\n",
    "print(\"\\n\\nTokenized and lemmatized document: \")\n",
    "print(preprocess(doc_sample))"
   ]
  },
  {
   "cell_type": "markdown",
   "metadata": {},
   "source": [
    "Time to preprocess all the news headlines using the [map](https://pandas.pydata.org/pandas-docs/stable/generated/pandas.Series.map.html) function from pandas to apply `preprocess()` to the `headline_text` column\n"
   ]
  },
  {
   "cell_type": "code",
   "execution_count": 10,
   "metadata": {},
   "outputs": [],
   "source": [
    "# from pandas import map\n",
    "#note: this is taking a few mins\n",
    "docs = documents['headline_text']\n",
    "processed_docs = docs.map( preprocess)"
   ]
  },
  {
   "cell_type": "code",
   "execution_count": 11,
   "metadata": {},
   "outputs": [
    {
     "data": {
      "text/plain": [
       "0            [decid, communiti, broadcast, licenc]\n",
       "1                               [wit, awar, defam]\n",
       "2           [call, infrastructur, protect, summit]\n",
       "3                      [staff, aust, strike, rise]\n",
       "4             [strike, affect, australian, travel]\n",
       "5               [ambiti, olsson, win, tripl, jump]\n",
       "6           [antic, delight, record, break, barca]\n",
       "7    [aussi, qualifi, stosur, wast, memphi, match]\n",
       "8            [aust, address, secur, council, iraq]\n",
       "9                         [australia, lock, timet]\n",
       "Name: headline_text, dtype: object"
      ]
     },
     "execution_count": 11,
     "metadata": {},
     "output_type": "execute_result"
    }
   ],
   "source": [
    "'''\n",
    "Preview 'processed_docs'\n",
    "'''\n",
    "processed_docs[:10]"
   ]
  },
  {
   "cell_type": "markdown",
   "metadata": {},
   "source": [
    "## Bag of words on the dataset\n",
    "\n",
    "Create a dictionary from 'processed_docs' containing the number of times a word appears in the training set. `processed_docs` is passed to [`gensim.corpora.Dictionary()`](https://radimrehurek.com/gensim/corpora/dictionary.html)."
   ]
  },
  {
   "cell_type": "code",
   "execution_count": 12,
   "metadata": {},
   "outputs": [],
   "source": [
    "'''\n",
    "Create a dictionary from 'processed_docs' containing the number of times a word appears \n",
    "in the training set using gensim.corpora.Dictionary\n",
    "'''\n",
    "dictionary = gensim.corpora.Dictionary(processed_docs)"
   ]
  },
  {
   "cell_type": "code",
   "execution_count": 13,
   "metadata": {},
   "outputs": [
    {
     "name": "stdout",
     "output_type": "stream",
     "text": [
      "0 broadcast\n",
      "1 communiti\n",
      "2 decid\n",
      "3 licenc\n",
      "4 awar\n",
      "5 defam\n",
      "6 wit\n",
      "7 call\n",
      "8 infrastructur\n",
      "9 protect\n",
      "10 summit\n"
     ]
    }
   ],
   "source": [
    "'''\n",
    "Checking dictionary created\n",
    "'''\n",
    "count = 0\n",
    "for k, v in dictionary.iteritems():\n",
    "    print(k, v)\n",
    "    count += 1\n",
    "    if count > 10:\n",
    "        break"
   ]
  },
  {
   "cell_type": "markdown",
   "metadata": {},
   "source": [
    "** Gensim filter_extremes **\n",
    "\n",
    "[`filter_extremes(no_below=5, no_above=0.5, keep_n=100000)`](https://radimrehurek.com/gensim/corpora/dictionary.html#gensim.corpora.dictionary.Dictionary.filter_extremes)\n",
    "\n",
    "Filtering out tokens that appear in\n",
    "\n",
    "* less than no_below documents (absolute number) or\n",
    "* more than no_above documents (fraction of total corpus size, not absolute number).\n",
    "* after (1) and (2), keep only the first keep_n most frequent tokens (or keep all if None)."
   ]
  },
  {
   "cell_type": "code",
   "execution_count": 14,
   "metadata": {},
   "outputs": [],
   "source": [
    "'''\n",
    "Remove very rare and very common words:\n",
    "\n",
    "- words appearing less than 15 times\n",
    "- words appearing in more than 10% of all documents\n",
    "'''\n",
    "dictionary.filter_extremes(no_below=5, no_above=0.5, keep_n=100000)"
   ]
  },
  {
   "cell_type": "markdown",
   "metadata": {},
   "source": [
    "** Gensim doc2bow **\n",
    "\n",
    "[`doc2bow(document)`](https://radimrehurek.com/gensim/corpora/dictionary.html#gensim.corpora.dictionary.Dictionary.doc2bow)\n",
    "\n",
    "* Converting document (a list of words) into the bag-of-words format = list of (token_id, token_count) 2-tuples. Each word is assumed to be a tokenized and normalized string (either unicode or utf8-encoded). No further preprocessing is done on the words in document; apply tokenization, stemming etc. before calling this method."
   ]
  },
  {
   "cell_type": "code",
   "execution_count": 15,
   "metadata": {},
   "outputs": [],
   "source": [
    "'''\n",
    "Creating the Bag-of-words model for each document i.e for each document we create a dictionary reporting how many\n",
    "words and how many times those words appear. \n",
    "'''\n",
    "# TODO\n",
    "bow_corpus = [dictionary.doc2bow( doc ) for doc in processed_docs]\n",
    "# for doc in processed_docs:\n",
    "#     bow_corpus.append( dictionary.doc2bow( doc ) )"
   ]
  },
  {
   "cell_type": "code",
   "execution_count": 16,
   "metadata": {},
   "outputs": [
    {
     "data": {
      "text/plain": [
       "[(76, 1), (113, 1), (482, 1), (4016, 1)]"
      ]
     },
     "execution_count": 16,
     "metadata": {},
     "output_type": "execute_result"
    }
   ],
   "source": [
    "'''\n",
    "Checking Bag of Words corpus for sample document --> (token_id, token_count)\n",
    "'''\n",
    "bow_corpus[document_num]"
   ]
  },
  {
   "cell_type": "code",
   "execution_count": 17,
   "metadata": {},
   "outputs": [
    {
     "name": "stdout",
     "output_type": "stream",
     "text": [
      "Word 76 (\"bushfir\") appears 1 time.\n",
      "Word 113 (\"help\") appears 1 time.\n",
      "Word 482 (\"rain\") appears 1 time.\n",
      "Word 4016 (\"dampen\") appears 1 time.\n"
     ]
    }
   ],
   "source": [
    "'''\n",
    "Preview BOW for sample preprocessed document\n",
    "'''\n",
    "# Here document_num is document number 4310 which was checked earlier in the notebook \n",
    "bow_doc_4310 = bow_corpus[document_num]\n",
    "\n",
    "for i in range(len(bow_doc_4310)):\n",
    "    print(\"Word {} (\\\"{}\\\") appears {} time.\".format(bow_doc_4310[i][0], \n",
    "                                                     dictionary[bow_doc_4310[i][0]], \n",
    "                                                     bow_doc_4310[i][1]))"
   ]
  },
  {
   "cell_type": "markdown",
   "metadata": {},
   "source": [
    "## TF-IDF on document set ##\n",
    "\n",
    "While performing TF-IDF on the corpus is not necessary for LDA implemention using the gensim model, it is useful. TF-IDF expects a bag-of-words (integer values) training corpus during initialization. During transformation, it will take a vector and return another vector of the same dimensionality.\n",
    "\n",
    "*The author of Gensim dictates the standard procedure for LDA to be using the Bag of Words model.*"
   ]
  },
  {
   "cell_type": "markdown",
   "metadata": {},
   "source": [
    "** TF-IDF stands for \"Term Frequency, Inverse Document Frequency\".**\n",
    "\n",
    "* It is a way to score the importance of words (or \"terms\") in a document based on how frequently they appear across multiple documents.\n",
    "* If a word appears frequently in a document, it's important. Give the word a high score. But if a word appears in many documents, it's not a unique identifier. Give the word a low score.\n",
    "* Therefore, common words like \"the\" and \"for\", which appear in many documents, will be scaled down. Words that appear frequently in a single document will be scaled up.\n",
    "\n",
    "In other words:\n",
    "\n",
    "* TF(w) = `(Number of times term w appears in a document) / (Total number of terms in the document)`.\n",
    "* IDF(w) = `log_e(Total number of documents / Number of documents with term w in it)`."
   ]
  },
  {
   "cell_type": "code",
   "execution_count": 18,
   "metadata": {},
   "outputs": [],
   "source": [
    "'''\n",
    "Create tf-idf model object using models.TfidfModel on 'bow_corpus' and save it\n",
    "'''\n",
    "from gensim import corpora, models\n",
    "\n",
    "tfidf = models.TfidfModel(bow_corpus)"
   ]
  },
  {
   "cell_type": "code",
   "execution_count": 19,
   "metadata": {},
   "outputs": [],
   "source": [
    "'''\n",
    "Apply transformation to the entire corpus and call it 'corpus_tfidf'\n",
    "'''\n",
    "\n",
    "corpus_tfidf = [ tfidf[ doc ] for doc in bow_corpus ]"
   ]
  },
  {
   "cell_type": "code",
   "execution_count": 20,
   "metadata": {},
   "outputs": [
    {
     "name": "stdout",
     "output_type": "stream",
     "text": [
      "[(0, 0.5959813347777092),\n",
      " (1, 0.39204529549491984),\n",
      " (2, 0.48531419274988147),\n",
      " (3, 0.50554610985785686)]\n"
     ]
    }
   ],
   "source": [
    "'''\n",
    "Preview TF-IDF scores for our first document --> --> (token_id, tfidf score)\n",
    "'''\n",
    "from pprint import pprint\n",
    "for doc in corpus_tfidf:\n",
    "    pprint(doc)\n",
    "    break"
   ]
  },
  {
   "cell_type": "markdown",
   "metadata": {},
   "source": [
    "## LDA using Bag of Words ##\n",
    "\n",
    "Trying 10 topics in the document corpus.\n",
    "\n",
    "** Running LDA using all CPU cores to parallelize and speed up model training.**\n",
    "\n",
    "Some of the parameters to be tweaked are:\n",
    "\n",
    "* **num_topics** is the number of requested latent topics to be extracted from the training corpus.\n",
    "* **id2word** is a mapping from word ids (integers) to words (strings). It is used to determine the vocabulary size, as well as for debugging and topic printing.\n",
    "* **workers** is the number of extra processes to use for parallelization. Uses all available cores by default.\n",
    "* **alpha** and **eta** are hyperparameters that affect sparsity of the document-topic (theta) and topic-word (lambda) distributions. We will let these be the default values for now(default value is `1/num_topics`)\n",
    "    - Alpha is the per document topic distribution.\n",
    "        * High alpha: Every document has a mixture of all topics(documents appear similar to each other).\n",
    "        * Low alpha: Every document has a mixture of very few topics\n",
    "\n",
    "    - Eta is the per topic word distribution.\n",
    "        * High eta: Each topic has a mixture of most words(topics appear similar to each other).\n",
    "        * Low eta: Each topic has a mixture of few words.\n",
    "\n",
    "* ** passes ** is the number of training passes through the corpus. For  example, if the training corpus has 50,000 documents, chunksize is  10,000, passes is 2, then online training is done in 10 updates: \n",
    "    * `#1 documents 0-9,999 `\n",
    "    * `#2 documents 10,000-19,999 `\n",
    "    * `#3 documents 20,000-29,999 `\n",
    "    * `#4 documents 30,000-39,999 `\n",
    "    * `#5 documents 40,000-49,999 `\n",
    "    * `#6 documents 0-9,999 `\n",
    "    * `#7 documents 10,000-19,999 `\n",
    "    * `#8 documents 20,000-29,999 `\n",
    "    * `#9 documents 30,000-39,999 `\n",
    "    * `#10 documents 40,000-49,999` "
   ]
  },
  {
   "cell_type": "code",
   "execution_count": 21,
   "metadata": {},
   "outputs": [],
   "source": [
    "# LDA mono-core -- fallback code in case LdaMulticore throws an error on your machine\n",
    "# lda_model = gensim.models.LdaModel(bow_corpus, \n",
    "#                                    num_topics = 10, \n",
    "#                                    id2word = dictionary,                                    \n",
    "#                                    passes = 50)\n",
    "\n",
    "# LDA multicore \n",
    "'''\n",
    "Train lda model using gensim.models.LdaMulticore and save it\n",
    "'''\n",
    "\n",
    "lda_model = gensim.models.LdaMulticore(bow_corpus, \n",
    "                                       id2word=dictionary, \n",
    "                                       num_topics=10,\n",
    "#                                        workers=3, #if running on my local quadcore machine\n",
    "                                       passes=2)"
   ]
  },
  {
   "cell_type": "code",
   "execution_count": 23,
   "metadata": {},
   "outputs": [
    {
     "name": "stdout",
     "output_type": "stream",
     "text": [
      "Topic: 0.037*\"govt\" + 0.027*\"urg\" + 0.023*\"closer\" + 0.022*\"labor\" + 0.022*\"claim\" + 0.020*\"opposit\" + 0.018*\"elect\" + 0.016*\"reject\" + 0.014*\"say\" + 0.011*\"threat\" \n",
      "Words: 0\n",
      "\n",
      "\n",
      "Topic: 0.021*\"nation\" + 0.021*\"hospit\" + 0.019*\"health\" + 0.015*\"mayor\" + 0.014*\"fight\" + 0.014*\"water\" + 0.013*\"work\" + 0.013*\"hick\" + 0.013*\"rudd\" + 0.012*\"say\" \n",
      "Words: 1\n",
      "\n",
      "\n",
      "Topic: 0.029*\"crash\" + 0.029*\"kill\" + 0.029*\"iraq\" + 0.018*\"die\" + 0.017*\"blaze\" + 0.016*\"troop\" + 0.012*\"firefight\" + 0.012*\"law\" + 0.012*\"blame\" + 0.012*\"target\" \n",
      "Words: 2\n",
      "\n",
      "\n",
      "Topic: 0.015*\"indigen\" + 0.015*\"talk\" + 0.015*\"warn\" + 0.015*\"coast\" + 0.014*\"nuclear\" + 0.013*\"rain\" + 0.012*\"timor\" + 0.011*\"storm\" + 0.011*\"open\" + 0.011*\"north\" \n",
      "Words: 3\n",
      "\n",
      "\n",
      "Topic: 0.040*\"plan\" + 0.040*\"council\" + 0.036*\"water\" + 0.021*\"govt\" + 0.018*\"urg\" + 0.018*\"chang\" + 0.015*\"power\" + 0.014*\"back\" + 0.013*\"resid\" + 0.012*\"group\" \n",
      "Words: 4\n",
      "\n",
      "\n",
      "Topic: 0.022*\"forc\" + 0.019*\"concern\" + 0.017*\"sydney\" + 0.017*\"howard\" + 0.017*\"price\" + 0.016*\"high\" + 0.015*\"market\" + 0.012*\"close\" + 0.011*\"state\" + 0.011*\"sale\" \n",
      "Words: 5\n",
      "\n",
      "\n",
      "Topic: 0.019*\"lead\" + 0.019*\"rise\" + 0.017*\"australia\" + 0.016*\"world\" + 0.016*\"record\" + 0.015*\"australian\" + 0.014*\"break\" + 0.013*\"england\" + 0.011*\"test\" + 0.011*\"final\" \n",
      "Words: 6\n",
      "\n",
      "\n",
      "Topic: 0.064*\"polic\" + 0.026*\"investig\" + 0.025*\"miss\" + 0.019*\"death\" + 0.019*\"continu\" + 0.017*\"search\" + 0.014*\"probe\" + 0.013*\"victim\" + 0.012*\"trial\" + 0.012*\"lose\" \n",
      "Words: 7\n",
      "\n",
      "\n",
      "Topic: 0.031*\"fund\" + 0.026*\"govt\" + 0.018*\"school\" + 0.013*\"deal\" + 0.013*\"protest\" + 0.013*\"worker\" + 0.012*\"feder\" + 0.011*\"plan\" + 0.011*\"support\" + 0.010*\"help\" \n",
      "Words: 8\n",
      "\n",
      "\n",
      "Topic: 0.037*\"charg\" + 0.032*\"court\" + 0.030*\"face\" + 0.028*\"polic\" + 0.022*\"jail\" + 0.019*\"murder\" + 0.019*\"drug\" + 0.017*\"accus\" + 0.014*\"arrest\" + 0.014*\"attack\" \n",
      "Words: 9\n",
      "\n",
      "\n"
     ]
    }
   ],
   "source": [
    "'''\n",
    "For each topic, explore the words occuring in that topic and its relative weight\n",
    "'''\n",
    "for idx, topic in lda_model.print_topics(-1):\n",
    "    print(\"Topic: {} \\nWords: {}\".format(topic, idx ))\n",
    "    print(\"\\n\")"
   ]
  },
  {
   "cell_type": "markdown",
   "metadata": {},
   "source": [
    "### Classification of the topics ###\n",
    "\n",
    "Using the words in each topic and their corresponding weights, a rough identification of categories as I see it , would be as follows, but I see some ambiguity with just 2 passes\n",
    "\n",
    "* 0: politics\n",
    "* 1: British NHS\n",
    "* 2: International/military\n",
    "* 3: Support and opposition of nuclear energy\n",
    "* 4: Water/insfrastructure\n",
    "* 5: Australia\n",
    "* 6: Cricket/sports\n",
    "* 7: Law and order\n",
    "* 8: Education/gov. spending\n",
    "* 9: Crime"
   ]
  },
  {
   "cell_type": "markdown",
   "metadata": {},
   "source": [
    "## Running LDA using TF-IDF ##"
   ]
  },
  {
   "cell_type": "code",
   "execution_count": 27,
   "metadata": {},
   "outputs": [],
   "source": [
    "'''\n",
    "Define lda model using corpus_tfidf, using gensim.models.LdaMulticore()\n",
    "'''\n",
    "\n",
    "lda_model_tfidf = gensim.models.LdaMulticore(bow_corpus, \n",
    "                                       id2word=dictionary, \n",
    "                                       num_topics=10,\n",
    "#                                        workers=3, #if running on my previous local quadcore machine\n",
    "                                       passes=5)"
   ]
  },
  {
   "cell_type": "code",
   "execution_count": 28,
   "metadata": {},
   "outputs": [
    {
     "name": "stdout",
     "output_type": "stream",
     "text": [
      "Topic: 0 Word: 0.019*\"rise\" + 0.018*\"year\" + 0.017*\"green\" + 0.016*\"road\" + 0.015*\"price\" + 0.013*\"drought\" + 0.012*\"region\" + 0.011*\"seek\" + 0.011*\"farm\" + 0.010*\"farmer\"\n",
      "\n",
      "\n",
      "Topic: 1 Word: 0.057*\"polic\" + 0.028*\"investig\" + 0.019*\"death\" + 0.017*\"support\" + 0.014*\"victim\" + 0.013*\"trial\" + 0.013*\"begin\" + 0.012*\"bodi\" + 0.012*\"prompt\" + 0.011*\"appeal\"\n",
      "\n",
      "\n",
      "Topic: 2 Word: 0.029*\"miss\" + 0.020*\"search\" + 0.017*\"break\" + 0.016*\"look\" + 0.015*\"polic\" + 0.013*\"storm\" + 0.013*\"driver\" + 0.012*\"launch\" + 0.011*\"damag\" + 0.011*\"research\"\n",
      "\n",
      "\n",
      "Topic: 3 Word: 0.041*\"charg\" + 0.035*\"court\" + 0.033*\"face\" + 0.029*\"polic\" + 0.024*\"jail\" + 0.022*\"accus\" + 0.020*\"drug\" + 0.016*\"murder\" + 0.015*\"probe\" + 0.014*\"teen\"\n",
      "\n",
      "\n",
      "Topic: 4 Word: 0.025*\"open\" + 0.023*\"lead\" + 0.016*\"win\" + 0.015*\"england\" + 0.015*\"feder\" + 0.014*\"world\" + 0.013*\"final\" + 0.012*\"aussi\" + 0.010*\"victori\" + 0.010*\"tiger\"\n",
      "\n",
      "\n",
      "Topic: 5 Word: 0.036*\"plan\" + 0.023*\"water\" + 0.017*\"council\" + 0.017*\"closer\" + 0.015*\"govt\" + 0.014*\"consid\" + 0.014*\"meet\" + 0.013*\"concern\" + 0.013*\"say\" + 0.012*\"labor\"\n",
      "\n",
      "\n",
      "Topic: 6 Word: 0.034*\"crash\" + 0.033*\"kill\" + 0.029*\"water\" + 0.023*\"iraq\" + 0.021*\"sydney\" + 0.018*\"power\" + 0.015*\"die\" + 0.013*\"attack\" + 0.013*\"troop\" + 0.013*\"protest\"\n",
      "\n",
      "\n",
      "Topic: 7 Word: 0.051*\"govt\" + 0.036*\"urg\" + 0.023*\"fund\" + 0.022*\"council\" + 0.017*\"boost\" + 0.015*\"hous\" + 0.015*\"reject\" + 0.014*\"home\" + 0.013*\"health\" + 0.013*\"plan\"\n",
      "\n",
      "\n",
      "Topic: 8 Word: 0.020*\"worker\" + 0.017*\"union\" + 0.013*\"leav\" + 0.011*\"crew\" + 0.011*\"high\" + 0.011*\"target\" + 0.011*\"compani\" + 0.011*\"fall\" + 0.010*\"campaign\" + 0.010*\"blue\"\n",
      "\n",
      "\n",
      "Topic: 9 Word: 0.017*\"forc\" + 0.016*\"say\" + 0.015*\"australia\" + 0.014*\"south\" + 0.014*\"time\" + 0.013*\"timor\" + 0.012*\"threat\" + 0.012*\"law\" + 0.011*\"warn\" + 0.010*\"aust\"\n",
      "\n",
      "\n"
     ]
    }
   ],
   "source": [
    "'''\n",
    "For each topic, we will explore the words occuring in that topic and its relative weight\n",
    "'''\n",
    "for idx, topic in lda_model_tfidf.print_topics(-1):\n",
    "    print(\"Topic: {} Word: {}\".format(idx, topic))\n",
    "    print(\"\\n\")"
   ]
  },
  {
   "cell_type": "markdown",
   "metadata": {},
   "source": [
    "### Classification of the topics ###\n",
    "\n",
    "As we can see, when using tf-idf, heavier weights are given to words that are not as frequent which results in nouns being factored in. That makes it harder to figure out the categories as nouns can be hard to categorize. This goes to show that the models we apply depend on the type of corpus of text we are dealing with. \n",
    "\n",
    "Using the words in each topic and their corresponding weights, I now see these categories:\n",
    "\n",
    "* 0: Agriculture\n",
    "* 1: Law/Crime \n",
    "* 2: Legal\n",
    "* 3: Crime\n",
    "* 4: Sports \n",
    "* 5: City/Planning\n",
    "* 6: Geopolitics\n",
    "* 7: Local politics\n",
    "* 8: Labor\n",
    "* 9: Australasia"
   ]
  },
  {
   "cell_type": "markdown",
   "metadata": {},
   "source": [
    "## Performance evaluation by classifying sample document using LDA Bag of Words model##\n",
    "\n",
    "Check to see where our test document would be classified. "
   ]
  },
  {
   "cell_type": "code",
   "execution_count": 25,
   "metadata": {},
   "outputs": [
    {
     "data": {
      "text/plain": [
       "['rain', 'help', 'dampen', 'bushfir']"
      ]
     },
     "execution_count": 25,
     "metadata": {},
     "output_type": "execute_result"
    }
   ],
   "source": [
    "'''\n",
    "Text of sample document 4310\n",
    "'''\n",
    "processed_docs[4310]"
   ]
  },
  {
   "cell_type": "code",
   "execution_count": 31,
   "metadata": {},
   "outputs": [
    {
     "data": {
      "text/plain": [
       "[(0, 0.019999998),\n",
       " (1, 0.020003865),\n",
       " (2, 0.019999998),\n",
       " (3, 0.40239349),\n",
       " (4, 0.020006772),\n",
       " (5, 0.23758331),\n",
       " (6, 0.019999998),\n",
       " (7, 0.22000006),\n",
       " (8, 0.02001247),\n",
       " (9, 0.020000005)]"
      ]
     },
     "execution_count": 31,
     "metadata": {},
     "output_type": "execute_result"
    }
   ],
   "source": [
    "lda_model[bow_corpus[document_num]]"
   ]
  },
  {
   "cell_type": "code",
   "execution_count": 24,
   "metadata": {},
   "outputs": [
    {
     "name": "stdout",
     "output_type": "stream",
     "text": [
      "\n",
      "Score: 0.40243610739707947\t \n",
      "Topic: 0.015*\"indigen\" + 0.015*\"talk\" + 0.015*\"warn\" + 0.015*\"coast\" + 0.014*\"nuclear\" + 0.013*\"rain\" + 0.012*\"timor\" + 0.011*\"storm\" + 0.011*\"open\" + 0.011*\"north\"\n",
      "\n",
      "Score: 0.23754115402698517\t \n",
      "Topic: 0.022*\"forc\" + 0.019*\"concern\" + 0.017*\"sydney\" + 0.017*\"howard\" + 0.017*\"price\" + 0.016*\"high\" + 0.015*\"market\" + 0.012*\"close\" + 0.011*\"state\" + 0.011*\"sale\"\n",
      "\n",
      "Score: 0.22000007331371307\t \n",
      "Topic: 0.064*\"polic\" + 0.026*\"investig\" + 0.025*\"miss\" + 0.019*\"death\" + 0.019*\"continu\" + 0.017*\"search\" + 0.014*\"probe\" + 0.013*\"victim\" + 0.012*\"trial\" + 0.012*\"lose\"\n",
      "\n",
      "Score: 0.020012054592370987\t \n",
      "Topic: 0.031*\"fund\" + 0.026*\"govt\" + 0.018*\"school\" + 0.013*\"deal\" + 0.013*\"protest\" + 0.013*\"worker\" + 0.012*\"feder\" + 0.011*\"plan\" + 0.011*\"support\" + 0.010*\"help\"\n",
      "\n",
      "Score: 0.02000676840543747\t \n",
      "Topic: 0.040*\"plan\" + 0.040*\"council\" + 0.036*\"water\" + 0.021*\"govt\" + 0.018*\"urg\" + 0.018*\"chang\" + 0.015*\"power\" + 0.014*\"back\" + 0.013*\"resid\" + 0.012*\"group\"\n",
      "\n",
      "Score: 0.02000386267900467\t \n",
      "Topic: 0.021*\"nation\" + 0.021*\"hospit\" + 0.019*\"health\" + 0.015*\"mayor\" + 0.014*\"fight\" + 0.014*\"water\" + 0.013*\"work\" + 0.013*\"hick\" + 0.013*\"rudd\" + 0.012*\"say\"\n",
      "\n",
      "Score: 0.02000000700354576\t \n",
      "Topic: 0.037*\"charg\" + 0.032*\"court\" + 0.030*\"face\" + 0.028*\"polic\" + 0.022*\"jail\" + 0.019*\"murder\" + 0.019*\"drug\" + 0.017*\"accus\" + 0.014*\"arrest\" + 0.014*\"attack\"\n",
      "\n",
      "Score: 0.019999999552965164\t \n",
      "Topic: 0.037*\"govt\" + 0.027*\"urg\" + 0.023*\"closer\" + 0.022*\"labor\" + 0.022*\"claim\" + 0.020*\"opposit\" + 0.018*\"elect\" + 0.016*\"reject\" + 0.014*\"say\" + 0.011*\"threat\"\n",
      "\n",
      "Score: 0.019999999552965164\t \n",
      "Topic: 0.029*\"crash\" + 0.029*\"kill\" + 0.029*\"iraq\" + 0.018*\"die\" + 0.017*\"blaze\" + 0.016*\"troop\" + 0.012*\"firefight\" + 0.012*\"law\" + 0.012*\"blame\" + 0.012*\"target\"\n",
      "\n",
      "Score: 0.019999999552965164\t \n",
      "Topic: 0.019*\"lead\" + 0.019*\"rise\" + 0.017*\"australia\" + 0.016*\"world\" + 0.016*\"record\" + 0.015*\"australian\" + 0.014*\"break\" + 0.013*\"england\" + 0.011*\"test\" + 0.011*\"final\"\n"
     ]
    }
   ],
   "source": [
    "'''\n",
    "Check which topic our test document belongs to using the LDA Bag of Words model.\n",
    "'''\n",
    "document_num = 4310\n",
    "# test document is document number 4310\n",
    "\n",
    "for index, score in sorted(lda_model[bow_corpus[document_num]], key=lambda tup: -1*tup[1]):\n",
    "    print(\"\\nScore: {}\\t \\nTopic: {}\".format(score, lda_model.print_topic(index, 10)))"
   ]
  },
  {
   "cell_type": "markdown",
   "metadata": {},
   "source": [
    "### It has the highest probability (`x`) to be  part of the topic that we assigned as X, which is the accurate classification. ###"
   ]
  },
  {
   "cell_type": "markdown",
   "metadata": {},
   "source": [
    "## Performance evaluation by classifying sample document using LDA TF-IDF model##"
   ]
  },
  {
   "cell_type": "code",
   "execution_count": 29,
   "metadata": {},
   "outputs": [
    {
     "name": "stdout",
     "output_type": "stream",
     "text": [
      "\n",
      "Score: 0.49756646156311035\t \n",
      "Topic: 0.057*\"polic\" + 0.028*\"investig\" + 0.019*\"death\" + 0.017*\"support\" + 0.014*\"victim\" + 0.013*\"trial\" + 0.013*\"begin\" + 0.012*\"bodi\" + 0.012*\"prompt\" + 0.011*\"appeal\"\n",
      "\n",
      "Score: 0.3424290716648102\t \n",
      "Topic: 0.051*\"govt\" + 0.036*\"urg\" + 0.023*\"fund\" + 0.022*\"council\" + 0.017*\"boost\" + 0.015*\"hous\" + 0.015*\"reject\" + 0.014*\"home\" + 0.013*\"health\" + 0.013*\"plan\"\n",
      "\n",
      "Score: 0.02000248059630394\t \n",
      "Topic: 0.034*\"crash\" + 0.033*\"kill\" + 0.029*\"water\" + 0.023*\"iraq\" + 0.021*\"sydney\" + 0.018*\"power\" + 0.015*\"die\" + 0.013*\"attack\" + 0.013*\"troop\" + 0.013*\"protest\"\n",
      "\n",
      "Score: 0.020000992342829704\t \n",
      "Topic: 0.019*\"rise\" + 0.018*\"year\" + 0.017*\"green\" + 0.016*\"road\" + 0.015*\"price\" + 0.013*\"drought\" + 0.012*\"region\" + 0.011*\"seek\" + 0.011*\"farm\" + 0.010*\"farmer\"\n",
      "\n",
      "Score: 0.02000097557902336\t \n",
      "Topic: 0.025*\"open\" + 0.023*\"lead\" + 0.016*\"win\" + 0.015*\"england\" + 0.015*\"feder\" + 0.014*\"world\" + 0.013*\"final\" + 0.012*\"aussi\" + 0.010*\"victori\" + 0.010*\"tiger\"\n",
      "\n",
      "Score: 0.019999999552965164\t \n",
      "Topic: 0.029*\"miss\" + 0.020*\"search\" + 0.017*\"break\" + 0.016*\"look\" + 0.015*\"polic\" + 0.013*\"storm\" + 0.013*\"driver\" + 0.012*\"launch\" + 0.011*\"damag\" + 0.011*\"research\"\n",
      "\n",
      "Score: 0.019999999552965164\t \n",
      "Topic: 0.041*\"charg\" + 0.035*\"court\" + 0.033*\"face\" + 0.029*\"polic\" + 0.024*\"jail\" + 0.022*\"accus\" + 0.020*\"drug\" + 0.016*\"murder\" + 0.015*\"probe\" + 0.014*\"teen\"\n",
      "\n",
      "Score: 0.019999999552965164\t \n",
      "Topic: 0.036*\"plan\" + 0.023*\"water\" + 0.017*\"council\" + 0.017*\"closer\" + 0.015*\"govt\" + 0.014*\"consid\" + 0.014*\"meet\" + 0.013*\"concern\" + 0.013*\"say\" + 0.012*\"labor\"\n",
      "\n",
      "Score: 0.019999999552965164\t \n",
      "Topic: 0.020*\"worker\" + 0.017*\"union\" + 0.013*\"leav\" + 0.011*\"crew\" + 0.011*\"high\" + 0.011*\"target\" + 0.011*\"compani\" + 0.011*\"fall\" + 0.010*\"campaign\" + 0.010*\"blue\"\n",
      "\n",
      "Score: 0.019999999552965164\t \n",
      "Topic: 0.017*\"forc\" + 0.016*\"say\" + 0.015*\"australia\" + 0.014*\"south\" + 0.014*\"time\" + 0.013*\"timor\" + 0.012*\"threat\" + 0.012*\"law\" + 0.011*\"warn\" + 0.010*\"aust\"\n"
     ]
    }
   ],
   "source": [
    "'''\n",
    "Check which topic our test document belongs to using the LDA TF-IDF model.\n",
    "'''\n",
    "# Our test document is document number 4310\n",
    "for index, score in sorted(lda_model_tfidf[bow_corpus[document_num]], key=lambda tup: -1*tup[1]):\n",
    "    print(\"\\nScore: {}\\t \\nTopic: {}\".format(score, lda_model_tfidf.print_topic(index, 10)))"
   ]
  },
  {
   "cell_type": "markdown",
   "metadata": {},
   "source": [
    "### It has the highest probability (`x%`) to be  part of the topic that we assigned as X. ###"
   ]
  },
  {
   "cell_type": "markdown",
   "metadata": {},
   "source": [
    "## Testing model on unseen document ##"
   ]
  },
  {
   "cell_type": "code",
   "execution_count": 30,
   "metadata": {},
   "outputs": [
    {
     "name": "stdout",
     "output_type": "stream",
     "text": [
      "Score: 0.22000005841255188\t Topic: 0.031*\"fund\" + 0.026*\"govt\" + 0.018*\"school\" + 0.013*\"deal\" + 0.013*\"protest\"\n",
      "Score: 0.2200000286102295\t Topic: 0.064*\"polic\" + 0.026*\"investig\" + 0.025*\"miss\" + 0.019*\"death\" + 0.019*\"continu\"\n",
      "Score: 0.2199999988079071\t Topic: 0.021*\"nation\" + 0.021*\"hospit\" + 0.019*\"health\" + 0.015*\"mayor\" + 0.014*\"fight\"\n",
      "Score: 0.21999993920326233\t Topic: 0.037*\"govt\" + 0.027*\"urg\" + 0.023*\"closer\" + 0.022*\"labor\" + 0.022*\"claim\"\n",
      "Score: 0.02000000886619091\t Topic: 0.022*\"forc\" + 0.019*\"concern\" + 0.017*\"sydney\" + 0.017*\"howard\" + 0.017*\"price\"\n",
      "Score: 0.019999999552965164\t Topic: 0.029*\"crash\" + 0.029*\"kill\" + 0.029*\"iraq\" + 0.018*\"die\" + 0.017*\"blaze\"\n",
      "Score: 0.019999999552965164\t Topic: 0.015*\"indigen\" + 0.015*\"talk\" + 0.015*\"warn\" + 0.015*\"coast\" + 0.014*\"nuclear\"\n",
      "Score: 0.019999999552965164\t Topic: 0.040*\"plan\" + 0.040*\"council\" + 0.036*\"water\" + 0.021*\"govt\" + 0.018*\"urg\"\n",
      "Score: 0.019999999552965164\t Topic: 0.019*\"lead\" + 0.019*\"rise\" + 0.017*\"australia\" + 0.016*\"world\" + 0.016*\"record\"\n",
      "Score: 0.019999999552965164\t Topic: 0.037*\"charg\" + 0.032*\"court\" + 0.030*\"face\" + 0.028*\"polic\" + 0.022*\"jail\"\n"
     ]
    }
   ],
   "source": [
    "unseen_document = \"My favorite sports activities are running and swimming.\"\n",
    "\n",
    "# Data preprocessing step for the unseen document\n",
    "bow_vector = dictionary.doc2bow(preprocess(unseen_document))\n",
    "\n",
    "for index, score in sorted(lda_model[bow_vector], key=lambda tup: -1*tup[1]):\n",
    "    print(\"Score: {}\\t Topic: {}\".format(score, lda_model.print_topic(index, 5)))"
   ]
  },
  {
   "cell_type": "markdown",
   "metadata": {},
   "source": [
    "The model correctly classifies the unseen document with 'x'% probability to the X category."
   ]
  }
 ],
 "metadata": {
  "kernelspec": {
   "display_name": "Python 3",
   "language": "python",
   "name": "python3"
  },
  "language_info": {
   "codemirror_mode": {
    "name": "ipython",
    "version": 3
   },
   "file_extension": ".py",
   "mimetype": "text/x-python",
   "name": "python",
   "nbconvert_exporter": "python",
   "pygments_lexer": "ipython3",
   "version": "3.6.5"
  }
 },
 "nbformat": 4,
 "nbformat_minor": 1
}
