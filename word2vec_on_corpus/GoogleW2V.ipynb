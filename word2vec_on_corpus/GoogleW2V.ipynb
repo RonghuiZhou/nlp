{
 "cells": [
  {
   "cell_type": "markdown",
   "metadata": {},
   "source": [
    "# Quick demo of the use of Google's pretrained word2vec\n",
    "\n",
    "To run this, first, download the pretrained model [here](https://drive.google.com/file/d/0B7XkCwpI5KDYNlNUTTlSS21pQmM/edit) and put it in a folder `./model`"
   ]
  },
  {
   "cell_type": "code",
   "execution_count": 1,
   "metadata": {},
   "outputs": [],
   "source": [
    "import gensim\n",
    "model = gensim.models.KeyedVectors.load_word2vec_format('./model/GoogleNews-vectors-negative300.bin', binary=True)"
   ]
  },
  {
   "cell_type": "markdown",
   "metadata": {},
   "source": [
    "### Words similar to \"uncertainty\""
   ]
  },
  {
   "cell_type": "code",
   "execution_count": 2,
   "metadata": {},
   "outputs": [
    {
     "data": {
      "text/plain": [
       "['uncertainly',\n",
       " 'Uncertainty',\n",
       " 'uncertainity',\n",
       " 'uncertaintly',\n",
       " 'nervousness',\n",
       " 'uneasiness',\n",
       " 'confusion',\n",
       " 'turmoil',\n",
       " 'uncertain',\n",
       " 'unease',\n",
       " 'uncertainy',\n",
       " 'pessimism',\n",
       " 'geopolitical_uncertainty',\n",
       " 'uncertainities',\n",
       " 'anxiety',\n",
       " 'instability',\n",
       " 'volatility',\n",
       " 'ambiguity',\n",
       " 'Nervousness',\n",
       " 'unknowns']"
      ]
     },
     "execution_count": 2,
     "metadata": {},
     "output_type": "execute_result"
    }
   ],
   "source": [
    "vector1 = model.most_similar( 'uncertainty', topn=20)\n",
    "[ elem[0] for elem in vector1 ]"
   ]
  },
  {
   "cell_type": "markdown",
   "metadata": {},
   "source": [
    "### Words similar to \"risk\""
   ]
  },
  {
   "cell_type": "code",
   "execution_count": 3,
   "metadata": {},
   "outputs": [
    {
     "data": {
      "text/plain": [
       "['risks',\n",
       " 'Risk',\n",
       " 'probability',\n",
       " 'danger',\n",
       " 'likelihood',\n",
       " 'therisk',\n",
       " 'risky',\n",
       " 'Risks',\n",
       " 'hazard',\n",
       " 'peril']"
      ]
     },
     "execution_count": 3,
     "metadata": {},
     "output_type": "execute_result"
    }
   ],
   "source": [
    "vector2 = model.most_similar( 'risk')\n",
    "[ elem[0] for elem in vector2 ]"
   ]
  }
 ],
 "metadata": {
  "kernelspec": {
   "display_name": "Python 3",
   "language": "python",
   "name": "python3"
  },
  "language_info": {
   "codemirror_mode": {
    "name": "ipython",
    "version": 3
   },
   "file_extension": ".py",
   "mimetype": "text/x-python",
   "name": "python",
   "nbconvert_exporter": "python",
   "pygments_lexer": "ipython3",
   "version": "3.6.5"
  }
 },
 "nbformat": 4,
 "nbformat_minor": 2
}
