{
 "cells": [
  {
   "cell_type": "markdown",
   "metadata": {},
   "source": [
    "# Project: Part of Speech Tagging with Hidden Markov Models \n",
    "---\n",
    "### Introduction\n",
    "\n",
    "Part of speech tagging is the process of determining the syntactic category of a word from the words in its surrounding context. It is often used to help disambiguate natural language phrases because it can be done quickly with high accuracy. Tagging can be used for many NLP tasks like determining correct pronunciation during speech synthesis (for example, _dis_-count as a noun vs dis-_count_ as a verb), for information retrieval, and for word sense disambiguation.\n",
    "\n",
    "In this notebook, you'll use the [Pomegranate](http://pomegranate.readthedocs.io/) library to build a hidden Markov model for part of speech tagging using a \"universal\" tagset. Hidden Markov models have been able to achieve [>96% tag accuracy with larger tagsets on realistic text corpora](http://www.coli.uni-saarland.de/~thorsten/publications/Brants-ANLP00.pdf). Hidden Markov models have also been used for speech recognition and speech generation, machine translation, gene recognition for bioinformatics, and human gesture recognition for computer vision, and more. \n",
    "\n",
    "![](_post-hmm.png)\n",
    "\n",
    "The notebook already contains some code to get you started. You only need to add some new functionality in the areas indicated to complete the project; you will not need to modify the included code beyond what is requested. Sections that begin with **'IMPLEMENTATION'** in the header indicate that you must provide code in the block that follows. Instructions will be provided for each section, and the specifics of the implementation are marked in the code block with a 'TODO' statement. Please be sure to read the instructions carefully!"
   ]
  },
  {
   "cell_type": "markdown",
   "metadata": {},
   "source": [
    "<div class=\"alert alert-block alert-info\">\n",
    "**Note:** Once you have completed all of the code implementations, you need to finalize your work by exporting the iPython Notebook as an HTML document. Before exporting the notebook to html, all of the code cells need to have been run so that reviewers can see the final implementation and output. You must then **export the notebook** by running the last cell in the notebook, or by using the menu above and navigating to **File -> Download as -> HTML (.html)** Your submissions should include both the `html` and `ipynb` files.\n",
    "</div>"
   ]
  },
  {
   "cell_type": "markdown",
   "metadata": {},
   "source": [
    "<div class=\"alert alert-block alert-info\">\n",
    "**Note:** Code and Markdown cells can be executed using the `Shift + Enter` keyboard shortcut. Markdown cells can be edited by double-clicking the cell to enter edit mode.\n",
    "</div>"
   ]
  },
  {
   "cell_type": "markdown",
   "metadata": {},
   "source": [
    "### The Road Ahead\n",
    "You must complete Steps 1-3 below to pass the project. The section on Step 4 includes references & resources you can use to further explore HMM taggers.\n",
    "\n",
    "- [Step 1](#Step-1:-Read-and-preprocess-the-dataset): Review the provided interface to load and access the text corpus\n",
    "- [Step 2](#Step-2:-Build-a-Most-Frequent-Class-tagger): Build a Most Frequent Class tagger to use as a baseline\n",
    "- [Step 3](#Step-3:-Build-an-HMM-tagger): Build an HMM Part of Speech tagger and compare to the MFC baseline\n",
    "- [Step 4](#Step-4:-[Optional]-Improving-model-performance): (Optional) Improve the HMM tagger"
   ]
  },
  {
   "cell_type": "markdown",
   "metadata": {},
   "source": [
    "<div class=\"alert alert-block alert-warning\">\n",
    "**Note:** Make sure you have selected a **Python 3** kernel in Workspaces or the hmm-tagger conda environment if you are running the Jupyter server on your own machine.\n",
    "</div>"
   ]
  },
  {
   "cell_type": "code",
   "execution_count": 1,
   "metadata": {},
   "outputs": [],
   "source": [
    "# Jupyter \"magic methods\" -- only need to be run once per kernel restart\n",
    "%load_ext autoreload\n",
    "%aimport helpers, tests\n",
    "%autoreload 1"
   ]
  },
  {
   "cell_type": "code",
   "execution_count": 2,
   "metadata": {},
   "outputs": [],
   "source": [
    "# import python modules -- this cell needs to be run again if you make changes to any of the files\n",
    "import matplotlib.pyplot as plt\n",
    "import numpy as np\n",
    "\n",
    "from IPython.core.display import HTML\n",
    "from itertools import chain\n",
    "from collections import Counter, defaultdict\n",
    "from helpers import show_model, Dataset\n",
    "from pomegranate import State, HiddenMarkovModel, DiscreteDistribution"
   ]
  },
  {
   "cell_type": "markdown",
   "metadata": {},
   "source": [
    "## Step 1: Read and preprocess the dataset\n",
    "---\n",
    "We'll start by reading in a text corpus and splitting it into a training and testing dataset. The data set is a copy of the [Brown corpus](https://en.wikipedia.org/wiki/Brown_Corpus) (originally from the [NLTK](https://www.nltk.org/) library) that has already been pre-processed to only include the [universal tagset](https://arxiv.org/pdf/1104.2086.pdf). You should expect to get slightly higher accuracy using this simplified tagset than the same model would achieve on a larger tagset like the full [Penn treebank tagset](https://www.ling.upenn.edu/courses/Fall_2003/ling001/penn_treebank_pos.html), but the process you'll follow would be the same.\n",
    "\n",
    "The `Dataset` class provided in helpers.py will read and parse the corpus. You can generate your own datasets compatible with the reader by writing them to the following format. The dataset is stored in plaintext as a collection of words and corresponding tags. Each sentence starts with a unique identifier on the first line, followed by one tab-separated word/tag pair on each following line. Sentences are separated by a single blank line.\n",
    "\n",
    "Example from the Brown corpus. \n",
    "```\n",
    "b100-38532\n",
    "Perhaps\tADV\n",
    "it\tPRON\n",
    "was\tVERB\n",
    "right\tADJ\n",
    ";\t.\n",
    ";\t.\n",
    "\n",
    "b100-35577\n",
    "...\n",
    "```"
   ]
  },
  {
   "cell_type": "code",
   "execution_count": 3,
   "metadata": {},
   "outputs": [
    {
     "name": "stdout",
     "output_type": "stream",
     "text": [
      "There are 57340 sentences in the corpus.\n",
      "There are 45872 sentences in the training set.\n",
      "There are 11468 sentences in the testing set.\n"
     ]
    }
   ],
   "source": [
    "data = Dataset(\"tags-universal.txt\", \"brown-universal.txt\", train_test_split=0.8)\n",
    "print(\"There are {} sentences in the corpus.\".format(len(data)))\n",
    "print(\"There are {} sentences in the training set.\".format(len(data.training_set)))\n",
    "print(\"There are {} sentences in the testing set.\".format(len(data.testing_set)))\n",
    "\n",
    "assert len(data) == len(data.training_set) + len(data.testing_set), \\\n",
    "       \"The number of sentences in the training set + testing set should sum to the number of sentences in the corpus\""
   ]
  },
  {
   "cell_type": "markdown",
   "metadata": {},
   "source": [
    "### The Dataset Interface\n",
    "\n",
    "You can access (mostly) immutable references to the dataset through a simple interface provided through the `Dataset` class, which represents an iterable collection of sentences along with easy access to partitions of the data for training & testing. Review the reference below, then run and review the next few cells to make sure you understand the interface before moving on to the next step.\n",
    "\n",
    "```\n",
    "Dataset-only Attributes:\n",
    "    training_set - reference to a Subset object containing the samples for training\n",
    "    testing_set - reference to a Subset object containing the samples for testing\n",
    "\n",
    "Dataset & Subset Attributes:\n",
    "    sentences - a dictionary with an entry {sentence_key: Sentence()} for each sentence in the corpus\n",
    "    keys - an immutable ordered (not sorted) collection of the sentence_keys for the corpus\n",
    "    vocab - an immutable collection of the unique words in the corpus\n",
    "    tagset - an immutable collection of the unique tags in the corpus\n",
    "    X - returns an array of words grouped by sentences ((w11, w12, w13, ...), (w21, w22, w23, ...), ...)\n",
    "    Y - returns an array of tags grouped by sentences ((t11, t12, t13, ...), (t21, t22, t23, ...), ...)\n",
    "    N - returns the number of distinct samples (individual words or tags) in the dataset\n",
    "\n",
    "Methods:\n",
    "    stream() - returns an flat iterable over all (word, tag) pairs across all sentences in the corpus\n",
    "    __iter__() - returns an iterable over the data as (sentence_key, Sentence()) pairs\n",
    "    __len__() - returns the nubmer of sentences in the dataset\n",
    "```\n",
    "\n",
    "For example, consider a Subset, `subset`, of the sentences `{\"s0\": Sentence((\"See\", \"Spot\", \"run\"), (\"VERB\", \"NOUN\", \"VERB\")), \"s1\": Sentence((\"Spot\", \"ran\"), (\"NOUN\", \"VERB\"))}`. The subset will have these attributes:\n",
    "\n",
    "```\n",
    "subset.keys == {\"s1\", \"s0\"}  # unordered\n",
    "subset.vocab == {\"See\", \"run\", \"ran\", \"Spot\"}  # unordered\n",
    "subset.tagset == {\"VERB\", \"NOUN\"}  # unordered\n",
    "subset.X == ((\"Spot\", \"ran\"), (\"See\", \"Spot\", \"run\"))  # order matches .keys\n",
    "subset.Y == ((\"NOUN\", \"VERB\"), (\"VERB\", \"NOUN\", \"VERB\"))  # order matches .keys\n",
    "subset.N == 7  # there are a total of seven observations over all sentences\n",
    "len(subset) == 2  # because there are two sentences\n",
    "```\n",
    "\n",
    "<div class=\"alert alert-block alert-info\">\n",
    "**Note:** The `Dataset` class is _convenient_, but it is **not** efficient. It is not suitable for huge datasets because it stores multiple redundant copies of the same data.\n",
    "</div>"
   ]
  },
  {
   "cell_type": "markdown",
   "metadata": {},
   "source": [
    "#### Sentences\n",
    "\n",
    "`Dataset.sentences` is a dictionary of all sentences in the training corpus, each keyed to a unique sentence identifier. Each `Sentence` is itself an object with two attributes: a tuple of the words in the sentence named `words` and a tuple of the tag corresponding to each word named `tags`."
   ]
  },
  {
   "cell_type": "code",
   "execution_count": 4,
   "metadata": {},
   "outputs": [
    {
     "name": "stdout",
     "output_type": "stream",
     "text": [
      "Sentence: b100-38532\n",
      "words:\n",
      "\t('Perhaps', 'it', 'was', 'right', ';', ';')\n",
      "tags:\n",
      "\t('ADV', 'PRON', 'VERB', 'ADJ', '.', '.')\n"
     ]
    }
   ],
   "source": [
    "key = 'b100-38532'\n",
    "print(\"Sentence: {}\".format(key))\n",
    "print(\"words:\\n\\t{!s}\".format(data.sentences[key].words))\n",
    "print(\"tags:\\n\\t{!s}\".format(data.sentences[key].tags))"
   ]
  },
  {
   "cell_type": "markdown",
   "metadata": {},
   "source": [
    "<div class=\"alert alert-block alert-info\">\n",
    "**Note:** The underlying iterable sequence is **unordered** over the sentences in the corpus; it is not guaranteed to return the sentences in a consistent order between calls. Use `Dataset.stream()`, `Dataset.keys`, `Dataset.X`, or `Dataset.Y` attributes if you need ordered access to the data.\n",
    "</div>\n",
    "\n",
    "#### Counting Unique Elements\n",
    "\n",
    "You can access the list of unique words (the dataset vocabulary) via `Dataset.vocab` and the unique list of tags via `Dataset.tagset`."
   ]
  },
  {
   "cell_type": "code",
   "execution_count": 5,
   "metadata": {},
   "outputs": [
    {
     "name": "stdout",
     "output_type": "stream",
     "text": [
      "There are a total of 1161192 samples of 56057 unique words in the corpus.\n",
      "There are 928458 samples of 50536 unique words in the training set.\n",
      "There are 232734 samples of 25112 unique words in the testing set.\n",
      "There are 5521 words in the test set that are missing in the training set.\n"
     ]
    }
   ],
   "source": [
    "print(\"There are a total of {} samples of {} unique words in the corpus.\"\n",
    "      .format(data.N, len(data.vocab)))\n",
    "print(\"There are {} samples of {} unique words in the training set.\"\n",
    "      .format(data.training_set.N, len(data.training_set.vocab)))\n",
    "print(\"There are {} samples of {} unique words in the testing set.\"\n",
    "      .format(data.testing_set.N, len(data.testing_set.vocab)))\n",
    "print(\"There are {} words in the test set that are missing in the training set.\"\n",
    "      .format(len(data.testing_set.vocab - data.training_set.vocab)))\n",
    "\n",
    "assert data.N == data.training_set.N + data.testing_set.N, \\\n",
    "       \"The number of training + test samples should sum to the total number of samples\""
   ]
  },
  {
   "cell_type": "markdown",
   "metadata": {},
   "source": [
    "#### Accessing word and tag Sequences\n",
    "The `Dataset.X` and `Dataset.Y` attributes provide access to ordered collections of matching word and tag sequences for each sentence in the dataset."
   ]
  },
  {
   "cell_type": "code",
   "execution_count": 6,
   "metadata": {},
   "outputs": [
    {
     "name": "stdout",
     "output_type": "stream",
     "text": [
      "Sentence 1: ('Mr.', 'Podger', 'had', 'thanked', 'him', 'gravely', ',', 'and', 'now', 'he', 'made', 'use', 'of', 'the', 'advice', '.')\n",
      "\n",
      "Labels 1: ('NOUN', 'NOUN', 'VERB', 'VERB', 'PRON', 'ADV', '.', 'CONJ', 'ADV', 'PRON', 'VERB', 'NOUN', 'ADP', 'DET', 'NOUN', '.')\n",
      "\n",
      "Sentence 2: ('But', 'there', 'seemed', 'to', 'be', 'some', 'difference', 'of', 'opinion', 'as', 'to', 'how', 'far', 'the', 'board', 'should', 'go', ',', 'and', 'whose', 'advice', 'it', 'should', 'follow', '.')\n",
      "\n",
      "Labels 2: ('CONJ', 'PRT', 'VERB', 'PRT', 'VERB', 'DET', 'NOUN', 'ADP', 'NOUN', 'ADP', 'ADP', 'ADV', 'ADV', 'DET', 'NOUN', 'VERB', 'VERB', '.', 'CONJ', 'DET', 'NOUN', 'PRON', 'VERB', 'VERB', '.')\n",
      "\n"
     ]
    }
   ],
   "source": [
    "# accessing words with Dataset.X and tags with Dataset.Y \n",
    "for i in range(2):    \n",
    "    print(\"Sentence {}:\".format(i + 1), data.X[i])\n",
    "    print()\n",
    "    print(\"Labels {}:\".format(i + 1), data.Y[i])\n",
    "    print()"
   ]
  },
  {
   "cell_type": "markdown",
   "metadata": {},
   "source": [
    "#### Accessing (word, tag) Samples\n",
    "The `Dataset.stream()` method returns an iterator that chains together every pair of (word, tag) entries across all sentences in the entire corpus."
   ]
  },
  {
   "cell_type": "code",
   "execution_count": 7,
   "metadata": {},
   "outputs": [
    {
     "name": "stdout",
     "output_type": "stream",
     "text": [
      "\n",
      "Stream (word, tag) pairs:\n",
      "\n",
      "\t ('Mr.', 'NOUN')\n",
      "\t ('Podger', 'NOUN')\n",
      "\t ('had', 'VERB')\n",
      "\t ('thanked', 'VERB')\n",
      "\t ('him', 'PRON')\n",
      "\t ('gravely', 'ADV')\n",
      "\t (',', '.')\n"
     ]
    }
   ],
   "source": [
    "# use Dataset.stream() (word, tag) samples for the entire corpus\n",
    "print(\"\\nStream (word, tag) pairs:\\n\")\n",
    "for i, pair in enumerate(data.stream()):\n",
    "    print(\"\\t\", pair)\n",
    "    if i > 5: break"
   ]
  },
  {
   "cell_type": "markdown",
   "metadata": {},
   "source": [
    "\n",
    "For both our baseline tagger and the HMM model we'll build, we need to estimate the frequency of tags & words from the frequency counts of observations in the training corpus. In the next several cells you will complete functions to compute the counts of several sets of counts. "
   ]
  },
  {
   "cell_type": "markdown",
   "metadata": {},
   "source": [
    "## Step 2: Build a Most Frequent Class tagger\n",
    "---\n",
    "\n",
    "Perhaps the simplest tagger (and a good baseline for tagger performance) is to simply choose the tag most frequently assigned to each word. This \"most frequent class\" tagger inspects each observed word in the sequence and assigns it the label that was most often assigned to that word in the corpus."
   ]
  },
  {
   "cell_type": "markdown",
   "metadata": {},
   "source": [
    "### IMPLEMENTATION: Pair Counts\n",
    "\n",
    "Complete the function below that computes the joint frequency counts for two input sequences."
   ]
  },
  {
   "cell_type": "code",
   "execution_count": 8,
   "metadata": {},
   "outputs": [
    {
     "data": {
      "text/html": [
       "<div class=\"alert alert-block alert-success\">Your emission counts look good!</div>"
      ],
      "text/plain": [
       "<IPython.core.display.HTML object>"
      ]
     },
     "execution_count": 8,
     "metadata": {},
     "output_type": "execute_result"
    }
   ],
   "source": [
    "from collections import defaultdict\n",
    "def pair_counts(sequences_A, sequences_B):\n",
    "    \"\"\"Return a dictionary keyed to each unique value in the first sequence list\n",
    "    that counts the number of occurrences of the corresponding value from the\n",
    "    second sequences list.\n",
    "    \n",
    "    For example, if sequences_A is tags and sequences_B is the corresponding\n",
    "    words, then if 1244 sequences contain the word \"time\" tagged as a NOUN, then\n",
    "    you should return a dictionary such that pair_counts[NOUN][time] == 1244\n",
    "    \"\"\"\n",
    "    # tj: think of A as the list of data.Y[i] \n",
    "\n",
    "\n",
    "    pair_dict = defaultdict(int)\n",
    "    \n",
    "    full_tagset = set()\n",
    "    for i in range( len(sequences_A) ):\n",
    "        full_tagset.update( set(sequences_A[i]) )\n",
    "        \n",
    "    # instead of using data.tagset, determine the full tagset from sequences_A \n",
    "    # so the arguments can be switched around if needed \n",
    "    \n",
    "    # for tag in data.tagset:\n",
    "#     print( full_tagset )\n",
    "    for tag in full_tagset:\n",
    "        pair_dict[ tag ] = defaultdict(int)\n",
    "\n",
    "    assert len(sequences_A) == len(sequences_B), \"The two input sequences do not have the same lengths\"\n",
    "    \n",
    "    for i in range( len(sequences_A) ):\n",
    "        tags_i  = sequences_A[i]\n",
    "        words_i = sequences_B[i]\n",
    "        assert len( tags_i ) == len( words_i ), \"sentence length does not match tagset length for item %d\\n\" % i\n",
    "        for j in range( len( tags_i)):\n",
    "            tag  =  tags_i[j]\n",
    "            word = words_i[j]\n",
    "            pair_dict[tag][word] += 1\n",
    "            \n",
    "    return pair_dict\n",
    "        \n",
    "# Calculate C(t_i, w_i)\n",
    "emission_counts = pair_counts( data.training_set.Y, data.training_set.X)\n",
    "\n",
    "\n",
    "assert len(emission_counts) == 12, \\\n",
    "       \"Uh oh. There should be 12 tags in your dictionary.\"\n",
    "assert max(emission_counts[\"NOUN\"], key=emission_counts[\"NOUN\"].get) == 'time', \\\n",
    "       \"Hmmm...'time' is expected to be the most common NOUN.\"\n",
    "HTML('<div class=\"alert alert-block alert-success\">Your emission counts look good!</div>')"
   ]
  },
  {
   "cell_type": "markdown",
   "metadata": {},
   "source": [
    "### IMPLEMENTATION: Most Frequent Class Tagger\n",
    "\n",
    "Use the `pair_counts()` function and the training dataset to find the most frequent class label for each word in the training data, and populate the `mfc_table` below. The table keys should be words, and the values should be the appropriate tag string.\n",
    "\n",
    "The `MFCTagger` class is provided to mock the interface of Pomegranate HMM models so that they can be used interchangeably."
   ]
  },
  {
   "cell_type": "code",
   "execution_count": 9,
   "metadata": {},
   "outputs": [
    {
     "data": {
      "text/html": [
       "<div class=\"alert alert-block alert-success\">Your MFC tagger has all the correct words!</div>"
      ],
      "text/plain": [
       "<IPython.core.display.HTML object>"
      ]
     },
     "execution_count": 9,
     "metadata": {},
     "output_type": "execute_result"
    }
   ],
   "source": [
    "# Create a lookup table mfc_table where mfc_table[word] contains the tag label most frequently assigned to that word\n",
    "from collections import namedtuple\n",
    "\n",
    "FakeState = namedtuple(\"FakeState\", \"name\")\n",
    "\n",
    "class MFCTagger:\n",
    "    # NOTE: You should not need to modify this class or any of its methods\n",
    "    missing = FakeState(name=\"<MISSING>\")\n",
    "    \n",
    "    def __init__(self, table):\n",
    "        self.table = defaultdict(lambda: MFCTagger.missing)\n",
    "        self.table.update({word: FakeState(name=tag) for word, tag in table.items()})\n",
    "        \n",
    "    def viterbi(self, seq):\n",
    "        \"\"\"This method simplifies predictions by matching the Pomegranate viterbi() interface\"\"\"\n",
    "        return 0., list(enumerate([\"<start>\"] + [self.table[w] for w in seq] + [\"<end>\"]))\n",
    "\n",
    "\n",
    "# done: calculate the frequency of each tag being assigned to each word (hint: similar, but not\n",
    "# the same as the emission probabilities) and use it to fill the mfc_table\n",
    "\n",
    "word_counts = pair_counts(data.training_set.X, data.training_set.Y)\n",
    "\n",
    "# done\n",
    "mfc_table = {}\n",
    "for word in word_counts.keys():\n",
    "    mfc_table[ word ] = max( word_counts[ word ], key =  word_counts[ word ].get)  \n",
    "\n",
    "# DO NOT MODIFY BELOW THIS LINE\n",
    "mfc_model = MFCTagger(mfc_table) # Create a Most Frequent Class tagger instance\n",
    "\n",
    "assert len(mfc_table) == len(data.training_set.vocab), \"\"\n",
    "assert all(k in data.training_set.vocab for k in mfc_table.keys()), \"\"\n",
    "assert sum(int(k not in mfc_table) for k in data.testing_set.vocab) == 5521, \"\"\n",
    "HTML('<div class=\"alert alert-block alert-success\">Your MFC tagger has all the correct words!</div>')"
   ]
  },
  {
   "cell_type": "markdown",
   "metadata": {},
   "source": [
    "### Making Predictions with a Model\n",
    "The helper functions provided below interface with Pomegranate network models & the mocked MFCTagger to take advantage of the [missing value](http://pomegranate.readthedocs.io/en/latest/nan.html) functionality in Pomegranate through a simple sequence decoding function. Run these functions, then run the next cell to see some of the predictions made by the MFC tagger."
   ]
  },
  {
   "cell_type": "code",
   "execution_count": 10,
   "metadata": {},
   "outputs": [],
   "source": [
    "def replace_unknown(sequence):\n",
    "    \"\"\"Return a copy of the input sequence where each unknown word is replaced\n",
    "    by the literal string value 'nan'. Pomegranate will ignore these values\n",
    "    during computation.\n",
    "    \"\"\"\n",
    "    return [w if w in data.training_set.vocab else 'nan' for w in sequence]\n",
    "\n",
    "def simplify_decoding(X, model):\n",
    "    \"\"\"X should be a 1-D sequence of observations for the model to predict\"\"\"\n",
    "    _, state_path = model.viterbi(replace_unknown(X))\n",
    "    return [state[1].name for state in state_path[1:-1]]  # do not show the start/end state predictions"
   ]
  },
  {
   "cell_type": "markdown",
   "metadata": {},
   "source": [
    "### Example Decoding Sequences with MFC Tagger"
   ]
  },
  {
   "cell_type": "code",
   "execution_count": 11,
   "metadata": {},
   "outputs": [
    {
     "name": "stdout",
     "output_type": "stream",
     "text": [
      "Sentence Key: b100-35462\n",
      "\n",
      "Predicted labels:\n",
      "-----------------\n",
      "['DET', 'ADJ', 'NOUN', 'VERB', 'VERB', 'VERB', 'ADP', 'DET', 'ADJ', 'ADJ', 'NOUN', 'ADP', 'DET', 'ADJ', 'NOUN', '.', 'ADP', 'ADJ', 'NOUN', '.', 'CONJ', 'ADP', 'DET', '<MISSING>', 'ADP', 'ADJ', 'ADJ', '.', 'ADJ', '.', 'CONJ', 'ADJ', 'NOUN', 'ADP', 'ADV', 'NOUN', '.']\n",
      "\n",
      "Actual labels:\n",
      "--------------\n",
      "('DET', 'ADJ', 'NOUN', 'VERB', 'VERB', 'VERB', 'ADP', 'DET', 'ADJ', 'ADJ', 'NOUN', 'ADP', 'DET', 'ADJ', 'NOUN', '.', 'ADP', 'ADJ', 'NOUN', '.', 'CONJ', 'ADP', 'DET', 'NOUN', 'ADP', 'ADJ', 'ADJ', '.', 'ADJ', '.', 'CONJ', 'ADJ', 'NOUN', 'ADP', 'ADJ', 'NOUN', '.')\n",
      "\n",
      "\n",
      "Sentence Key: b100-37008\n",
      "\n",
      "Predicted labels:\n",
      "-----------------\n",
      "['PRON', 'VERB', 'DET', 'NOUN', 'ADP', 'NOUN', '.', 'ADP', 'ADJ', 'NOUN', '.', 'ADP', 'DET', 'NOUN', 'ADP', 'NOUN', '.']\n",
      "\n",
      "Actual labels:\n",
      "--------------\n",
      "('PRON', 'VERB', 'DET', 'NOUN', 'ADP', 'NOUN', '.', 'ADP', 'ADJ', 'NOUN', '.', 'ADP', 'DET', 'NOUN', 'ADP', 'NOUN', '.')\n",
      "\n",
      "\n",
      "Sentence Key: b100-18135\n",
      "\n",
      "Predicted labels:\n",
      "-----------------\n",
      "['CONJ', '<MISSING>', 'VERB', 'VERB', '.']\n",
      "\n",
      "Actual labels:\n",
      "--------------\n",
      "('CONJ', 'NOUN', 'VERB', 'VERB', '.')\n",
      "\n",
      "\n"
     ]
    }
   ],
   "source": [
    "for key in data.testing_set.keys[2:5]:\n",
    "    print(\"Sentence Key: {}\\n\".format(key))\n",
    "    print(\"Predicted labels:\\n-----------------\")\n",
    "    print(simplify_decoding(data.sentences[key].words, mfc_model))\n",
    "    print()\n",
    "    print(\"Actual labels:\\n--------------\")\n",
    "    print(data.sentences[key].tags)\n",
    "    print(\"\\n\")"
   ]
  },
  {
   "cell_type": "markdown",
   "metadata": {},
   "source": [
    "### Evaluating Model Accuracy\n",
    "\n",
    "The function below will evaluate the accuracy of the MFC tagger on the collection of all sentences from a text corpus. "
   ]
  },
  {
   "cell_type": "code",
   "execution_count": 12,
   "metadata": {},
   "outputs": [],
   "source": [
    "def accuracy(X, Y, model):\n",
    "    \"\"\"Calculate the prediction accuracy by using the model to decode each sequence\n",
    "    in the input X and comparing the prediction with the true labels in Y.\n",
    "    \n",
    "    The X should be an array whose first dimension is the number of sentences to test,\n",
    "    and each element of the array should be an iterable of the words in the sequence.\n",
    "    The arrays X and Y should have the exact same shape.\n",
    "    \n",
    "    X = [(\"See\", \"Spot\", \"run\"), (\"Run\", \"Spot\", \"run\", \"fast\"), ...]\n",
    "    Y = [(), (), ...]\n",
    "    \"\"\"\n",
    "    correct = total_predictions = 0\n",
    "    for observations, actual_tags in zip(X, Y):\n",
    "        \n",
    "        # The model.viterbi call in simplify_decoding will return None if the HMM\n",
    "        # raises an error (for example, if a test sentence contains a word that\n",
    "        # is out of vocabulary for the training set). Any exception counts the\n",
    "        # full sentence as an error (which makes this a conservative estimate).\n",
    "        try:\n",
    "            most_likely_tags = simplify_decoding(observations, model)\n",
    "            correct += sum(p == t for p, t in zip(most_likely_tags, actual_tags))\n",
    "        except:\n",
    "            pass\n",
    "        total_predictions += len(observations)\n",
    "    return correct / total_predictions"
   ]
  },
  {
   "cell_type": "markdown",
   "metadata": {},
   "source": [
    "#### Evaluate the accuracy of the MFC tagger\n",
    "Run the next cell to evaluate the accuracy of the tagger on the training and test corpus."
   ]
  },
  {
   "cell_type": "code",
   "execution_count": 13,
   "metadata": {},
   "outputs": [
    {
     "name": "stdout",
     "output_type": "stream",
     "text": [
      "training accuracy mfc_model: 95.72%\n",
      "testing accuracy mfc_model: 93.01%\n"
     ]
    },
    {
     "data": {
      "text/html": [
       "<div class=\"alert alert-block alert-success\">Your MFC tagger accuracy looks correct!</div>"
      ],
      "text/plain": [
       "<IPython.core.display.HTML object>"
      ]
     },
     "execution_count": 13,
     "metadata": {},
     "output_type": "execute_result"
    }
   ],
   "source": [
    "mfc_training_acc = accuracy(data.training_set.X, data.training_set.Y, mfc_model)\n",
    "print(\"training accuracy mfc_model: {:.2f}%\".format(100 * mfc_training_acc))\n",
    "\n",
    "mfc_testing_acc = accuracy(data.testing_set.X, data.testing_set.Y, mfc_model)\n",
    "print(\"testing accuracy mfc_model: {:.2f}%\".format(100 * mfc_testing_acc))\n",
    "\n",
    "assert mfc_training_acc >= 0.955, \"Uh oh. Your MFC accuracy on the training set doesn't look right.\"\n",
    "assert mfc_testing_acc >= 0.925, \"Uh oh. Your MFC accuracy on the testing set doesn't look right.\"\n",
    "HTML('<div class=\"alert alert-block alert-success\">Your MFC tagger accuracy looks correct!</div>')"
   ]
  },
  {
   "cell_type": "markdown",
   "metadata": {},
   "source": [
    "## Step 3: Build an HMM tagger\n",
    "---\n",
    "The HMM tagger has one hidden state for each possible tag, and parameterized by two distributions: the emission probabilties giving the conditional probability of observing a given **word** from each hidden state, and the transition probabilities giving the conditional probability of moving between **tags** during the sequence.\n",
    "\n",
    "We will also estimate the starting probability distribution (the probability of each **tag** being the first tag in a sequence), and the terminal probability distribution (the probability of each **tag** being the last tag in a sequence).\n",
    "\n",
    "The maximum likelihood estimate of these distributions can be calculated from the frequency counts as described in the following sections where you'll implement functions to count the frequencies, and finally build the model. The HMM model will make predictions according to the formula:\n",
    "\n",
    "$$t_i^n = \\underset{t_i^n}{\\mathrm{argmax}} \\prod_{i=1}^n P(w_i|t_i) P(t_i|t_{i-1})$$\n",
    "\n",
    "Refer to Speech & Language Processing [Chapter 10](https://web.stanford.edu/~jurafsky/slp3/10.pdf) for more information."
   ]
  },
  {
   "cell_type": "markdown",
   "metadata": {},
   "source": [
    "### IMPLEMENTATION: Unigram Counts\n",
    "\n",
    "Complete the function below to estimate the co-occurrence frequency of each symbol over all of the input sequences. The unigram probabilities in our HMM model are estimated from the formula below, where N is the total number of samples in the input. (You only need to compute the counts for now.)\n",
    "\n",
    "$$P(tag_1) = \\frac{C(tag_1)}{N}$$"
   ]
  },
  {
   "cell_type": "code",
   "execution_count": 14,
   "metadata": {},
   "outputs": [
    {
     "data": {
      "text/html": [
       "<div class=\"alert alert-block alert-success\">Your tag unigrams look good!</div>"
      ],
      "text/plain": [
       "<IPython.core.display.HTML object>"
      ]
     },
     "execution_count": 14,
     "metadata": {},
     "output_type": "execute_result"
    }
   ],
   "source": [
    "from collections import defaultdict\n",
    "def unigram_counts(sequences):\n",
    "    \"\"\"Return a dictionary keyed to each unique value in the input sequence list that\n",
    "    counts the number of occurrences of the value in the sequences list. The sequences\n",
    "    collection should be a 2-dimensional array.\n",
    "    \n",
    "    For example, if the tag NOUN appears 275558 times over all the input sequences,\n",
    "    then you should return a dictionary such that your_unigram_counts[NOUN] == 275558.\n",
    "    \"\"\"\n",
    "    # done: Finish this function!\n",
    "        \n",
    "    count_dict = defaultdict(int)\n",
    "    for i in range( len(sequences) ):\n",
    "        seq = sequences[i]\n",
    "        for tag in seq:\n",
    "            count_dict[ tag ] += 1\n",
    "\n",
    "    return count_dict\n",
    "\n",
    "# done: call unigram_counts with a list of tag sequences from the training set\n",
    "tag_unigrams = unigram_counts( data.training_set.Y)\n",
    "\n",
    "assert set(tag_unigrams.keys()) == data.training_set.tagset, \\\n",
    "       \"Uh oh. It looks like your tag counts doesn't include all the tags!\"\n",
    "assert min(tag_unigrams, key=tag_unigrams.get) == 'X', \\\n",
    "       \"Hmmm...'X' is expected to be the least common class\"\n",
    "assert max(tag_unigrams, key=tag_unigrams.get) == 'NOUN', \\\n",
    "       \"Hmmm...'NOUN' is expected to be the most common class\"\n",
    "HTML('<div class=\"alert alert-block alert-success\">Your tag unigrams look good!</div>')"
   ]
  },
  {
   "cell_type": "markdown",
   "metadata": {},
   "source": [
    "### IMPLEMENTATION: Bigram Counts\n",
    "\n",
    "Complete the function below to estimate the co-occurrence frequency of each pair of symbols in each of the input sequences. These counts are used in the HMM model to estimate the bigram probability of two tags from the frequency counts according to the formula: $$P(tag_2|tag_1) = \\frac{C(tag_2|tag_1)}{C(tag_2)}$$\n"
   ]
  },
  {
   "cell_type": "code",
   "execution_count": 15,
   "metadata": {},
   "outputs": [
    {
     "data": {
      "text/html": [
       "<div class=\"alert alert-block alert-success\">Your tag bigrams look good!</div>"
      ],
      "text/plain": [
       "<IPython.core.display.HTML object>"
      ]
     },
     "execution_count": 15,
     "metadata": {},
     "output_type": "execute_result"
    }
   ],
   "source": [
    "def bigram_counts(sequences):\n",
    "    \"\"\"Return a dictionary keyed to each unique PAIR of values in the input sequences\n",
    "    list that counts the number of occurrences of pair in the sequences list. The input\n",
    "    should be a 2-dimensional array.\n",
    "    \n",
    "    For example, if the pair of tags (NOUN, VERB) appear 61582 times, then you should\n",
    "    return a dictionary such that your_bigram_counts[(NOUN, VERB)] == 61582\n",
    "    \"\"\"\n",
    "\n",
    "    # done: Finish this function!\n",
    "    count_bigram = defaultdict(int)\n",
    "    \n",
    "    for i in range( len(sequences) ):\n",
    "        seq = sequences[i]\n",
    "        if len(seq) > 1:\n",
    "            for j in range( len(seq) - 1):\n",
    "                pair = (seq[j], seq[j+1])\n",
    "                count_bigram[ pair ] += 1\n",
    "    return count_bigram\n",
    "\n",
    "# done: call bigram_counts with a list of tag sequences from the training set\n",
    "tag_bigrams = bigram_counts( data.training_set.Y )\n",
    "\n",
    "assert len(tag_bigrams) == 144, \\\n",
    "       \"Uh oh. There should be 144 pairs of bigrams (12 tags x 12 tags)\"\n",
    "assert min(tag_bigrams, key=tag_bigrams.get) in [('X', 'NUM'), ('PRON', 'X')], \\\n",
    "       \"Hmmm...The least common bigram should be one of ('X', 'NUM') or ('PRON', 'X').\"\n",
    "assert max(tag_bigrams, key=tag_bigrams.get) in [('DET', 'NOUN')], \\\n",
    "       \"Hmmm...('DET', 'NOUN') is expected to be the most common bigram.\"\n",
    "HTML('<div class=\"alert alert-block alert-success\">Your tag bigrams look good!</div>')"
   ]
  },
  {
   "cell_type": "markdown",
   "metadata": {},
   "source": [
    "### IMPLEMENTATION: Sequence Starting Counts\n",
    "Complete the code below to estimate the bigram probabilities of a sequence starting with each tag."
   ]
  },
  {
   "cell_type": "code",
   "execution_count": 16,
   "metadata": {},
   "outputs": [
    {
     "data": {
      "text/html": [
       "<div class=\"alert alert-block alert-success\">Your starting tag counts look good!</div>"
      ],
      "text/plain": [
       "<IPython.core.display.HTML object>"
      ]
     },
     "execution_count": 16,
     "metadata": {},
     "output_type": "execute_result"
    }
   ],
   "source": [
    "def starting_counts(sequences):\n",
    "    \"\"\"Return a dictionary keyed to each unique value in the input sequences list\n",
    "    that counts the number of occurrences where that value is at the beginning of\n",
    "    a sequence.\n",
    "    \n",
    "    For example, if 8093 sequences start with NOUN, then you should return a\n",
    "    dictionary such that your_starting_counts[NOUN] == 8093\n",
    "    \"\"\"\n",
    "    # done: Finish this function!\n",
    "    count_start = defaultdict(int)\n",
    "    for i in range( len(sequences) ):\n",
    "        seq = sequences[i]\n",
    "        if len(seq) > 0:\n",
    "            tag = seq[0]\n",
    "            count_start[ tag ] += 1\n",
    "    return count_start\n",
    "\n",
    "# done: Calculate the count of each tag starting a sequence\n",
    "tag_starts = starting_counts( data.training_set.Y )\n",
    "\n",
    "assert len(tag_starts) == 12, \"Uh oh. There should be 12 tags in your dictionary.\"\n",
    "assert min(tag_starts, key=tag_starts.get) == 'X', \"Hmmm...'X' is expected to be the least common starting bigram.\"\n",
    "assert max(tag_starts, key=tag_starts.get) == 'DET', \"Hmmm...'DET' is expected to be the most common starting bigram.\"\n",
    "HTML('<div class=\"alert alert-block alert-success\">Your starting tag counts look good!</div>')"
   ]
  },
  {
   "cell_type": "markdown",
   "metadata": {},
   "source": [
    "### IMPLEMENTATION: Sequence Ending Counts\n",
    "Complete the function below to estimate the bigram probabilities of a sequence ending with each tag."
   ]
  },
  {
   "cell_type": "code",
   "execution_count": 17,
   "metadata": {},
   "outputs": [
    {
     "data": {
      "text/html": [
       "<div class=\"alert alert-block alert-success\">Your ending tag counts look good!</div>"
      ],
      "text/plain": [
       "<IPython.core.display.HTML object>"
      ]
     },
     "execution_count": 17,
     "metadata": {},
     "output_type": "execute_result"
    }
   ],
   "source": [
    "def ending_counts(sequences):\n",
    "    \"\"\"Return a dictionary keyed to each unique value in the input sequences list\n",
    "    that counts the number of occurrences where that value is at the end of\n",
    "    a sequence.\n",
    "    \n",
    "    For example, if 18 sequences end with DET, then you should return a\n",
    "    dictionary such that your_starting_counts[DET] == 18\n",
    "    \"\"\"\n",
    "    # done: Finish this function!\n",
    "    count_end = defaultdict(int)\n",
    "    for i in range( len(sequences) ):\n",
    "        seq = sequences[i]\n",
    "        if len(seq) > 0:\n",
    "            tag = seq[-1]\n",
    "            count_end[ tag ] += 1\n",
    "    return count_end\n",
    "\n",
    "# TODO: Calculate the count of each tag ending a sequence\n",
    "tag_ends = ending_counts( data.training_set.Y )\n",
    "\n",
    "assert len(tag_ends) == 12, \"Uh oh. There should be 12 tags in your dictionary.\"\n",
    "assert min(tag_ends, key=tag_ends.get) in ['X', 'CONJ'], \"Hmmm...'X' or 'CONJ' should be the least common ending bigram.\"\n",
    "assert max(tag_ends, key=tag_ends.get) == '.', \"Hmmm...'.' is expected to be the most common ending bigram.\"\n",
    "HTML('<div class=\"alert alert-block alert-success\">Your ending tag counts look good!</div>')"
   ]
  },
  {
   "cell_type": "markdown",
   "metadata": {},
   "source": [
    "### IMPLEMENTATION: Basic HMM Tagger\n",
    "Use the tag unigrams and bigrams calculated above to construct a hidden Markov tagger.\n",
    "\n",
    "- Add one state per tag\n",
    "    - The emission distribution at each state should be estimated with the formula: $P(w|t) = \\frac{C(t, w)}{C(t)}$\n",
    "- Add an edge from the starting state `basic_model.start` to each tag\n",
    "    - The transition probability should be estimated with the formula: $P(t|start) = \\frac{C(start, t)}{C(start)}$\n",
    "- Add an edge from each tag to the end state `basic_model.end`\n",
    "    - The transition probability should be estimated with the formula: $P(end|t) = \\frac{C(t, end)}{C(t)}$\n",
    "- Add an edge between _every_ pair of tags\n",
    "    - The transition probability should be estimated with the formula: $P(t_2|t_1) = \\frac{C(t_1, t_2)}{C(t_1)}$"
   ]
  },
  {
   "cell_type": "code",
   "execution_count": 18,
   "metadata": {},
   "outputs": [
    {
     "data": {
      "text/html": [
       "<div class=\"alert alert-block alert-success\">Your HMM network topology looks good!</div>"
      ],
      "text/plain": [
       "<IPython.core.display.HTML object>"
      ]
     },
     "execution_count": 18,
     "metadata": {},
     "output_type": "execute_result"
    }
   ],
   "source": [
    "# This cell meets the project requirements and produces training acc = 97.54% and testing acc of 95.95%\n",
    "basic_model = HiddenMarkovModel(name=\"base-hmm-tagger\")\n",
    "\n",
    "# done: create states with emission probability distributions P(word | tag) and add to the model\n",
    "# (Hint: you may need to loop & create/add new states)\n",
    "\n",
    "# Add states and store them in a dictionary for use while adding transitions\n",
    "tag_states = {}\n",
    "for tag in data.tagset:\n",
    "    prob_dict = {}\n",
    "    for word in emission_counts[tag].keys():\n",
    "        prob_dict[ word ] = emission_counts[ tag ][ word ]  /  tag_unigrams[ tag ] \n",
    "    tag_emissions = DiscreteDistribution( prob_dict  )\n",
    "    tag_states[ tag ] = State( tag_emissions, name=tag)\n",
    "    basic_model.add_state( tag_states[ tag ]  )\n",
    "    \n",
    "# add starting and ending tags\n",
    "# done: add edges between states for the observed transition frequencies P(tag_i | tag_i-1)\n",
    "\n",
    "total  = sum( tag_starts.values())\n",
    "# Sanity checks\n",
    "assert total  == sum( tag_ends.values()), 'different total numbers for starts and ends'\n",
    "assert total  == len( data.training_set.X ), 'total starts different from number of sequences'\n",
    "\n",
    "\n",
    "for tag in data.tagset:\n",
    "    # First add the starting and ending transitions\n",
    "    basic_model.add_transition(basic_model.start, tag_states[ tag ], tag_starts[ tag ]  /  total  )\n",
    "    basic_model.add_transition( tag_states[ tag ], basic_model.end, tag_ends[ tag ]  / total )\n",
    "\n",
    "    # Now, add the transitions between the tag and tag2\n",
    "    total_transitions_from_tag = 0\n",
    "    for tag2 in data.tagset:\n",
    "        total_transitions_from_tag += tag_bigrams[ ( tag, tag2) ]\n",
    "    #note that this total is not the same as the number of occurences of the tag, since the tag can occur \n",
    "    # in the end and that means no transition to another tag, just to model.end\n",
    "    # Also, the tag may appear in a 1-word sequence (no transition corresponding to that) \n",
    "    # - 257 instances of that here\n",
    "    # (uncommenting print lines will show the difference which is there for each tag)\n",
    "#     print('total transitions from tag ', tag, ' : ', total_transitions_from_tag ) \n",
    "#     print('total appearances of tag ', tag, ' : ', tag_unigrams[ tag ])\n",
    "    for tag2 in data.tagset:        \n",
    "        # P(tag_i = tag2 | tag_i-1 = tag)\n",
    "        trans_prob =  tag_bigrams[ ( tag, tag2) ] /  total_transitions_from_tag \n",
    "        basic_model.add_transition( tag_states[ tag ], tag_states[ tag2 ], trans_prob )\n",
    "                                         \n",
    "# NOTE: YOU SHOULD NOT NEED TO MODIFY ANYTHING BELOW THIS LINE\n",
    "basic_model.bake()\n",
    "\n",
    "\n",
    "assert all(tag in set(s.name for s in basic_model.states) for tag in data.training_set.tagset), \\\n",
    "       \"Every state in your network should use the name of the associated tag, which must be one of the training set tags.\"\n",
    "assert basic_model.edge_count() == 168, \\\n",
    "       (\"Your network should have an edge from the start node to each state, one edge between every \" +\n",
    "        \"pair of tags (states), and an edge from each state to the end node.\")\n",
    "HTML('<div class=\"alert alert-block alert-success\">Your HMM network topology looks good!</div>')"
   ]
  },
  {
   "cell_type": "code",
   "execution_count": 19,
   "metadata": {},
   "outputs": [
    {
     "name": "stdout",
     "output_type": "stream",
     "text": [
      "training accuracy basic hmm model: 97.54%\n",
      "testing accuracy basic hmm model: 95.95%\n"
     ]
    },
    {
     "data": {
      "text/html": [
       "<div class=\"alert alert-block alert-success\">Your HMM tagger accuracy looks correct! Congratulations, you've finished the project.</div>"
      ],
      "text/plain": [
       "<IPython.core.display.HTML object>"
      ]
     },
     "execution_count": 19,
     "metadata": {},
     "output_type": "execute_result"
    }
   ],
   "source": [
    "hmm_training_acc = accuracy(data.training_set.X, data.training_set.Y, basic_model)\n",
    "print(\"training accuracy basic hmm model: {:.2f}%\".format(100 * hmm_training_acc))\n",
    "\n",
    "hmm_testing_acc = accuracy(data.testing_set.X, data.testing_set.Y, basic_model)\n",
    "print(\"testing accuracy basic hmm model: {:.2f}%\".format(100 * hmm_testing_acc))\n",
    "\n",
    "assert hmm_training_acc > 0.97, \"Uh oh. Your HMM accuracy on the training set doesn't look right.\"\n",
    "assert hmm_testing_acc > 0.955, \"Uh oh. Your HMM accuracy on the testing set doesn't look right.\"\n",
    "HTML('<div class=\"alert alert-block alert-success\">Your HMM tagger accuracy looks correct! Congratulations, you\\'ve finished the project.</div>')"
   ]
  },
  {
   "cell_type": "markdown",
   "metadata": {},
   "source": [
    "## Step 4: [Optional] Improving model performance\n",
    "---\n",
    "There are additional enhancements that can be incorporated into your tagger that improve performance on larger tagsets where the data sparsity problem is more significant. The data sparsity problem arises because the same amount of data split over more tags means there will be fewer samples in each tag, and there will be more missing data  tags that have zero occurrences in the data. The techniques in this section are optional.\n",
    "\n",
    "- [Laplace Smoothing](https://en.wikipedia.org/wiki/Additive_smoothing) (pseudocounts)\n",
    "    Laplace smoothing is a technique where you add a small, non-zero value to all observed counts to offset for unobserved values.\n",
    "\n",
    "- Backoff Smoothing\n",
    "    Another smoothing technique is to interpolate between n-grams for missing data. This method is more effective than Laplace smoothing at combatting the data sparsity problem. Refer to chapters 4, 9, and 10 of the [Speech & Language Processing](https://web.stanford.edu/~jurafsky/slp3/) book for more information.\n",
    "\n",
    "- Extending to Trigrams\n",
    "    HMM taggers have achieved better than 96% accuracy on this dataset with the full Penn treebank tagset using an architecture described in [this](http://www.coli.uni-saarland.de/~thorsten/publications/Brants-ANLP00.pdf) paper. Altering your HMM to achieve the same performance would require implementing deleted interpolation (described in the paper), incorporating trigram probabilities in your frequency tables, and re-implementing the Viterbi algorithm to consider three consecutive states instead of two."
   ]
  },
  {
   "cell_type": "markdown",
   "metadata": {},
   "source": [
    "## Add-k smoothing (Lapalce smoothing is a special case of this)\n",
    "Here, I have added add-k smoothing. k=1 would give us Laplace smoothing.  In this case, the accuracy of the basic model is very high already and there are no tags with zero frequency.  add-k smoothing only adds a little bit (no perceptible change in accuracy at k=1. With k=10, we see an improvement in accuracy of 0.01% and with k=100, improvement of just 0.02%"
   ]
  },
  {
   "cell_type": "code",
   "execution_count": 20,
   "metadata": {},
   "outputs": [
    {
     "data": {
      "text/html": [
       "<div class=\"alert alert-block alert-success\">Your add-k smoothed HMM network topology looks good!</div>"
      ],
      "text/plain": [
       "<IPython.core.display.HTML object>"
      ]
     },
     "execution_count": 20,
     "metadata": {},
     "output_type": "execute_result"
    }
   ],
   "source": [
    "# This cell adds Laplace smoothing (in fact, add-k smoothing.  With k=1, it is Laplace smoothing). \n",
    "# k=0 is simply the basic unsmoothed model.\n",
    "addk_model = HiddenMarkovModel(name=\"addk-smoothed-hmm-tagger\")\n",
    "\n",
    "# done: create states with emission probability distributions P(word | tag) and add to the model\n",
    "\n",
    "tag_states = {} #dictionary in which to store states\n",
    "for tag in data.tagset:\n",
    "    prob_dict = {}\n",
    "    for word in emission_counts[tag].keys():\n",
    "        prob_dict[ word ] = emission_counts[ tag ][ word ]  /  tag_unigrams[ tag ] \n",
    "    tag_emissions = DiscreteDistribution( prob_dict  )\n",
    "    tag_states[ tag ] = State( tag_emissions, name=tag)\n",
    "    addk_model.add_state( tag_states[ tag ]  )\n",
    "    \n",
    "total  = sum( tag_starts.values())\n",
    "# Sanity checks\n",
    "assert total  == sum( tag_ends.values()), 'different total numbers for starts and ends'\n",
    "assert total  == len( data.training_set.X ), 'total starts different from number of sequences'\n",
    "\n",
    "# Adding optional Laplace smoothing with parameter k\n",
    "k = 10 #not perceptible difference by smoothing with k=1.  \n",
    "# But with alpha=100, 0.01% improvement in testing accuracy and 0.02% with training acc.  \n",
    "# The effect of smoothing is not big here because the data is pretty well behaved \n",
    "# (no class has too few samples and the total number of samples is also high) \n",
    "num_tags = len( data.tagset )\n",
    "\n",
    "\n",
    "for tag in data.tagset:\n",
    "    # First add the starting and ending transitions\n",
    "    addk_model.add_transition( addk_model.start, tag_states[ tag ], (tag_starts[ tag ] + k)  / ( total + k*num_tags) )\n",
    "    addk_model.add_transition( tag_states[ tag ], addk_model.end, (tag_ends[ tag ] + k)   / (total + k*num_tags ) )\n",
    "\n",
    "    # Now, add the transitions between the tag and tag2\n",
    "    total_transitions_from_tag = 0\n",
    "    for tag2 in data.tagset:\n",
    "        total_transitions_from_tag += tag_bigrams[ ( tag, tag2) ]\n",
    "    for tag2 in data.tagset:        \n",
    "        # P(tag_i = tag2 | tag_i-1 = tag)\n",
    "        trans_prob = ( tag_bigrams[ ( tag, tag2) ] + k ) / ( total_transitions_from_tag + k*num_tags)\n",
    "        addk_model.add_transition( tag_states[ tag ], tag_states[ tag2 ], trans_prob )\n",
    "                                         \n",
    "addk_model.bake()\n",
    "\n",
    "\n",
    "assert all(tag in set(s.name for s in addk_model.states) for tag in data.training_set.tagset), \\\n",
    "       \"Every state in your network should use the name of the associated tag, which must be one of the training set tags.\"\n",
    "assert addk_model.edge_count() == 168, \\\n",
    "       (\"Your network should have an edge from the start node to each state, one edge between every \" +\n",
    "        \"pair of tags (states), and an edge from each state to the end node.\")\n",
    "HTML('<div class=\"alert alert-block alert-success\">Your add-k smoothed HMM network topology looks good!</div>')"
   ]
  },
  {
   "cell_type": "code",
   "execution_count": 21,
   "metadata": {
    "scrolled": true
   },
   "outputs": [
    {
     "name": "stdout",
     "output_type": "stream",
     "text": [
      "training accuracy add-k hmm model: 97.55%\n",
      "testing accuracy add-k hmm model: 95.96%\n"
     ]
    },
    {
     "data": {
      "text/html": [
       "<div class=\"alert alert-block alert-success\">Your add-k HMM tagger accuracy looks correct! </div>"
      ],
      "text/plain": [
       "<IPython.core.display.HTML object>"
      ]
     },
     "execution_count": 21,
     "metadata": {},
     "output_type": "execute_result"
    }
   ],
   "source": [
    "hmm_training_acc = accuracy(data.training_set.X, data.training_set.Y, addk_model)\n",
    "print(\"training accuracy add-k hmm model: {:.2f}%\".format(100 * hmm_training_acc))\n",
    "\n",
    "hmm_testing_acc = accuracy(data.testing_set.X, data.testing_set.Y, addk_model)\n",
    "print(\"testing accuracy add-k hmm model: {:.2f}%\".format(100 * hmm_testing_acc))\n",
    "\n",
    "assert hmm_training_acc > 0.97, \"Uh oh. Your HMM accuracy on the training set doesn't look right.\"\n",
    "assert hmm_testing_acc > 0.955, \"Uh oh. Your HMM accuracy on the testing set doesn't look right.\"\n",
    "HTML('<div class=\"alert alert-block alert-success\">Your add-k HMM tagger accuracy looks correct! </div>')"
   ]
  },
  {
   "cell_type": "markdown",
   "metadata": {},
   "source": [
    "## Baum-Welch algorithm using .fit() and .predict()\n",
    "Here, the treatment of unknown words encountered during testing is not automatic as in the case of using the accuracy() function on basic_model.  Hence, different methods of dealing with unseen words are coded and described below."
   ]
  },
  {
   "cell_type": "code",
   "execution_count": 22,
   "metadata": {},
   "outputs": [
    {
     "name": "stdout",
     "output_type": "stream",
     "text": [
      "5521 56057 1161192\n"
     ]
    }
   ],
   "source": [
    "# explicitly sort the list because the order is important for computing accuracy and pomegranate \n",
    "# does not provide full control on the order of tags.\n",
    "tag_list = list( sorted( data.tagset ) )\n",
    "# find the tag of each word emissions_counts.\n",
    "all_tokens = [ word for word, tag in data.stream()] \n",
    "num_tokens_in_corpus = len( all_tokens)\n",
    "all_word_set = set( all_tokens )\n",
    "num_all_words = len( all_word_set )\n",
    "train_words = [ word for word, tag in data.training_set.stream()]\n",
    "train_tags = [ tag for word, tag in data.training_set.stream()]\n",
    "train_set = set(train_words)\n",
    "test_words = [ word for word, tag in data.testing_set.stream()]\n",
    "test_tags = [ tag for word, tag in data.testing_set.stream()]\n",
    "test_set = set(test_words)\n",
    "unseen = test_set - train_set \n",
    "num_unseen = len( set( unseen))\n",
    "print( num_unseen,  num_all_words, num_tokens_in_corpus)#There are 5521 such words.  There are only 727 word under 'X' in training. "
   ]
  },
  {
   "cell_type": "code",
   "execution_count": 23,
   "metadata": {},
   "outputs": [],
   "source": [
    "# This cell adds Baum-Welch re-estimation\n",
    "\n",
    "BW_model = HiddenMarkovModel(name=\"baum-welch\")\n",
    "\n",
    "# Add states and store them in a dictionary for use while adding transitions\n",
    "# tag_states = {}\n",
    "dist_list = []\n",
    "prob_dictionaries = {}\n",
    "\n",
    "### Method 1: use the regularization seen in Haulrich 2009 (http://stp.lingfil.uu.se/~nivre/statmet/haulrich.pdf)\n",
    "# for tag in tag_list:\n",
    "#     prob_dict = {}\n",
    "#     for word in all_word_set: \n",
    "#         if word in emission_counts[tag].keys():\n",
    "#             prob_dict[ word ] = ( emission_counts[ tag ][ word ] + 1)  /  (tag_unigrams[ tag ] + num_all_words )\n",
    "#         else:\n",
    "#             prob_dict[ word ] = 1 /  (tag_unigrams[ tag ] + num_all_words )\n",
    "#     tag_emissions = DiscreteDistribution( prob_dict  )\n",
    "#     prob_dictionaries[ tag] = prob_dict\n",
    "#     dist_list.append( tag_emissions )\n",
    "\n",
    "    \n",
    "## Method 2: Per tag, divide up a small probability like 1% among all words that were not identified \n",
    "# by this tag in training - a further refinement (method 4) would be to do that for only the open word-classes.\n",
    "# residual_prob = 0.01\n",
    "# for tag in tag_list:\n",
    "#     prob_dict = {}\n",
    "#     this_tag_words = emission_counts[tag].keys()\n",
    "#     num_not_in_tag = num_all_words - len( this_tag_words )\n",
    "# #     print( 'for tag ', tag, 'num_not_in_tag is ', num_not_in_tag )\n",
    "#     for word in all_word_set:\n",
    "#         if word in this_tag_words:\n",
    "#             prob_dict[ word ] = (1 - residual_prob) * emission_counts[ tag ][ word ]  /  tag_unigrams[ tag ] \n",
    "#         else:\n",
    "#             prob_dict[ word ] = residual_prob /  num_not_in_tag          \n",
    "#     tag_emissions = DiscreteDistribution( prob_dict  )\n",
    "#     prob_dictionaries[ tag] = prob_dict\n",
    "#     dist_list.append( tag_emissions )\n",
    "\n",
    "\n",
    "# The section below (method 3) gives better testing accuracy because faux-probabilities are assigned only \n",
    "# to unseen words (not all words) as above.  However, the above is more general, because it accounts for\n",
    "# the case where a word has been seen in training, but not a particular (word, tag) combo.  For example,\n",
    "# ('contest', 'NOUN') may have been seen in training, but ('contest','VERB') may only appear in testing.\n",
    "# accuracy was 97.34% on the training set and 95.38% on the testing set\n",
    "\n",
    "##  Method 3 - don't force non-zero probability for all words in all tags - just the unseeen ones.\n",
    "# \n",
    "for tag in tag_list:\n",
    "    prob_dict = {}\n",
    "    unseen_adj = num_unseen + len( emission_counts[tag] )\n",
    "    for word in emission_counts[tag].keys():\n",
    "            prob_dict[ word ] = ( emission_counts[ tag ][ word ] + 1)  /  (tag_unigrams[ tag ] + unseen_adj )\n",
    "    # now add the unseen words\n",
    "    for word in unseen:\n",
    "        prob_dict[ word ] = 1/ (tag_unigrams[ tag ]  + unseen_adj )\n",
    "    tag_emissions = DiscreteDistribution( prob_dict  )\n",
    "    prob_dictionaries[ tag] = prob_dict\n",
    "    dist_list.append( tag_emissions )\n",
    "\n",
    "## before training iterations, initialize starts and, ends and trans_mat as if you know nothing \n",
    "num_states = len(data.tagset)\n",
    "trans_mat = np.ones(( num_states, num_states)) / ( num_states * num_states)\n",
    "starts = np.ones( num_states )\n",
    "ends = starts\n",
    "BW_model = HiddenMarkovModel.from_matrix(trans_mat, dist_list, starts, ends, state_names = tag_list)\n",
    "BW_model.bake()"
   ]
  },
  {
   "cell_type": "code",
   "execution_count": 24,
   "metadata": {},
   "outputs": [
    {
     "name": "stdout",
     "output_type": "stream",
     "text": [
      ".  emission probabilities sum to: 1.0000\n",
      "ADJ  emission probabilities sum to: 1.0000\n",
      "ADP  emission probabilities sum to: 1.0000\n",
      "ADV  emission probabilities sum to: 1.0000\n",
      "CONJ  emission probabilities sum to: 1.0000\n",
      "DET  emission probabilities sum to: 1.0000\n",
      "NOUN  emission probabilities sum to: 1.0000\n",
      "NUM  emission probabilities sum to: 1.0000\n",
      "PRON  emission probabilities sum to: 1.0000\n",
      "PRT  emission probabilities sum to: 1.0000\n",
      "VERB  emission probabilities sum to: 1.0000\n",
      "X  emission probabilities sum to: 1.0000\n"
     ]
    }
   ],
   "source": [
    "# check that probabilities add up to 1\n",
    "for tag in tag_list:\n",
    "    print(tag, \" emission probabilities sum to: {:.4f}\".format(sum( prob_dictionaries[ tag].values())))"
   ]
  },
  {
   "cell_type": "code",
   "execution_count": 25,
   "metadata": {},
   "outputs": [],
   "source": [
    "# how many words in each dict\n",
    "# for tag in tag_list:\n",
    "#     print( tag, ': words in dict = ', len( prob_dictionaries[ tag ].keys() ) )"
   ]
  },
  {
   "cell_type": "code",
   "execution_count": 26,
   "metadata": {},
   "outputs": [
    {
     "name": "stdout",
     "output_type": "stream",
     "text": [
      ". : 8.110826330986601e-06\n",
      "ADJ : 1.2461680332976099e-05\n",
      "ADP : 8.225442940102325e-06\n",
      "ADV : 1.9057056828143463e-05\n",
      "CONJ : 2.7713881883435412e-05\n",
      "DET : 8.674983083782986e-06\n",
      "NOUN : 3.893808066412791e-06\n",
      "NUM : 5.33447135388883e-05\n",
      "PRON : 2.2228643830439904e-05\n",
      "PRT : 3.358409457281032e-05\n",
      "VERB : 6.169868828588704e-06\n",
      "X : 0.00013620266957232362\n"
     ]
    }
   ],
   "source": [
    "# check how small the probabilities are\n",
    "for tag in tag_list:\n",
    "    print(tag, ':', min(prob_dictionaries[ tag].values()  ))"
   ]
  },
  {
   "cell_type": "code",
   "execution_count": 27,
   "metadata": {},
   "outputs": [],
   "source": [
    "# Noting how an unseen word appears with higher probability in an open word-class rather than a closed word-class\n",
    "# word = 'Alsatians'\n",
    "# for tag in tag_list:\n",
    "#     print( 'probability that ', word, ' is ', tag, ' is ',  prob_dictionaries[tag ][ word ] )"
   ]
  },
  {
   "cell_type": "code",
   "execution_count": 28,
   "metadata": {},
   "outputs": [
    {
     "ename": "KeyError",
     "evalue": "'European'",
     "output_type": "error",
     "traceback": [
      "\u001b[0;31m---------------------------------------------------------------------------\u001b[0m",
      "\u001b[0;31mKeyError\u001b[0m                                  Traceback (most recent call last)",
      "\u001b[0;32mpomegranate/distributions.pyx\u001b[0m in \u001b[0;36mpomegranate.distributions.DiscreteDistribution.from_summaries\u001b[0;34m()\u001b[0m\n",
      "\u001b[0;31mKeyError\u001b[0m: 'European'"
     ]
    },
    {
     "name": "stderr",
     "output_type": "stream",
     "text": [
      "Exception ignored in: 'pomegranate.hmm.HiddenMarkovModel._from_summaries'\n",
      "Traceback (most recent call last):\n",
      "  File \"pomegranate/distributions.pyx\", line 1369, in pomegranate.distributions.DiscreteDistribution.from_summaries\n",
      "KeyError: ('European',)\n"
     ]
    },
    {
     "ename": "KeyError",
     "evalue": "'European'",
     "output_type": "error",
     "traceback": [
      "\u001b[0;31m---------------------------------------------------------------------------\u001b[0m",
      "\u001b[0;31mKeyError\u001b[0m                                  Traceback (most recent call last)",
      "\u001b[0;32mpomegranate/distributions.pyx\u001b[0m in \u001b[0;36mpomegranate.distributions.DiscreteDistribution.from_summaries\u001b[0;34m()\u001b[0m\n",
      "\u001b[0;31mKeyError\u001b[0m: 'European'"
     ]
    },
    {
     "name": "stderr",
     "output_type": "stream",
     "text": [
      "Exception ignored in: 'pomegranate.hmm.HiddenMarkovModel._from_summaries'\n",
      "Traceback (most recent call last):\n",
      "  File \"pomegranate/distributions.pyx\", line 1369, in pomegranate.distributions.DiscreteDistribution.from_summaries\n",
      "KeyError: ('European',)\n"
     ]
    },
    {
     "data": {
      "text/plain": [
       "2780840.0759774633"
      ]
     },
     "execution_count": 28,
     "metadata": {},
     "output_type": "execute_result"
    }
   ],
   "source": [
    "# fitting\n",
    "BW_model.fit(sequences = data.training_set.X, algorithm='baum-welch', min_iterations=1,max_iterations=1)\n",
    "# Note that the word about which it complains is a word that does appear in training.  So the pomegranate exception is a \n",
    "# little perplexing. It's not from unseen words\n",
    "# The message says this is 'ignored', that is, it is non-fatal"
   ]
  },
  {
   "cell_type": "markdown",
   "metadata": {},
   "source": [
    "Exceptions ignored"
   ]
  },
  {
   "cell_type": "code",
   "execution_count": 29,
   "metadata": {},
   "outputs": [],
   "source": [
    "#function for computing accuracy    \n",
    "def BW_acc( xarr, yarr, model ):\n",
    "    total_test_words = 0\n",
    "    correct = 0\n",
    "    for i in range(len(xarr)):\n",
    "        seq = xarr[i]\n",
    "        algorithm = 'map'\n",
    "        tag_int = model.predict( sequence = seq, algorithm=algorithm )\n",
    "        if algorithm=='viterbi':\n",
    "            tag_int=tag_int[1:-1]\n",
    "        pred_tags = [tag_list[ tag_int[idx] ] for idx in range(len(tag_int)) ]\n",
    "        labelled = yarr[i]\n",
    "        assert len(xarr[i])==len(labelled), 'unequal length of x and y'\n",
    "        assert len(pred_tags)==len(labelled), 'unequal length of pred and y'\n",
    "        for j in range(len(pred_tags)):\n",
    "            total_test_words += 1\n",
    "            if pred_tags[j]==labelled[j]: \n",
    "                correct +=1\n",
    "    return correct /total_test_words"
   ]
  },
  {
   "cell_type": "code",
   "execution_count": 30,
   "metadata": {},
   "outputs": [
    {
     "name": "stdout",
     "output_type": "stream",
     "text": [
      "testing accuracy BW hmm model: 97.33%\n"
     ]
    }
   ],
   "source": [
    "BW_training_acc = BW_acc( data.training_set.X, data.training_set.Y, BW_model)\n",
    "print(\"testing accuracy BW hmm model: {:.2f}%\".format(100 * BW_training_acc))"
   ]
  },
  {
   "cell_type": "code",
   "execution_count": 31,
   "metadata": {},
   "outputs": [
    {
     "name": "stdout",
     "output_type": "stream",
     "text": [
      "testing accuracy BW hmm model: 95.38%\n"
     ]
    }
   ],
   "source": [
    "BW_testing_acc = BW_acc( data.testing_set.X, data.testing_set.Y, BW_model)\n",
    "print(\"testing accuracy BW hmm model: {:.2f}%\".format(100 * BW_testing_acc))"
   ]
  },
  {
   "cell_type": "markdown",
   "metadata": {},
   "source": [
    "__Some notes__ This is tiny bit smaller accuracy than basic_model, but remember that the label information did not go into the training of the probabilities directly during Baum-Welch (although, the computation of the emission probabilities did involve seeing the labels)."
   ]
  },
  {
   "cell_type": "markdown",
   "metadata": {},
   "source": [
    "### Example Decoding Sequences with the HMM Tagger"
   ]
  },
  {
   "cell_type": "code",
   "execution_count": 32,
   "metadata": {},
   "outputs": [
    {
     "name": "stdout",
     "output_type": "stream",
     "text": [
      "Sentence Key: b100-28144\n",
      "\n",
      "Predicted labels:\n",
      "-----------------\n",
      "['CONJ', 'NOUN', 'NUM', '.', 'NOUN', 'NUM', '.', 'NOUN', 'NUM', '.', 'CONJ', 'NOUN', 'NUM', '.', '.', 'NOUN', '.', '.']\n",
      "\n",
      "Actual labels:\n",
      "--------------\n",
      "('CONJ', 'NOUN', 'NUM', '.', 'NOUN', 'NUM', '.', 'NOUN', 'NUM', '.', 'CONJ', 'NOUN', 'NUM', '.', '.', 'NOUN', '.', '.')\n",
      "\n",
      "\n",
      "Sentence Key: b100-23146\n",
      "\n",
      "Predicted labels:\n",
      "-----------------\n",
      "['PRON', 'VERB', 'DET', 'NOUN', 'ADP', 'ADJ', 'ADJ', 'NOUN', 'VERB', 'VERB', '.', 'ADP', 'VERB', 'DET', 'NOUN', 'ADP', 'NOUN', 'ADP', 'DET', 'NOUN', '.']\n",
      "\n",
      "Actual labels:\n",
      "--------------\n",
      "('PRON', 'VERB', 'DET', 'NOUN', 'ADP', 'ADJ', 'ADJ', 'NOUN', 'VERB', 'VERB', '.', 'ADP', 'VERB', 'DET', 'NOUN', 'ADP', 'NOUN', 'ADP', 'DET', 'NOUN', '.')\n",
      "\n",
      "\n",
      "Sentence Key: b100-35462\n",
      "\n",
      "Predicted labels:\n",
      "-----------------\n",
      "['DET', 'ADJ', 'NOUN', 'VERB', 'VERB', 'VERB', 'ADP', 'DET', 'ADJ', 'ADJ', 'NOUN', 'ADP', 'DET', 'ADJ', 'NOUN', '.', 'ADP', 'ADJ', 'NOUN', '.', 'CONJ', 'ADP', 'DET', 'NOUN', 'ADP', 'ADJ', 'ADJ', '.', 'ADJ', '.', 'CONJ', 'ADJ', 'NOUN', 'ADP', 'ADJ', 'NOUN', '.']\n",
      "\n",
      "Actual labels:\n",
      "--------------\n",
      "('DET', 'ADJ', 'NOUN', 'VERB', 'VERB', 'VERB', 'ADP', 'DET', 'ADJ', 'ADJ', 'NOUN', 'ADP', 'DET', 'ADJ', 'NOUN', '.', 'ADP', 'ADJ', 'NOUN', '.', 'CONJ', 'ADP', 'DET', 'NOUN', 'ADP', 'ADJ', 'ADJ', '.', 'ADJ', '.', 'CONJ', 'ADJ', 'NOUN', 'ADP', 'ADJ', 'NOUN', '.')\n",
      "\n",
      "\n"
     ]
    }
   ],
   "source": [
    "for key in data.testing_set.keys[:3]:\n",
    "    print(\"Sentence Key: {}\\n\".format(key))\n",
    "    print(\"Predicted labels:\\n-----------------\")\n",
    "    print(simplify_decoding(data.sentences[key].words, basic_model))\n",
    "    print()\n",
    "    print(\"Actual labels:\\n--------------\")\n",
    "    print(data.sentences[key].tags)\n",
    "    print(\"\\n\")"
   ]
  },
  {
   "cell_type": "markdown",
   "metadata": {},
   "source": [
    "## Obtain the Brown Corpus with a Larger Tagset\n",
    "Run the code below to download a copy of the brown corpus with the full NLTK tagset. You will need to research the available tagset information in the NLTK docs and determine the best way to extract the subset of NLTK tags you want to explore. If you write the following the format specified in Step 1, then you can reload the data using all of the code above for comparison.\n",
    "\n",
    "Refer to [Chapter 5](http://www.nltk.org/book/ch05.html) of the NLTK book for more information on the available tagsets."
   ]
  },
  {
   "cell_type": "code",
   "execution_count": 33,
   "metadata": {},
   "outputs": [
    {
     "name": "stdout",
     "output_type": "stream",
     "text": [
      "[nltk_data] Downloading package brown to /home/thojo/nltk_data...\n",
      "[nltk_data]   Package brown is already up-to-date!\n"
     ]
    }
   ],
   "source": [
    "import nltk\n",
    "from nltk import pos_tag, word_tokenize\n",
    "from nltk.corpus import brown\n",
    "\n",
    "nltk.download('brown')\n",
    "training_corpus = nltk.corpus.brown\n",
    "# training_corpus.tagged_sent/////s()[0]"
   ]
  },
  {
   "cell_type": "code",
   "execution_count": 34,
   "metadata": {},
   "outputs": [
    {
     "name": "stdout",
     "output_type": "stream",
     "text": [
      "[nltk_data] Downloading package universal_tagset to\n",
      "[nltk_data]     /home/thojo/nltk_data...\n",
      "[nltk_data]   Package universal_tagset is already up-to-date!\n"
     ]
    }
   ],
   "source": [
    "nltk.download('universal_tagset')\n",
    "bsent = brown.tagged_sents( tagset='universal')\n",
    "btrainX = [[word for (word, tag) in seq ] for seq in bsent]\n",
    "btrainY = [[tag for (word, tag) in seq ] for seq in bsent]"
   ]
  },
  {
   "cell_type": "code",
   "execution_count": 35,
   "metadata": {},
   "outputs": [],
   "source": [
    "brown_emission_counts = pair_counts( btrainY, btrainX)\n",
    "brown_tag_starts = starting_counts( btrainY )\n",
    "brown_tag_ends = ending_counts( btrainY )\n",
    "brown_tag_unigrams = unigram_counts( btrainY )\n",
    "brown_tag_bigrams = bigram_counts( btrainY )"
   ]
  },
  {
   "cell_type": "code",
   "execution_count": 36,
   "metadata": {},
   "outputs": [
    {
     "data": {
      "text/html": [
       "<div class=\"alert alert-block alert-success\">Your add-k smoothed HMM network topology for the full Brown corpus looks good!</div>"
      ],
      "text/plain": [
       "<IPython.core.display.HTML object>"
      ]
     },
     "execution_count": 36,
     "metadata": {},
     "output_type": "execute_result"
    }
   ],
   "source": [
    "# train a model on the full corpus, use add-k smoothing\n",
    "brown_addk_model = HiddenMarkovModel(name=\"brown_addk-smoothed-hmm-tagger\")\n",
    "\n",
    "# done: create states with emission probability distributions P(word | tag) and add to the model\n",
    "\n",
    "tag_states = {} #dictionary in which to store states\n",
    "for tag in tag_list:\n",
    "    prob_dict = {}\n",
    "    for word in emission_counts[tag].keys():\n",
    "        prob_dict[ word ] = brown_emission_counts[ tag ][ word ]  /  brown_tag_unigrams[ tag ] \n",
    "    tag_emissions = DiscreteDistribution( prob_dict  )\n",
    "    tag_states[ tag ] = State( tag_emissions, name=tag)\n",
    "    brown_addk_model.add_state( tag_states[ tag ]  )\n",
    "    \n",
    "total  = sum( brown_tag_starts.values())\n",
    "# Sanity checks\n",
    "assert total  == sum( brown_tag_ends.values()), 'different total numbers for starts and ends'\n",
    "assert total  == len( btrainX ), 'total starts different from number of sequences'\n",
    "\n",
    "# Adding optional add-k smoothing with parameter k (k=1 is Laplace smoothing)\n",
    "k = 100 #not perceptible difference by smoothing with k=1.  \n",
    "num_tags = len( tag_list )\n",
    "\n",
    "for tag in tag_list:\n",
    "    # First add the starting and ending transitions\n",
    "    brown_addk_model.add_transition( brown_addk_model.start, tag_states[ tag ], (brown_tag_starts[ tag ] + k)  / ( total + k*num_tags) )\n",
    "    brown_addk_model.add_transition( tag_states[ tag ], brown_addk_model.end, (brown_tag_ends[ tag ] + k)   / (total + k*num_tags ) )\n",
    "\n",
    "    # Now, add the transitions between the tag and tag2\n",
    "    total_transitions_from_tag = 0\n",
    "    for tag2 in tag_list:\n",
    "        total_transitions_from_tag += brown_tag_bigrams[ ( tag, tag2) ]\n",
    "    for tag2 in tag_list:        \n",
    "        # P(tag_i = tag2 | tag_i-1 = tag)\n",
    "        trans_prob = ( brown_tag_bigrams[ ( tag, tag2) ] + k ) / ( total_transitions_from_tag + k*num_tags)\n",
    "        brown_addk_model.add_transition( tag_states[ tag ], tag_states[ tag2 ], trans_prob )\n",
    "                                         \n",
    "brown_addk_model.bake()\n",
    "\n",
    "\n",
    "assert all(tag in set(s.name for s in brown_addk_model.states) for tag in data.tagset), \\\n",
    "       \"Every state in your network should use the name of the associated tag, which must be one of the training set tags.\"\n",
    "assert brown_addk_model.edge_count() == 168, \\\n",
    "       (\"Your network should have an edge from the start node to each state, one edge between every \" +\n",
    "        \"pair of tags (states), and an edge from each state to the end node.\")\n",
    "HTML('<div class=\"alert alert-block alert-success\">Your add-k smoothed HMM network topology for the full Brown corpus looks good!</div>')"
   ]
  },
  {
   "cell_type": "code",
   "execution_count": 37,
   "metadata": {},
   "outputs": [
    {
     "name": "stdout",
     "output_type": "stream",
     "text": [
      "testing accuracy BW hmm model: 97.26%\n"
     ]
    }
   ],
   "source": [
    "Brown_training_acc = accuracy( btrainX, btrainY, brown_addk_model)\n",
    "print(\"testing accuracy BW hmm model: {:.2f}%\".format(100 * Brown_training_acc))"
   ]
  },
  {
   "cell_type": "code",
   "execution_count": 38,
   "metadata": {},
   "outputs": [
    {
     "name": "stdout",
     "output_type": "stream",
     "text": [
      "testing accuracy BW hmm model: 96.05%\n"
     ]
    }
   ],
   "source": [
    "Brown_testing_acc = accuracy( data.testing_set.X, data.testing_set.Y, brown_addk_model)\n",
    "print(\"testing accuracy BW hmm model: {:.2f}%\".format(100 * Brown_testing_acc))"
   ]
  },
  {
   "cell_type": "markdown",
   "metadata": {},
   "source": [
    "__Improved accuracy__ \n",
    "Training on the full brown corpus has raised accuracy slightly, by 0.10% ( 0.09% with k=1) on the same testing set as the basic_model "
   ]
  },
  {
   "cell_type": "markdown",
   "metadata": {},
   "source": [
    "# Implement back-off smoothing\n"
   ]
  },
  {
   "cell_type": "markdown",
   "metadata": {},
   "source": [
    "### Backoff smoothing  model in the cell below.\n",
    "\n",
    "Using the method of deleted interpolation by Jelinek and Mercer (1980) from Jurafsky and Martin's book\n",
    "\n",
    "$$P(t_i |t_{i−1} ) =  λ_2 P̂(t_i |t_{i−1} ) + λ_1 P̂(t_i )$$\n",
    "\n",
    "Choose $\\lambda_1, \\lambda_2 $ satisfying $$\\lambda_1 + \\lambda_2 = 1$$ using the algorithm below"
   ]
  },
  {
   "cell_type": "code",
   "execution_count": 39,
   "metadata": {},
   "outputs": [
    {
     "name": "stdout",
     "output_type": "stream",
     "text": [
      "lambda1 = 0.22 , lambda2 = 0.78\n"
     ]
    }
   ],
   "source": [
    "L1 = L2 = 0\n",
    "for bigram in tag_bigrams.keys(): #i.e. if the bigram has already been encountered in training\n",
    "    (tag1, tag2 ) = bigram\n",
    "    unigram_frac = (tag_unigrams[ tag2 ] - 1 )/ (num_tokens_in_corpus - 1)\n",
    "    bigram_frac = (tag_bigrams[ (tag1, tag2) ] - 1 )/ ( tag_unigrams[ tag1 ] - 1)\n",
    "    # we know there are no counts less than one in bigrams for this dataset (otherwise, we'd adjust above to make sure no denominator is zero)\n",
    "    largest = np.amax([ unigram_frac, bigram_frac])\n",
    "    if largest == bigram_frac:\n",
    "            L2 += tag_bigrams[ (tag1, tag2) ]\n",
    "    elif largest == unigram_frac:\n",
    "                L1 += tag_bigrams[ (tag1, tag2) ]\n",
    "#normalized\n",
    "L1, L2 = L1/(L1+L2), L2/(L1+L2)\n",
    "print('lambda1 = {:.2f}'.format(L1), ', lambda2 = {:.2f}'.format(L2))"
   ]
  },
  {
   "cell_type": "code",
   "execution_count": 40,
   "metadata": {},
   "outputs": [],
   "source": [
    "# model = HiddenMarkovModel(name=\"backoff-hmm-tagger\")\n",
    "\n",
    "# done: create states with emission probability distributions P(word | tag) and add to the model\n",
    "\n",
    "# Add states and store them in a dictionary for use while adding transitions\n",
    "tag_states = {}\n",
    "for tag in data.tagset:\n",
    "    prob_dict = {}\n",
    "    for word in emission_counts[tag].keys():\n",
    "        prob_dict[ word ] = emission_counts[ tag ][ word ]  /  tag_unigrams[ tag ] \n",
    "    tag_emissions = DiscreteDistribution( prob_dict  )\n",
    "    tag_states[ tag ] = State( tag_emissions, name=tag)\n",
    "    model.add_state( tag_states[ tag ]  )\n",
    "    \n",
    "# add starting and ending tags\n",
    "# done: add edges between states for the observed transition frequencies P(tag_i | tag_i-1)\n",
    "\n",
    "\n",
    "total  = sum( tag_starts.values())\n",
    "# Sanity checks\n",
    "assert total  == sum( tag_ends.values()), 'different total numbers for starts and ends'\n",
    "assert total  == len( data.training_set.X ), 'total starts different from number of sequences'\n",
    "\n",
    "\n",
    "for tag in data.tagset:\n",
    "    # First add the starting and ending transitions\n",
    "    model.add_transition( model.start, tag_states[ tag ], tag_starts[ tag ]  /  total  )\n",
    "    model.add_transition( tag_states[ tag ], model.end, tag_ends[ tag ]  / total )\n",
    "\n",
    "    # Now, add the transitions between the tag and tag2\n",
    "\n",
    "    total_transitions_from_tag = 0\n",
    "    for tag2 in data.tagset:\n",
    "        total_transitions_from_tag += tag_bigrams[ ( tag, tag2) ]\n",
    "    for tag2 in data.tagset:        \n",
    "        # P(tag_i = tag2 | tag_i-1 = tag)\n",
    "        bigram_prob =  tag_bigrams[ ( tag, tag2) ] /  total_transitions_from_tag\n",
    "        unigram_prob = tag_unigrams[ tag2 ] / num_tokens_in_corpus\n",
    "        trans_prob =  L1 * unigram_prob + L2 * bigram_prob                                           \n",
    "        model.add_transition( tag_states[ tag ], tag_states[ tag2 ], trans_prob )\n",
    "                                         \n",
    "model.bake()"
   ]
  },
  {
   "cell_type": "code",
   "execution_count": 41,
   "metadata": {},
   "outputs": [
    {
     "name": "stdout",
     "output_type": "stream",
     "text": [
      "training accuracy basic hmm model: 97.44%\n"
     ]
    }
   ],
   "source": [
    "training_acc = accuracy(data.training_set.X, data.training_set.Y, model)\n",
    "print(\"training accuracy basic hmm model: {:.2f}%\".format(100 * training_acc))"
   ]
  },
  {
   "cell_type": "code",
   "execution_count": 42,
   "metadata": {},
   "outputs": [
    {
     "name": "stdout",
     "output_type": "stream",
     "text": [
      "testing accuracy basic hmm model: 95.92%\n"
     ]
    }
   ],
   "source": [
    "testing_acc = accuracy(data.testing_set.X, data.testing_set.Y, model)\n",
    "print(\"testing accuracy basic hmm model: {:.2f}%\".format(100 * testing_acc))"
   ]
  },
  {
   "cell_type": "markdown",
   "metadata": {},
   "source": [
    "__Project note__ \n",
    "This is only a partial use of the back-off smoothing.  Full use would be in using L1 and L2 during the prediction step too (which is abstracted away in pomegranate). To use this in prediction (and gain the full benefit of the treatment of unseen bigrams using back-off), hand-coding the Viterbi perdiction seems necessary."
   ]
  },
  {
   "cell_type": "markdown",
   "metadata": {},
   "source": [
    "__Question for reviewer__ I'd appreciate any suggestion (if there is one) on how to implement back-off smoothing using an off-the shelf package (without having to code up an algorithm to do the prediction for the HMM).  Thank you.  "
   ]
  },
  {
   "cell_type": "markdown",
   "metadata": {},
   "source": [
    "## can do this for trigrams too\n",
    "Here we use trigrams to determine transition probability and if no trigram is available, use a bigram and if that's not available, use a unigram.  The MLE of probabilities can be computed as below, but the model needs a 3-D transition probability matrix.  Pomegranate is not equipped to handle that.  So, I shall leave that out.  Kneyser-Ney is known to be better than this linear interpolation for trigrams anyway."
   ]
  },
  {
   "cell_type": "code",
   "execution_count": 43,
   "metadata": {},
   "outputs": [],
   "source": [
    "def trigram_counts(sequences):\n",
    "    \"\"\"Return a dictionary keyed to each unique TRIPLET of values in the input sequences\n",
    "    list that counts the number of occurrences of pair in the sequences list. The input\n",
    "    should be a 2-dimensional array.\n",
    "    \n",
    "    For example, if the pair of tags (NOUN, ADV, VERB, ) appears 582 times, then you should\n",
    "    return a dictionary such that your_trigram_counts[(NOUN, ADV, VERB)] == 582\n",
    "    \"\"\"\n",
    "\n",
    "    count_trigram = defaultdict(int)\n",
    "    \n",
    "    for i in range( len(sequences) ):\n",
    "        seq = sequences[i]\n",
    "        if len(seq) > 2:\n",
    "            for j in range( len(seq) - 2):\n",
    "                triple = (seq[j], seq[j+1], seq[j+2])\n",
    "                count_trigram[ triple ] += 1\n",
    "    return count_trigram\n",
    "\n",
    "# done: call bigram_counts with a list of tag sequences from the training set\n",
    "tag_trigrams = trigram_counts( data.training_set.Y ) # on this dataset, this created counts for 1464 trigrams"
   ]
  },
  {
   "cell_type": "markdown",
   "metadata": {},
   "source": [
    "### Showing computation of smoothing parameters for trigram model in the cell below (cannot implement in pomegranate)\n",
    "\n",
    "Using the method of deleted interpolation by Jelinek and Mercer (1980) from Jurafsky and Martin's book\n",
    "\n",
    "$$P(t_i |t_{i−1} t_{i−2} ) = λ_3 P̂(t_i |t_{i−1} t_{i−2} ) + λ_2 P̂(t_i |t_{i−1} ) + λ_1 P̂(t_i )$$\n",
    "\n",
    "Choose $\\lambda_1, \\lambda_2, \\lambda_3$ satisfying $$\\lambda_1 + \\lambda_2 + \\lambda_3 = 1$$ using the algorithm below"
   ]
  },
  {
   "cell_type": "code",
   "execution_count": 44,
   "metadata": {},
   "outputs": [
    {
     "name": "stdout",
     "output_type": "stream",
     "text": [
      "for this dataset, T1= 0.08 , T2= 0.47  and T3= 0.45\n"
     ]
    }
   ],
   "source": [
    "T1 = T2 = T3 = 0\n",
    "for triple in tag_trigrams.keys():\n",
    "    (tag1, tag2, tag3) = triple\n",
    "\n",
    "    unigram_frac = (tag_unigrams[ tag3 ] - 1 )/ (num_tokens_in_corpus - 1)\n",
    "    bigram_frac = (tag_bigrams[ (tag2, tag3) ] - 1 )/ ( tag_unigrams[ tag2 ] - 1)\n",
    "    # we know there are no zero counts in unigrams and bigrams for this dataset\n",
    "    if tag_bigrams[ (tag2, tag3) ] > 1:\n",
    "        trigram_frac = (tag_trigrams[ (tag1, tag2, tag3) ] - 1 )/ ( tag_bigrams[ (tag2, tag3) ] - 1)\n",
    "    else:\n",
    "        trigram_frac = 0\n",
    "    largest = np.amax([ unigram_frac, bigram_frac, trigram_frac])\n",
    "    if largest == trigram_frac:\n",
    "        T3 += tag_trigrams[ (tag1, tag2, tag3) ]\n",
    "    elif largest == bigram_frac:\n",
    "            T2 += tag_trigrams[ (tag1, tag2, tag3) ]\n",
    "    elif largest == unigram_frac:\n",
    "                T1 += tag_trigrams[ (tag1, tag2, tag3) ]\n",
    "#normalized\n",
    "T1, T2, T3 = T1/(T1+T2+T3), T2/(T1+T2+T3), T3/(T1+T2+T3)\n",
    "print('for this dataset, T1= {:.2f}'.format(T1), ', T2= {:.2f}'.format(T2),' and T3= {:.2f}'.format(T3))"
   ]
  },
  {
   "cell_type": "markdown",
   "metadata": {},
   "source": [
    "__notes__ Unfortunately, cannot implement 3-dimensional context matrix (transition matrix) in Pomegranate"
   ]
  },
  {
   "cell_type": "markdown",
   "metadata": {},
   "source": [
    "\n",
    "## Finishing the project\n",
    "---\n",
    "\n",
    "<div class=\"alert alert-block alert-info\">\n",
    "**Note:** **SAVE YOUR NOTEBOOK**, then run the next cell to generate an HTML copy. You will zip & submit both this file and the HTML copy for review.\n",
    "</div>"
   ]
  },
  {
   "cell_type": "code",
   "execution_count": 45,
   "metadata": {},
   "outputs": [
    {
     "data": {
      "text/plain": [
       "['[NbConvertApp] Converting notebook HMM_Tagger.ipynb to html',\n",
       " '[NbConvertApp] Writing 440005 bytes to HMM_Tagger.html']"
      ]
     },
     "execution_count": 45,
     "metadata": {},
     "output_type": "execute_result"
    }
   ],
   "source": [
    "!!jupyter nbconvert HMM_Tagger.ipynb"
   ]
  }
 ],
 "metadata": {
  "kernelspec": {
   "display_name": "Python 3",
   "language": "python",
   "name": "python3"
  },
  "language_info": {
   "codemirror_mode": {
    "name": "ipython",
    "version": 3
   },
   "file_extension": ".py",
   "mimetype": "text/x-python",
   "name": "python",
   "nbconvert_exporter": "python",
   "pygments_lexer": "ipython3",
   "version": "3.6.5"
  }
 },
 "nbformat": 4,
 "nbformat_minor": 2
}
